{
 "cells": [
  {
   "cell_type": "markdown",
   "metadata": {},
   "source": [
    "\n",
    "## Mean, Median, Mode\n",
    "1. **Mean**: Other name of the mean is simply average. You can find mean by sum of all element divided by number of elements.\n",
    "\n",
    "$ \\overline{x}  = \\displaystyle\\sum_{k=1}^n x_i$"
   ]
  },
  {
   "cell_type": "code",
   "execution_count": 3,
   "metadata": {},
   "outputs": [],
   "source": [
    "import numpy as np"
   ]
  },
  {
   "cell_type": "code",
   "execution_count": 9,
   "metadata": {},
   "outputs": [
    {
     "name": "stdout",
     "output_type": "stream",
     "text": [
      "Mean = 35.0\n"
     ]
    }
   ],
   "source": [
    "data = [10,20,30,40,50,60]\n",
    "mean_value = np.mean(data)\n",
    "print(f\"Mean = {mean_value}\")"
   ]
  },
  {
   "cell_type": "markdown",
   "metadata": {},
   "source": [
    "2. **Median**: This is middle of data when dataset arranged in ascending order\n",
    "\n",
    "When Number of elements are odd: $ M  = (n+1/2)th $             \n",
    "When Number of elements are even: $ M  = ((n/2)th+(n/2+1)th)/2 $"
   ]
  },
  {
   "cell_type": "code",
   "execution_count": 12,
   "metadata": {},
   "outputs": [
    {
     "name": "stdout",
     "output_type": "stream",
     "text": [
      "Median when even elements = 35.0\n",
      "Median when odd elements = 40.0\n"
     ]
    }
   ],
   "source": [
    "data1 = [10,20,30,40,50,60]\n",
    "med_value1 = np.median(data1)\n",
    "print(f\"Median when even elements = {med_value1}\")\n",
    "\n",
    "data2 = [10,20,30,40,50,60,70]\n",
    "med_value2 = np.median(data2)\n",
    "print(f\"Median when odd elements = {med_value2}\")"
   ]
  },
  {
   "cell_type": "markdown",
   "metadata": {},
   "source": [
    "3. **Mode**: Mode is number in dataset which appears most often"
   ]
  },
  {
   "cell_type": "code",
   "execution_count": 15,
   "metadata": {},
   "outputs": [],
   "source": [
    "import statistics"
   ]
  },
  {
   "cell_type": "code",
   "execution_count": 16,
   "metadata": {},
   "outputs": [
    {
     "name": "stdout",
     "output_type": "stream",
     "text": [
      "Mode = 7\n"
     ]
    }
   ],
   "source": [
    "data3 = [ 1, 1, 3, 5, 6, 6, 7, 7, 7, 8]\n",
    "mode_value = statistics.mode(data3)\n",
    "print(f\"Mode = {mode_value}\")"
   ]
  },
  {
   "cell_type": "markdown",
   "metadata": {},
   "source": [
    "## Variance\n",
    "\n",
    "### Type of variance\n",
    "\n",
    "## Random Variables\n",
    "\n",
    "## Standard Daviation\n",
    "\n",
    "## Normal Distribution"
   ]
  }
 ],
 "metadata": {
  "kernelspec": {
   "display_name": "Python 3",
   "language": "python",
   "name": "python3"
  },
  "language_info": {
   "codemirror_mode": {
    "name": "ipython",
    "version": 3
   },
   "file_extension": ".py",
   "mimetype": "text/x-python",
   "name": "python",
   "nbconvert_exporter": "python",
   "pygments_lexer": "ipython3",
   "version": "3.13.1"
  }
 },
 "nbformat": 4,
 "nbformat_minor": 2
}
