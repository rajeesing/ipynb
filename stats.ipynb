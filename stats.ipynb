
## Mean, Median, Mode

## Variance

### Type of variance

## Random Variables

## Standard Daviation

## Normal Distribution




