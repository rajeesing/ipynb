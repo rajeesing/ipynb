{
 "cells": [
  {
   "cell_type": "markdown",
   "metadata": {},
   "source": [
    "\n",
    "## Mean, Median, Mode\n",
    "1. **Mean**: Other name of the mean is simply average. You can find mean by sum of all element divided by number of elements.\n",
    "\n",
    "## $ \\overline{x}  = \\displaystyle\\sum_{k=1}^n x_i$"
   ]
  },
  {
   "cell_type": "code",
   "execution_count": 3,
   "metadata": {},
   "outputs": [],
   "source": [
    "import numpy as np"
   ]
  },
  {
   "cell_type": "code",
   "execution_count": 9,
   "metadata": {},
   "outputs": [
    {
     "name": "stdout",
     "output_type": "stream",
     "text": [
      "Mean = 35.0\n"
     ]
    }
   ],
   "source": [
    "data = [10,20,30,40,50,60]\n",
    "mean_value = np.mean(data)\n",
    "print(f\"Mean = {mean_value}\")"
   ]
  },
  {
   "cell_type": "markdown",
   "metadata": {},
   "source": [
    "2. **Median**: This is middle of data when dataset arranged in ascending order\n",
    "\n",
    "When Number of elements are odd: $ M  = (n+1/2)th $             \n",
    "When Number of elements are even: $ M  = ((n/2)th+(n/2+1)th)/2 $"
   ]
  },
  {
   "cell_type": "code",
   "execution_count": 12,
   "metadata": {},
   "outputs": [
    {
     "name": "stdout",
     "output_type": "stream",
     "text": [
      "Median when even elements = 35.0\n",
      "Median when odd elements = 40.0\n"
     ]
    }
   ],
   "source": [
    "data1 = [10,20,30,40,50,60]\n",
    "med_value1 = np.median(data1)\n",
    "print(f\"Median when even elements = {med_value1}\")\n",
    "\n",
    "data2 = [10,20,30,40,50,60,70]\n",
    "med_value2 = np.median(data2)\n",
    "print(f\"Median when odd elements = {med_value2}\")"
   ]
  },
  {
   "cell_type": "markdown",
   "metadata": {},
   "source": [
    "3. **Mode**: Mode is number in dataset which appears most often"
   ]
  },
  {
   "cell_type": "code",
   "execution_count": 15,
   "metadata": {},
   "outputs": [],
   "source": [
    "import statistics"
   ]
  },
  {
   "cell_type": "code",
   "execution_count": 16,
   "metadata": {},
   "outputs": [
    {
     "name": "stdout",
     "output_type": "stream",
     "text": [
      "Mode = 7\n"
     ]
    }
   ],
   "source": [
    "data3 = [ 1, 1, 3, 5, 6, 6, 7, 7, 7, 8]\n",
    "mode_value = statistics.mode(data3)\n",
    "print(f\"Mode = {mode_value}\")"
   ]
  },
  {
   "cell_type": "markdown",
   "metadata": {},
   "source": [
    "## Variance\n",
    "Variance tells you the degree of spread in your data set. The more spread shows the highest variance in relation to the mean.\n",
    "\n",
    "## $\\sigma^2 = \\frac{\\displaystyle\\sum_{i=1}^n (x_i-\\mu)^2}{n}$\n",
    "\n",
    "### Sample Variance\n",
    "This is basically small portion of sample data from big variance. Like population, instead of considering whole population, consider taking small population for calculation.\n",
    "\n",
    "### $s^2 = \\frac{\\displaystyle\\sum_{i=1}^n (x_i-\\overline{x})}{n-1}$"
   ]
  },
  {
   "cell_type": "code",
   "execution_count": 17,
   "metadata": {},
   "outputs": [
    {
     "name": "stdout",
     "output_type": "stream",
     "text": [
      "Variance of set1 = 1.0\n",
      "Variance of set2 = 16.0\n"
     ]
    }
   ],
   "source": [
    "set1=[4,6]\n",
    "set2=[1,9]\n",
    "\n",
    "'''\n",
    "mean = (4+6)/2 = 5\n",
    "variance = ((4-5)^2 + (6-5)^2)/2 = 1\n",
    "\n",
    "mean = (1+9)/2 = 5\n",
    "variance = ((1-5)^2 + (9-5)^2)/2 = 16\n",
    "'''\n",
    "\n",
    "variance1 = np.var(set1)\n",
    "variance2 = np.var(set2)\n",
    "print(f\"Variance of set1 = {variance1}\")\n",
    "print(f\"Variance of set2 = {variance2}\")"
   ]
  },
  {
   "cell_type": "markdown",
   "metadata": {},
   "source": [
    "## Standard Daviation\n",
    "\n",
    "Mean of (0,1, 99,100) is 50\n",
    "\n",
    "Mean of (50,50,50,50) is also 50\n",
    "\n",
    "But you can probably see that for the first data, the mean of 50 would not be of as importance, unless we also add some information about how much do the actual data points 'deviate' from the mean.\n",
    "\n",
    "Standard deviation is intuitively the measure of how 'scattered' the actual data is about the mean value.\n",
    "\n",
    "So the first dataset would have a large SD (cuz all values are very far from 50) and the second dataset literally has 0 SD\n",
    "\n",
    "For standard daviation, you need to add square root to variance. So your equation will look like\n",
    "\n",
    "### For variance: $\\sqrt {\\sigma^2}$ or for sample variance: $\\sqrt {s^2}$\n"
   ]
  },
  {
   "cell_type": "markdown",
   "metadata": {},
   "source": [
    "## Normal Distribution"
   ]
  }
 ],
 "metadata": {
  "kernelspec": {
   "display_name": "Python 3",
   "language": "python",
   "name": "python3"
  },
  "language_info": {
   "codemirror_mode": {
    "name": "ipython",
    "version": 3
   },
   "file_extension": ".py",
   "mimetype": "text/x-python",
   "name": "python",
   "nbconvert_exporter": "python",
   "pygments_lexer": "ipython3",
   "version": "3.13.1"
  }
 },
 "nbformat": 4,
 "nbformat_minor": 2
}
