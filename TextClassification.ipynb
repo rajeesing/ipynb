{
 "cells": [
  {
   "cell_type": "code",
   "execution_count": null,
   "metadata": {},
   "outputs": [],
   "source": [
    "pip install sklearn"
   ]
  },
  {
   "cell_type": "code",
   "execution_count": null,
   "metadata": {},
   "outputs": [],
   "source": [
    "pip install spacy  #for advanced Natural Language Processing (NLP)\n"
   ]
  },
  {
   "cell_type": "code",
   "execution_count": null,
   "metadata": {},
   "outputs": [],
   "source": [
    "pip install nltk # string processing library"
   ]
  },
  {
   "cell_type": "code",
   "execution_count": 9,
   "metadata": {},
   "outputs": [],
   "source": [
    "import nltk"
   ]
  },
  {
   "cell_type": "code",
   "execution_count": null,
   "metadata": {},
   "outputs": [],
   "source": [
    "pip install pandas"
   ]
  },
  {
   "cell_type": "code",
   "execution_count": 10,
   "metadata": {},
   "outputs": [],
   "source": [
    "import numpy as np\n",
    "import pandas as pd\n",
    "import seaborn as sns\n",
    "import matplotlib.pyplot as plt\n",
    "import re\n",
    "import warnings"
   ]
  },
  {
   "cell_type": "code",
   "execution_count": 34,
   "metadata": {},
   "outputs": [],
   "source": [
    "# Machine learning models and metrics\n",
    "from sklearn.naive_bayes import GaussianNB\n",
    "from sklearn.linear_model import LogisticRegression\n",
    "from sklearn.neighbors import KNeighborsClassifier\n",
    "from sklearn.model_selection import train_test_split, GridSearchCV\n",
    "from sklearn.metrics import (accuracy_score, classification_report,\n",
    "                             precision_score, recall_score, f1_score,\n",
    "                             confusion_matrix)"
   ]
  },
  {
   "cell_type": "code",
   "execution_count": null,
   "metadata": {},
   "outputs": [],
   "source": [
    "pip install gensim"
   ]
  },
  {
   "cell_type": "code",
   "execution_count": null,
   "metadata": {},
   "outputs": [],
   "source": [
    "# Importing Natural Language Processing (NLP) libraries\n",
    "import spacy\n",
    "import nltk\n",
    "from nltk.corpus import stopwords\n",
    "from nltk.tokenize import word_tokenize\n",
    "from nltk.stem import PorterStemmer, WordNetLemmatizer\n",
    "from nltk.sentiment.vader import SentimentIntensityAnalyzer\n",
    "from gensim.models.doc2vec import Doc2Vec, TaggedDocument"
   ]
  },
  {
   "cell_type": "code",
   "execution_count": null,
   "metadata": {},
   "outputs": [],
   "source": [
    "# Install spaCy's English language model\n",
    "!python -m spacy download en_core_web_sm"
   ]
  },
  {
   "cell_type": "code",
   "execution_count": null,
   "metadata": {},
   "outputs": [],
   "source": [
    "# Load spaCy's English language model\n",
    "nlp = spacy.load(\"en_core_web_sm\")\n",
    "\n",
    "# Download VADER lexicon if not already downloaded\n",
    "nltk.download('vader_lexicon')\n",
    "\n",
    "# Initialize VADER sentiment intensity analyzer\n",
    "sid = SentimentIntensityAnalyzer()\n",
    "\n",
    "# Initialize the PorterStemmer\n",
    "stemmer = PorterStemmer()\n",
    "\n",
    "# Download NLTK stopwords if not already downloaded\n",
    "nltk.download('punkt')\n",
    "nltk.download('stopwords')\n",
    "nltk.download('wordnet')\n",
    "nltk.download('punkt_tab')"
   ]
  },
  {
   "cell_type": "code",
   "execution_count": 14,
   "metadata": {},
   "outputs": [
    {
     "data": {
      "text/html": [
       "<div>\n",
       "<style scoped>\n",
       "    .dataframe tbody tr th:only-of-type {\n",
       "        vertical-align: middle;\n",
       "    }\n",
       "\n",
       "    .dataframe tbody tr th {\n",
       "        vertical-align: top;\n",
       "    }\n",
       "\n",
       "    .dataframe thead th {\n",
       "        text-align: right;\n",
       "    }\n",
       "</style>\n",
       "<table border=\"1\" class=\"dataframe\">\n",
       "  <thead>\n",
       "    <tr style=\"text-align: right;\">\n",
       "      <th></th>\n",
       "      <th>Unnamed: 0.1</th>\n",
       "      <th>Unnamed: 0</th>\n",
       "      <th>Text</th>\n",
       "      <th>Sentiment</th>\n",
       "      <th>Timestamp</th>\n",
       "      <th>User</th>\n",
       "      <th>Platform</th>\n",
       "      <th>Hashtags</th>\n",
       "      <th>Retweets</th>\n",
       "      <th>Likes</th>\n",
       "      <th>Country</th>\n",
       "      <th>Year</th>\n",
       "      <th>Month</th>\n",
       "      <th>Day</th>\n",
       "      <th>Hour</th>\n",
       "    </tr>\n",
       "  </thead>\n",
       "  <tbody>\n",
       "    <tr>\n",
       "      <th>0</th>\n",
       "      <td>0</td>\n",
       "      <td>0</td>\n",
       "      <td>Enjoying a beautiful day at the park!        ...</td>\n",
       "      <td>Positive</td>\n",
       "      <td>2023-01-15 12:30:00</td>\n",
       "      <td>User123</td>\n",
       "      <td>Twitter</td>\n",
       "      <td>#Nature #Park</td>\n",
       "      <td>15.0</td>\n",
       "      <td>30.0</td>\n",
       "      <td>USA</td>\n",
       "      <td>2023</td>\n",
       "      <td>1</td>\n",
       "      <td>15</td>\n",
       "      <td>12</td>\n",
       "    </tr>\n",
       "    <tr>\n",
       "      <th>1</th>\n",
       "      <td>1</td>\n",
       "      <td>1</td>\n",
       "      <td>Traffic was terrible this morning.           ...</td>\n",
       "      <td>Negative</td>\n",
       "      <td>2023-01-15 08:45:00</td>\n",
       "      <td>CommuterX</td>\n",
       "      <td>Twitter</td>\n",
       "      <td>#Traffic #Morning</td>\n",
       "      <td>5.0</td>\n",
       "      <td>10.0</td>\n",
       "      <td>Canada</td>\n",
       "      <td>2023</td>\n",
       "      <td>1</td>\n",
       "      <td>15</td>\n",
       "      <td>8</td>\n",
       "    </tr>\n",
       "    <tr>\n",
       "      <th>2</th>\n",
       "      <td>2</td>\n",
       "      <td>2</td>\n",
       "      <td>Just finished an amazing workout! 💪          ...</td>\n",
       "      <td>Positive</td>\n",
       "      <td>2023-01-15 15:45:00</td>\n",
       "      <td>FitnessFan</td>\n",
       "      <td>Instagram</td>\n",
       "      <td>#Fitness #Workout</td>\n",
       "      <td>20.0</td>\n",
       "      <td>40.0</td>\n",
       "      <td>USA</td>\n",
       "      <td>2023</td>\n",
       "      <td>1</td>\n",
       "      <td>15</td>\n",
       "      <td>15</td>\n",
       "    </tr>\n",
       "    <tr>\n",
       "      <th>3</th>\n",
       "      <td>3</td>\n",
       "      <td>3</td>\n",
       "      <td>Excited about the upcoming weekend getaway!  ...</td>\n",
       "      <td>Positive</td>\n",
       "      <td>2023-01-15 18:20:00</td>\n",
       "      <td>AdventureX</td>\n",
       "      <td>Facebook</td>\n",
       "      <td>#Travel #Adventure</td>\n",
       "      <td>8.0</td>\n",
       "      <td>15.0</td>\n",
       "      <td>UK</td>\n",
       "      <td>2023</td>\n",
       "      <td>1</td>\n",
       "      <td>15</td>\n",
       "      <td>18</td>\n",
       "    </tr>\n",
       "    <tr>\n",
       "      <th>4</th>\n",
       "      <td>4</td>\n",
       "      <td>4</td>\n",
       "      <td>Trying out a new recipe for dinner tonight.  ...</td>\n",
       "      <td>Neutral</td>\n",
       "      <td>2023-01-15 19:55:00</td>\n",
       "      <td>ChefCook</td>\n",
       "      <td>Instagram</td>\n",
       "      <td>#Cooking #Food</td>\n",
       "      <td>12.0</td>\n",
       "      <td>25.0</td>\n",
       "      <td>Australia</td>\n",
       "      <td>2023</td>\n",
       "      <td>1</td>\n",
       "      <td>15</td>\n",
       "      <td>19</td>\n",
       "    </tr>\n",
       "  </tbody>\n",
       "</table>\n",
       "</div>"
      ],
      "text/plain": [
       "   Unnamed: 0.1  Unnamed: 0  \\\n",
       "0             0           0   \n",
       "1             1           1   \n",
       "2             2           2   \n",
       "3             3           3   \n",
       "4             4           4   \n",
       "\n",
       "                                                Text    Sentiment  \\\n",
       "0   Enjoying a beautiful day at the park!        ...   Positive     \n",
       "1   Traffic was terrible this morning.           ...   Negative     \n",
       "2   Just finished an amazing workout! 💪          ...   Positive     \n",
       "3   Excited about the upcoming weekend getaway!  ...   Positive     \n",
       "4   Trying out a new recipe for dinner tonight.  ...   Neutral      \n",
       "\n",
       "             Timestamp            User     Platform  \\\n",
       "0  2023-01-15 12:30:00   User123          Twitter     \n",
       "1  2023-01-15 08:45:00   CommuterX        Twitter     \n",
       "2  2023-01-15 15:45:00   FitnessFan      Instagram    \n",
       "3  2023-01-15 18:20:00   AdventureX       Facebook    \n",
       "4  2023-01-15 19:55:00   ChefCook        Instagram    \n",
       "\n",
       "                                     Hashtags  Retweets  Likes       Country  \\\n",
       "0   #Nature #Park                                  15.0   30.0     USA         \n",
       "1   #Traffic #Morning                               5.0   10.0     Canada      \n",
       "2   #Fitness #Workout                              20.0   40.0   USA           \n",
       "3   #Travel #Adventure                              8.0   15.0     UK          \n",
       "4   #Cooking #Food                                 12.0   25.0    Australia    \n",
       "\n",
       "   Year  Month  Day  Hour  \n",
       "0  2023      1   15    12  \n",
       "1  2023      1   15     8  \n",
       "2  2023      1   15    15  \n",
       "3  2023      1   15    18  \n",
       "4  2023      1   15    19  "
      ]
     },
     "execution_count": 14,
     "metadata": {},
     "output_type": "execute_result"
    }
   ],
   "source": [
    "\n",
    "sentiment_data = pd.read_csv('sentimentdataset.csv')\n",
    "sentiment_data.head()"
   ]
  },
  {
   "cell_type": "code",
   "execution_count": 15,
   "metadata": {},
   "outputs": [
    {
     "data": {
      "text/html": [
       "<div>\n",
       "<style scoped>\n",
       "    .dataframe tbody tr th:only-of-type {\n",
       "        vertical-align: middle;\n",
       "    }\n",
       "\n",
       "    .dataframe tbody tr th {\n",
       "        vertical-align: top;\n",
       "    }\n",
       "\n",
       "    .dataframe thead th {\n",
       "        text-align: right;\n",
       "    }\n",
       "</style>\n",
       "<table border=\"1\" class=\"dataframe\">\n",
       "  <thead>\n",
       "    <tr style=\"text-align: right;\">\n",
       "      <th></th>\n",
       "      <th>Text</th>\n",
       "      <th>Sentiment</th>\n",
       "      <th>Timestamp</th>\n",
       "      <th>User</th>\n",
       "      <th>Platform</th>\n",
       "      <th>Hashtags</th>\n",
       "      <th>Retweets</th>\n",
       "      <th>Likes</th>\n",
       "      <th>Country</th>\n",
       "      <th>Year</th>\n",
       "      <th>Month</th>\n",
       "      <th>Day</th>\n",
       "      <th>Hour</th>\n",
       "    </tr>\n",
       "  </thead>\n",
       "  <tbody>\n",
       "    <tr>\n",
       "      <th>0</th>\n",
       "      <td>Enjoying a beautiful day at the park!        ...</td>\n",
       "      <td>Positive</td>\n",
       "      <td>2023-01-15 12:30:00</td>\n",
       "      <td>User123</td>\n",
       "      <td>Twitter</td>\n",
       "      <td>#Nature #Park</td>\n",
       "      <td>15.0</td>\n",
       "      <td>30.0</td>\n",
       "      <td>USA</td>\n",
       "      <td>2023</td>\n",
       "      <td>1</td>\n",
       "      <td>15</td>\n",
       "      <td>12</td>\n",
       "    </tr>\n",
       "    <tr>\n",
       "      <th>1</th>\n",
       "      <td>Traffic was terrible this morning.           ...</td>\n",
       "      <td>Negative</td>\n",
       "      <td>2023-01-15 08:45:00</td>\n",
       "      <td>CommuterX</td>\n",
       "      <td>Twitter</td>\n",
       "      <td>#Traffic #Morning</td>\n",
       "      <td>5.0</td>\n",
       "      <td>10.0</td>\n",
       "      <td>Canada</td>\n",
       "      <td>2023</td>\n",
       "      <td>1</td>\n",
       "      <td>15</td>\n",
       "      <td>8</td>\n",
       "    </tr>\n",
       "    <tr>\n",
       "      <th>2</th>\n",
       "      <td>Just finished an amazing workout! 💪          ...</td>\n",
       "      <td>Positive</td>\n",
       "      <td>2023-01-15 15:45:00</td>\n",
       "      <td>FitnessFan</td>\n",
       "      <td>Instagram</td>\n",
       "      <td>#Fitness #Workout</td>\n",
       "      <td>20.0</td>\n",
       "      <td>40.0</td>\n",
       "      <td>USA</td>\n",
       "      <td>2023</td>\n",
       "      <td>1</td>\n",
       "      <td>15</td>\n",
       "      <td>15</td>\n",
       "    </tr>\n",
       "    <tr>\n",
       "      <th>3</th>\n",
       "      <td>Excited about the upcoming weekend getaway!  ...</td>\n",
       "      <td>Positive</td>\n",
       "      <td>2023-01-15 18:20:00</td>\n",
       "      <td>AdventureX</td>\n",
       "      <td>Facebook</td>\n",
       "      <td>#Travel #Adventure</td>\n",
       "      <td>8.0</td>\n",
       "      <td>15.0</td>\n",
       "      <td>UK</td>\n",
       "      <td>2023</td>\n",
       "      <td>1</td>\n",
       "      <td>15</td>\n",
       "      <td>18</td>\n",
       "    </tr>\n",
       "    <tr>\n",
       "      <th>4</th>\n",
       "      <td>Trying out a new recipe for dinner tonight.  ...</td>\n",
       "      <td>Neutral</td>\n",
       "      <td>2023-01-15 19:55:00</td>\n",
       "      <td>ChefCook</td>\n",
       "      <td>Instagram</td>\n",
       "      <td>#Cooking #Food</td>\n",
       "      <td>12.0</td>\n",
       "      <td>25.0</td>\n",
       "      <td>Australia</td>\n",
       "      <td>2023</td>\n",
       "      <td>1</td>\n",
       "      <td>15</td>\n",
       "      <td>19</td>\n",
       "    </tr>\n",
       "  </tbody>\n",
       "</table>\n",
       "</div>"
      ],
      "text/plain": [
       "                                                Text    Sentiment  \\\n",
       "0   Enjoying a beautiful day at the park!        ...   Positive     \n",
       "1   Traffic was terrible this morning.           ...   Negative     \n",
       "2   Just finished an amazing workout! 💪          ...   Positive     \n",
       "3   Excited about the upcoming weekend getaway!  ...   Positive     \n",
       "4   Trying out a new recipe for dinner tonight.  ...   Neutral      \n",
       "\n",
       "             Timestamp            User     Platform  \\\n",
       "0  2023-01-15 12:30:00   User123          Twitter     \n",
       "1  2023-01-15 08:45:00   CommuterX        Twitter     \n",
       "2  2023-01-15 15:45:00   FitnessFan      Instagram    \n",
       "3  2023-01-15 18:20:00   AdventureX       Facebook    \n",
       "4  2023-01-15 19:55:00   ChefCook        Instagram    \n",
       "\n",
       "                                     Hashtags  Retweets  Likes       Country  \\\n",
       "0   #Nature #Park                                  15.0   30.0     USA         \n",
       "1   #Traffic #Morning                               5.0   10.0     Canada      \n",
       "2   #Fitness #Workout                              20.0   40.0   USA           \n",
       "3   #Travel #Adventure                              8.0   15.0     UK          \n",
       "4   #Cooking #Food                                 12.0   25.0    Australia    \n",
       "\n",
       "   Year  Month  Day  Hour  \n",
       "0  2023      1   15    12  \n",
       "1  2023      1   15     8  \n",
       "2  2023      1   15    15  \n",
       "3  2023      1   15    18  \n",
       "4  2023      1   15    19  "
      ]
     },
     "execution_count": 15,
     "metadata": {},
     "output_type": "execute_result"
    }
   ],
   "source": [
    "# Drop the unwanted columns\n",
    "sentiment_data.drop(columns=['Unnamed: 0.1','Unnamed: 0'],inplace=True)\n",
    "sentiment_data.head()"
   ]
  },
  {
   "cell_type": "code",
   "execution_count": 16,
   "metadata": {},
   "outputs": [
    {
     "name": "stdout",
     "output_type": "stream",
     "text": [
      "<class 'pandas.core.frame.DataFrame'>\n",
      "RangeIndex: 732 entries, 0 to 731\n",
      "Data columns (total 13 columns):\n",
      " #   Column     Non-Null Count  Dtype  \n",
      "---  ------     --------------  -----  \n",
      " 0   Text       732 non-null    object \n",
      " 1   Sentiment  732 non-null    object \n",
      " 2   Timestamp  732 non-null    object \n",
      " 3   User       732 non-null    object \n",
      " 4   Platform   732 non-null    object \n",
      " 5   Hashtags   732 non-null    object \n",
      " 6   Retweets   732 non-null    float64\n",
      " 7   Likes      732 non-null    float64\n",
      " 8   Country    732 non-null    object \n",
      " 9   Year       732 non-null    int64  \n",
      " 10  Month      732 non-null    int64  \n",
      " 11  Day        732 non-null    int64  \n",
      " 12  Hour       732 non-null    int64  \n",
      "dtypes: float64(2), int64(4), object(7)\n",
      "memory usage: 74.5+ KB\n"
     ]
    }
   ],
   "source": [
    "# Display a concise summary of the sentiment dataset\n",
    "sentiment_data.info()"
   ]
  },
  {
   "cell_type": "markdown",
   "metadata": {},
   "source": [
    "### Observation\n",
    "There are no null values in the data.\n",
    "\n",
    "Also, the columns Text, Sentiment, Platform, and Hashtags appear to be essential for our sentiment analysis. The Text and Hashtags columns will help us identify the sentiment expressed in the text, while the Sentiment column will serve as the label for our analysis. Additionally, the Platform column will provide information on the source from which the text was extracted."
   ]
  },
  {
   "cell_type": "code",
   "execution_count": 17,
   "metadata": {},
   "outputs": [],
   "source": [
    "useful_columns = ['Text', 'Sentiment', 'Platform', 'Hashtags']"
   ]
  },
  {
   "cell_type": "code",
   "execution_count": 18,
   "metadata": {},
   "outputs": [],
   "source": [
    "# Filter the sentiment dataset to include only the relevant columns\n",
    "sentiment_data = sentiment_data[useful_columns]"
   ]
  },
  {
   "cell_type": "code",
   "execution_count": 19,
   "metadata": {},
   "outputs": [
    {
     "data": {
      "text/html": [
       "<div>\n",
       "<style scoped>\n",
       "    .dataframe tbody tr th:only-of-type {\n",
       "        vertical-align: middle;\n",
       "    }\n",
       "\n",
       "    .dataframe tbody tr th {\n",
       "        vertical-align: top;\n",
       "    }\n",
       "\n",
       "    .dataframe thead th {\n",
       "        text-align: right;\n",
       "    }\n",
       "</style>\n",
       "<table border=\"1\" class=\"dataframe\">\n",
       "  <thead>\n",
       "    <tr style=\"text-align: right;\">\n",
       "      <th></th>\n",
       "      <th>Text</th>\n",
       "      <th>Sentiment</th>\n",
       "      <th>Platform</th>\n",
       "      <th>Hashtags</th>\n",
       "    </tr>\n",
       "  </thead>\n",
       "  <tbody>\n",
       "    <tr>\n",
       "      <th>0</th>\n",
       "      <td>Enjoying a beautiful day at the park!        ...</td>\n",
       "      <td>Positive</td>\n",
       "      <td>Twitter</td>\n",
       "      <td>#Nature #Park</td>\n",
       "    </tr>\n",
       "    <tr>\n",
       "      <th>1</th>\n",
       "      <td>Traffic was terrible this morning.           ...</td>\n",
       "      <td>Negative</td>\n",
       "      <td>Twitter</td>\n",
       "      <td>#Traffic #Morning</td>\n",
       "    </tr>\n",
       "    <tr>\n",
       "      <th>2</th>\n",
       "      <td>Just finished an amazing workout! 💪          ...</td>\n",
       "      <td>Positive</td>\n",
       "      <td>Instagram</td>\n",
       "      <td>#Fitness #Workout</td>\n",
       "    </tr>\n",
       "    <tr>\n",
       "      <th>3</th>\n",
       "      <td>Excited about the upcoming weekend getaway!  ...</td>\n",
       "      <td>Positive</td>\n",
       "      <td>Facebook</td>\n",
       "      <td>#Travel #Adventure</td>\n",
       "    </tr>\n",
       "    <tr>\n",
       "      <th>4</th>\n",
       "      <td>Trying out a new recipe for dinner tonight.  ...</td>\n",
       "      <td>Neutral</td>\n",
       "      <td>Instagram</td>\n",
       "      <td>#Cooking #Food</td>\n",
       "    </tr>\n",
       "  </tbody>\n",
       "</table>\n",
       "</div>"
      ],
      "text/plain": [
       "                                                Text    Sentiment  \\\n",
       "0   Enjoying a beautiful day at the park!        ...   Positive     \n",
       "1   Traffic was terrible this morning.           ...   Negative     \n",
       "2   Just finished an amazing workout! 💪          ...   Positive     \n",
       "3   Excited about the upcoming weekend getaway!  ...   Positive     \n",
       "4   Trying out a new recipe for dinner tonight.  ...   Neutral      \n",
       "\n",
       "      Platform                                    Hashtags  \n",
       "0    Twitter     #Nature #Park                              \n",
       "1    Twitter     #Traffic #Morning                          \n",
       "2   Instagram    #Fitness #Workout                          \n",
       "3    Facebook    #Travel #Adventure                         \n",
       "4   Instagram    #Cooking #Food                             "
      ]
     },
     "execution_count": 19,
     "metadata": {},
     "output_type": "execute_result"
    }
   ],
   "source": [
    "# Display the first few rows of the sentiment dataset to get an overview\n",
    "sentiment_data.head()"
   ]
  },
  {
   "cell_type": "markdown",
   "metadata": {},
   "source": [
    "2.1.2 Labeling Data\n",
    "Our sentiment dataset includes a range of sentiments like surprise, excitement, admiration, thrill, contentment, and others, we are manually going to group them into the broader categories of Positive, Negative, and Neutral for simplicity and effective analysis."
   ]
  },
  {
   "cell_type": "code",
   "execution_count": 20,
   "metadata": {},
   "outputs": [
    {
     "data": {
      "text/plain": [
       "array([' Positive  ', ' Negative  ', ' Neutral   ', ' Anger        ',\n",
       "       ' Fear         ', ' Sadness      ', ' Disgust      ',\n",
       "       ' Happiness    ', ' Joy          ', ' Love         ',\n",
       "       ' Amusement    ', ' Enjoyment    ', ' Admiration   ',\n",
       "       ' Affection    ', ' Awe          ', ' Disappointed ',\n",
       "       ' Surprise     ', ' Acceptance   ', ' Adoration    ',\n",
       "       ' Anticipation ', ' Bitter       ', ' Calmness     ',\n",
       "       ' Confusion    ', ' Excitement   ', ' Kind         ',\n",
       "       ' Pride        ', ' Shame        ', ' Confusion ', ' Excitement ',\n",
       "       ' Shame ', ' Elation       ', ' Euphoria      ', ' Contentment   ',\n",
       "       ' Serenity      ', ' Gratitude     ', ' Hope          ',\n",
       "       ' Empowerment   ', ' Compassion    ', ' Tenderness    ',\n",
       "       ' Arousal       ', ' Enthusiasm    ', ' Fulfillment  ',\n",
       "       ' Reverence     ', ' Compassion', ' Fulfillment   ', ' Reverence ',\n",
       "       ' Elation   ', ' Despair         ', ' Grief           ',\n",
       "       ' Loneliness      ', ' Jealousy        ', ' Resentment      ',\n",
       "       ' Frustration     ', ' Boredom         ', ' Anxiety         ',\n",
       "       ' Intimidation    ', ' Helplessness    ', ' Envy            ',\n",
       "       ' Regret         ', ' Disgust         ', ' Despair      ',\n",
       "       ' Loneliness ', ' Frustration ', ' Anxiety   ', ' Intimidation ',\n",
       "       ' Helplessness ', ' Jealousy    ', ' Curiosity       ',\n",
       "       ' Indifference    ', ' Confusion       ', ' Numbness        ',\n",
       "       ' Melancholy      ', ' Nostalgia       ', ' Ambivalence     ',\n",
       "       ' Acceptance      ', ' Determination   ', ' Serenity        ',\n",
       "       ' Numbness ', ' Zest ', ' Contentment ', ' Hopeful ', ' Proud ',\n",
       "       ' Grateful ', ' Empathetic ', ' Compassionate ', ' Playful ',\n",
       "       ' Free-spirited ', ' Inspired ', ' Confident ', ' Serenity ',\n",
       "       ' Curiosity ', ' Ambivalence ', ' Despair ', ' Bitterness ',\n",
       "       ' Yearning ', ' Fearful ', ' Apprehensive ', ' Overwhelmed ',\n",
       "       ' Jealous ', ' Devastated ', ' Frustrated ', ' Envious ',\n",
       "       ' Dismissive ', ' Awe           ', ' Determination ',\n",
       "       ' Nostalgia      ', ' Thrill        ', ' Calmness      ',\n",
       "       ' Overwhelmed   ', ' Gratitude   ', ' Bittersweet ',\n",
       "       ' Curiosity     ', ' Admiration    ', ' Overjoyed     ',\n",
       "       ' Inspiration   ', ' Motivation    ', ' Amusement     ',\n",
       "       ' Contemplation ', ' JoyfulReunion ', ' Excitement    ',\n",
       "       ' Satisfaction  ', ' Blessed       ', ' Anticipation  ',\n",
       "       ' Reflection    ', ' Nostalgia     ', ' Appreciation  ',\n",
       "       ' Confidence    ', ' Surprise      ', ' Accomplishment ',\n",
       "       ' Wonderment    ', ' Optimism      ', ' Pride         ',\n",
       "       ' Happiness     ', ' Curiosity   ', ' Enchantment   ',\n",
       "       ' Intrigue      ', ' PlayfulJoy    ', ' Mindfulness   ',\n",
       "       ' DreamChaser   ', ' Elegance ', ' Whimsy        ', ' Pensive ',\n",
       "       ' Thrill      ', ' Harmony    ', ' Creativity   ', ' Radiance    ',\n",
       "       ' Wonder     ', ' Rejuvenation ', ' Inspiration ',\n",
       "       ' Coziness     ', ' Gratitude  ', ' Adventure ', ' Euphoria   ',\n",
       "       ' Awe    ', ' Melodic       ', ' FestiveJoy    ',\n",
       "       ' InnerJourney  ', ' Freedom       ', ' Dazzle        ',\n",
       "       ' Adrenaline     ', ' Harmony       ', ' ArtisticBurst ',\n",
       "       ' Radiance      ', ' Wonder       ', ' Inspiration  ',\n",
       "       ' CulinaryOdyssey ', ' Euphoria     ', ' Curiosity  ',\n",
       "       ' Resilience   ', ' Immersion ', ' Nostalgia ', ' Spark        ',\n",
       "       ' Gratitude    ', ' Marvel       ', ' Serenity   ',\n",
       "       ' Heartbreak    ', ' Loneliness    ', ' Grief      ',\n",
       "       ' Despair   ', ' Betrayal      ', ' Suffering ',\n",
       "       ' EmotionalStorm ', ' Regret        ', ' Isolation ',\n",
       "       ' Disappointment ', ' LostLove ', ' Melancholy ', ' Exhaustion ',\n",
       "       ' Sorrow      ', ' Darkness     ', ' Desperation ', ' Ruins      ',\n",
       "       ' Desolation ', ' Regret ', ' Grief ', ' Heartbreak ',\n",
       "       ' Betrayal ', ' Resilience ', ' Sorrow ', ' Loss ', ' Heartache ',\n",
       "       ' Solitude ', ' Joy ', ' Happiness ', ' Enthusiasm ',\n",
       "       ' Gratitude ', ' Positivity ', ' Kindness ', ' Friendship ',\n",
       "       ' Love ', ' Surprise ', ' Success ', ' Thrill ', ' Reflection ',\n",
       "       ' Enchantment ', ' Exploration ', ' Awe ', ' Amazement ',\n",
       "       ' Romance ', ' Captivation ', ' Wonder ', ' Tranquility ',\n",
       "       ' Grandeur ', ' Emotion ', ' Energy ', ' Celebration ', ' Charm ',\n",
       "       ' Ecstasy ', ' Hope ', ' Creativity ', ' Colorful ', ' Pride ',\n",
       "       ' Hypnotic ', ' Connection ', ' Iconic ', ' Euphoria ',\n",
       "       ' Journey ', ' Engagement ', ' Touched ', ' Suspense ',\n",
       "       ' Satisfaction ', ' Admiration ', ' Triumph ', ' Heartwarming ',\n",
       "       ' Obstacle ', ' Sympathy ', ' Pressure ', ' Renewed Effort ',\n",
       "       ' Miscalculation ', ' Challenge ', ' Solace ', ' Breakthrough ',\n",
       "       ' Harmony ', ' Joy in Baking ', ' Envisioning History ',\n",
       "       ' Imagination ', ' Vibrancy ', ' Mesmerizing ',\n",
       "       ' Culinary Adventure ', ' Winter Magic ', ' Thrilling Journey ',\n",
       "       \" Nature's Beauty \", ' Celestial Wonder ',\n",
       "       ' Creative Inspiration ', ' Runway Creativity ',\n",
       "       \" Ocean's Freedom \", ' Whispers of the Past ', ' Boredom ',\n",
       "       ' Indifference ', ' Disgust ', ' Relief ', ' Positive ',\n",
       "       ' Embarrassed ', ' Mischievous ', ' Sad ', ' Hate ', ' Bad ',\n",
       "       ' Neutral ', ' Happy '], dtype=object)"
      ]
     },
     "execution_count": 20,
     "metadata": {},
     "output_type": "execute_result"
    }
   ],
   "source": [
    "# Check the values in 'Sentiment' column\n",
    "sentiment_data['Sentiment'].unique()"
   ]
  },
  {
   "cell_type": "markdown",
   "metadata": {},
   "source": [
    "Observation:\n",
    "There are multiple entries but we want to categorize our sentiments primarily into 3 classes - positive, negative and neutral."
   ]
  },
  {
   "cell_type": "code",
   "execution_count": 21,
   "metadata": {},
   "outputs": [],
   "source": [
    "sentiment_classification = {\n",
    "    # Positive sentiments generally reflect feelings of joy, happiness, and appreciation.\n",
    "    \"Positive\": [\n",
    "        \"Positive\", \"Happiness\", \"Joy\", \"Excitement\", \"Love\", \"Amusement\", \"Enjoyment\", \"Admiration\",\n",
    "        \"Affection\", \"Awe\", \"Contentment\", \"Serenity\", \"Gratitude\", \"Hope\", \"Empowerment\", \"Compassion\",\n",
    "        \"Tenderness\", \"Arousal\", \"Enthusiasm\", \"Fulfillment\", \"Reverence\", \"Elation\", \"Euphoria\",\n",
    "        \"Curiosity\", \"Anticipation\", \"Determination\", \"Pride\", \"Zest\", \"Hopeful\", \"Proud\", \"Grateful\",\n",
    "        \"Empathetic\", \"Compassionate\", \"Playful\", \"Free-spirited\", \"Inspired\", \"Confident\", \"Harmony\",\n",
    "        \"Creativity\", \"Radiance\", \"Wonder\", \"Rejuvenation\", \"Inspiration\", \"Coziness\", \"Adventure\",\n",
    "        \"Blessed\", \"Satisfaction\", \"Reflection\", \"Accomplishment\", \"Wonderment\", \"Optimism\", \"Success\",\n",
    "        \"Positivity\", \"Kindness\", \"Friendship\", \"Romance\", \"Captivation\", \"Tranquility\", \"Grandeur\",\n",
    "        \"Emotion\", \"Energy\", \"Celebration\", \"Charm\", \"Ecstasy\", \"Colorful\", \"Hypnotic\", \"Connection\",\n",
    "        \"Iconic\", \"Journey\", \"Engagement\", \"Heartwarming\", \"Renewed Effort\", \"Breakthrough\",\n",
    "        \"Harmony\", \"Thrilling Journey\", \"Vibrancy\", \"Mesmerizing\", \"Culinary Adventure\", \"Winter Magic\",\n",
    "        \"Thrilling Journey\", \"Nature's Beauty\", \"Celestial Wonder\", \"Creative Inspiration\",\n",
    "        \"Runway Creativity\", \"Ocean's Freedom\", \"Whispers of the Past\"\n",
    "    ],\n",
    "    # Negative sentiments often indicate discomfort, sadness, or dissatisfaction.\n",
    "    \"Negative\": [\n",
    "        \"Negative\", \"Anger\", \"Fear\", \"Sadness\", \"Disgust\", \"Disappointed\", \"Bitter\", \"Confusion\",\n",
    "        \"Shame\", \"Despair\", \"Grief\", \"Loneliness\", \"Jealousy\", \"Resentment\", \"Frustration\", \"Boredom\",\n",
    "        \"Anxiety\", \"Intimidation\", \"Helplessness\", \"Regret\", \"Despair\", \"Loss\", \"Heartache\", \"Solitude\",\n",
    "        \"Heartbreak\", \"Betrayal\", \"Suffering\", \"EmotionalStorm\", \"Isolation\", \"Melancholy\", \"Exhaustion\",\n",
    "        \"Sorrow\", \"Darkness\", \"Desperation\", \"Ruins\", \"Desolation\", \"Regret\", \"Obstacle\", \"Pressure\",\n",
    "        \"Miscalculation\", \"Challenge\", \"Sympathy\", \"Obstacle\", \"Pressure\", \"Embarrassed\", \"Mischievous\",\n",
    "        \"Sad\", \"Hate\", \"Bad\"\n",
    "    ],\n",
    "    # Neutral sentiments include those that do not clearly indicate a positive or negative emotion.\n",
    "    \"Neutral\": [\n",
    "        \"Neutral\", \"Surprise\", \"Calmness\", \"Indifference\", \"Acceptance\", \"Anticipation\", \"Curiosity\",\n",
    "        \"Serenity\", \"Numbness\", \"Ambivalence\", \"Kind\", \"Indifference\", \"Confusion\", \"PlayfulJoy\",\n",
    "        \"Mindfulness\", \"DreamChaser\", \"Elegance\", \"Whimsy\", \"Pensive\", \"Adventure\", \"Wonder\", \"Marvel\",\n",
    "        \"JoyfulReunion\", \"Nostalgia\", \"Serenity\", \"Confusion\", \"Whispers of the Past\", \"Relief\", \"Neutral\"\n",
    "    ]\n",
    "}"
   ]
  },
  {
   "cell_type": "code",
   "execution_count": 22,
   "metadata": {},
   "outputs": [],
   "source": [
    "# Initialize an empty dictionary to map individual sentiments to their corresponding categories\n",
    "sentiment_map = {}\n",
    "\n",
    "# Iterate through each category and its associated sentiments in the sentiment_classification dictionary\n",
    "for key, values in sentiment_classification.items():\n",
    "    # Iterate through each sentiment in the current category\n",
    "    for value in values:\n",
    "        # Map the sentiment to its corresponding category\n",
    "        sentiment_map[value] = key"
   ]
  },
  {
   "cell_type": "code",
   "execution_count": 23,
   "metadata": {},
   "outputs": [],
   "source": [
    "# Update the 'Sentiment' column in the sentiment_data DataFrame by mapping each sentiment to its category\n",
    "sentiment_data['Sentiment'] = sentiment_data['Sentiment'].apply(\n",
    "    # Apply a lambda function to each value in the 'Sentiment' column\n",
    "    lambda x: sentiment_map.get(x.strip(), 'Neutral')  # Strip any leading/trailing whitespace and map the sentiment to its category; default to 'Neutral' if not found\n",
    ")"
   ]
  },
  {
   "cell_type": "code",
   "execution_count": 24,
   "metadata": {},
   "outputs": [
    {
     "data": {
      "text/plain": [
       "array(['Positive', 'Negative', 'Neutral'], dtype=object)"
      ]
     },
     "execution_count": 24,
     "metadata": {},
     "output_type": "execute_result"
    }
   ],
   "source": [
    "# Display the unique values in the 'Sentiment' column\n",
    "sentiment_data['Sentiment'].unique()"
   ]
  },
  {
   "cell_type": "markdown",
   "metadata": {},
   "source": [
    "Checking the distribution of these sentiments:\n",
    "Lets create a histogram to check the distribution."
   ]
  },
  {
   "cell_type": "code",
   "execution_count": 25,
   "metadata": {},
   "outputs": [
    {
     "data": {
      "image/png": "[encoded data removed]",
      "text/plain": [
       "<Figure size 640x480 with 1 Axes>"
      ]
     },
     "metadata": {},
     "output_type": "display_data"
    }
   ],
   "source": [
    "# Plot a histogram of sentiment values in the dataset\n",
    "sns.histplot(sentiment_data['Sentiment'])\n",
    "\n",
    "# Add labels and title for better readability\n",
    "plt.xlabel('Sentiment')\n",
    "plt.ylabel('Frequency')\n",
    "plt.title('Distribution of Sentiment Values')\n",
    "\n",
    "# Display the plot\n",
    "plt.show()"
   ]
  },
  {
   "cell_type": "markdown",
   "metadata": {},
   "source": [
    "### Observation:\n",
    "- The Positive category has the highest frequency, indicating that most sentiments in the dataset are positive."
   ]
  },
  {
   "cell_type": "markdown",
   "metadata": {},
   "source": [
    "# 2.2 Data Preprocessing"
   ]
  },
  {
   "cell_type": "markdown",
   "metadata": {},
   "source": [
    "## 2.2.1 Text Cleaning<br>\n",
    "Text cleaning involves preparing raw text by removing unwanted elements such as punctuation,  hashtags, numbers, and extra whitespace. It also includes converting text to lowercase and expanding contractions to ensure consistency and clarity. This process helps make the text data uniform and ready for analysis or modeling.\n",
    "\n",
    "Here's a brief overview of the functions used in this part of text cleaning:\n",
    "\n",
    "1. **`strip()`**:\n",
    "   - Removes leading and trailing whitespace from the string.\n",
    "   - Example: `\"   Hello   \" -> \"Hello\"`.\n",
    "\n",
    "2. **`split()`**:\n",
    "   - Splits a string into a list where each word is a list item.\n",
    "   - Example: `\"Hello World\"` -> `[\"Hello\", \"World\"]`.\n",
    "\n",
    "3. **`' '.join()`**:\n",
    "   - Joins elements of a list into a single string, with a specified separator (in this case, a space).\n",
    "   - Example: `[\"Hello\", \"World\"] -> \"Hello World\"`.\n",
    "\n",
    "4. **`lower()`**:\n",
    "   - Converts all characters in a string to lowercase.\n",
    "   - Example: `\"Hello World\"` -> `\"hello world\"`.\n",
    "\n",
    "5. **`re.sub(pattern, repl, string)`**:\n",
    "   - A function from the `re` (regular expression) module, used to replace occurrences of a pattern in a string with a specified replacement.\n",
    "   - The first use, `re.sub(r'[^\\w\\s]', '', text)`, removes any character that is not a word character (letters, digits, and underscores) or whitespace.\n",
    "   - The second use, `re.sub(r'\\d+', '', text)`, removes any sequences of digits."
   ]
  },
  {
   "cell_type": "code",
   "execution_count": 26,
   "metadata": {},
   "outputs": [],
   "source": [
    "def clean_text(text):\n",
    "    # Remove white space\n",
    "    text = ' '.join(text.strip().split())\n",
    "\n",
    "    # Convert to lowercase\n",
    "    text = text.lower()\n",
    "\n",
    "    # Remove special characters, numbers, and punctuation\n",
    "    text = re.sub(r'[^\\w\\s]', '', text)  # Remove punctuation and special characters\n",
    "    text = re.sub(r'\\d+', '', text)      # Remove numbers\n",
    "\n",
    "    return text"
   ]
  },
  {
   "cell_type": "code",
   "execution_count": 27,
   "metadata": {},
   "outputs": [
    {
     "name": "stdout",
     "output_type": "stream",
     "text": [
      "Before text cleaning:  Enjoying a beautiful day at the park!              \n",
      "After text cleaning: enjoying a beautiful day at the park\n"
     ]
    }
   ],
   "source": [
    "print(f\"Before text cleaning: {sentiment_data['Text'].iloc[0]}\")\n",
    "print(f\"After text cleaning: {clean_text(sentiment_data['Text'].iloc[0])}\")"
   ]
  },
  {
   "cell_type": "code",
   "execution_count": 28,
   "metadata": {},
   "outputs": [],
   "source": [
    "# Apply the clean_text function to the 'Text' column\n",
    "sentiment_data['Text'] = sentiment_data['Text'].apply(clean_text)\n",
    "\n",
    "# Apply the clean_text function to the 'Hashtags' column\n",
    "sentiment_data['Hashtags'] = sentiment_data['Hashtags'].apply(clean_text)"
   ]
  },
  {
   "cell_type": "code",
   "execution_count": 29,
   "metadata": {},
   "outputs": [
    {
     "data": {
      "text/html": [
       "<div>\n",
       "<style scoped>\n",
       "    .dataframe tbody tr th:only-of-type {\n",
       "        vertical-align: middle;\n",
       "    }\n",
       "\n",
       "    .dataframe tbody tr th {\n",
       "        vertical-align: top;\n",
       "    }\n",
       "\n",
       "    .dataframe thead th {\n",
       "        text-align: right;\n",
       "    }\n",
       "</style>\n",
       "<table border=\"1\" class=\"dataframe\">\n",
       "  <thead>\n",
       "    <tr style=\"text-align: right;\">\n",
       "      <th></th>\n",
       "      <th>Text</th>\n",
       "      <th>Hashtags</th>\n",
       "    </tr>\n",
       "  </thead>\n",
       "  <tbody>\n",
       "    <tr>\n",
       "      <th>0</th>\n",
       "      <td>enjoying a beautiful day at the park</td>\n",
       "      <td>nature park</td>\n",
       "    </tr>\n",
       "    <tr>\n",
       "      <th>1</th>\n",
       "      <td>traffic was terrible this morning</td>\n",
       "      <td>traffic morning</td>\n",
       "    </tr>\n",
       "    <tr>\n",
       "      <th>2</th>\n",
       "      <td>just finished an amazing workout</td>\n",
       "      <td>fitness workout</td>\n",
       "    </tr>\n",
       "    <tr>\n",
       "      <th>3</th>\n",
       "      <td>excited about the upcoming weekend getaway</td>\n",
       "      <td>travel adventure</td>\n",
       "    </tr>\n",
       "    <tr>\n",
       "      <th>4</th>\n",
       "      <td>trying out a new recipe for dinner tonight</td>\n",
       "      <td>cooking food</td>\n",
       "    </tr>\n",
       "  </tbody>\n",
       "</table>\n",
       "</div>"
      ],
      "text/plain": [
       "                                         Text          Hashtags\n",
       "0        enjoying a beautiful day at the park       nature park\n",
       "1           traffic was terrible this morning   traffic morning\n",
       "2           just finished an amazing workout    fitness workout\n",
       "3  excited about the upcoming weekend getaway  travel adventure\n",
       "4  trying out a new recipe for dinner tonight      cooking food"
      ]
     },
     "execution_count": 29,
     "metadata": {},
     "output_type": "execute_result"
    }
   ],
   "source": [
    "# Display the first few rows of the 'Text' and 'Hashtags' columns\n",
    "sentiment_data[['Text', 'Hashtags']].head()"
   ]
  },
  {
   "cell_type": "markdown",
   "metadata": {},
   "source": [
    "## 2.2.2 Tokenization<br>\n",
    "Tokenization is the process of breaking down text into smaller units, such as words or phrases, called tokens. This step is crucial in natural language processing (NLP) as it transforms continuous text into a structured format that can be analyzed. Tokenization helps in understanding and processing text data by converting it into a list of meaningful components, which are essential for various NLP tasks like text analysis, sentiment analysis, and machine learning.\n",
    "\n",
    "<center><img src=\"https://wisdomml.in/wp-content/uploads/2022/08/tokenizer.jpg\" width=500 height=300/></center>"
   ]
  },
  {
   "cell_type": "code",
   "execution_count": 52,
   "metadata": {},
   "outputs": [],
   "source": [
    "# Function for Tokenization\n",
    "def tokenizer(text):\n",
    "\n",
    "    # Convert text to tokens\n",
    "    tokens = word_tokenize(text)\n",
    "\n",
    "    # Return the list of tokens\n",
    "    return tokens"
   ]
  },
  {
   "cell_type": "code",
   "execution_count": 55,
   "metadata": {},
   "outputs": [
    {
     "name": "stdout",
     "output_type": "stream",
     "text": [
      "Before tokenization: enjoying a beautiful day at the park\n",
      "After tokenization: ['enjoying', 'a', 'beautiful', 'day', 'at', 'the', 'park']\n"
     ]
    }
   ],
   "source": [
    "tokenizer(sentiment_data['Text'].iloc[0])\n",
    "print(f\"Before tokenization: {sentiment_data['Text'].iloc[0]}\")\n",
    "print(f\"After tokenization: {tokenizer(sentiment_data['Text'].iloc[0])}\")"
   ]
  },
  {
   "cell_type": "markdown",
   "metadata": {},
   "source": [
    "## 2.2.3 Lemmatization/Stemming<br>\n",
    "Lemmatization and Stemming are techniques used in natural language processing (NLP) to reduce words to their base or root form, helping to standardize and simplify text data for analysis.\n",
    "\n",
    "**Stemming:** This technique involves cutting off the end of words to reduce them to their root form, often resulting in non-standard words. For example, \"running,\" \"runner,\" and \"ran\" might all be reduced to \"run.\" Stemming is a more aggressive approach and can sometimes produce words that are not real or meaningful.\n",
    "\n",
    "**Lemmatization:** Unlike stemming, lemmatization considers the context and part of speech to reduce words to their base or dictionary form, known as the lemma. For example, \"running\" would be reduced to \"run,\" but \"better\" would be reduced to \"good.\" Lemmatization is more accurate and produces meaningful base forms of words.\n",
    "\n",
    "Both techniques are used to normalize text data, making it easier to match similar words during analysis, such as in search engines, sentiment analysis, and other NLP tasks.\n",
    "\n",
    "<center><img src=\"https://techgenizer.netlify.app/img/blog15/lm1.png\" width=500 height = 200/></center>"
   ]
  },
  {
   "cell_type": "code",
   "execution_count": 56,
   "metadata": {},
   "outputs": [],
   "source": [
    "# Function for Stemming\n",
    "def stem_text(text):\n",
    "    # Tokenize text\n",
    "    tokens = tokenizer(text)\n",
    "\n",
    "    # Initialize the stemmer\n",
    "    stemmer = PorterStemmer()\n",
    "\n",
    "    # Apply stemming to the word\n",
    "    return \" \".join([stemmer.stem(token) for token in tokens])\n",
    "\n",
    "# Function for Lemmatization\n",
    "def lemmatize_text(text, pos='v'):\n",
    "    # Tokenize text\n",
    "    tokens = tokenizer(text)\n",
    "\n",
    "    # Initialize the lemmatizer\n",
    "    lemmatizer = WordNetLemmatizer()\n",
    "\n",
    "    # Apply lemmatization to the word with a specified part of speech\n",
    "    return \" \".join([lemmatizer.lemmatize(token, pos=pos) for token in tokens])"
   ]
  },
  {
   "cell_type": "code",
   "execution_count": 57,
   "metadata": {},
   "outputs": [
    {
     "name": "stdout",
     "output_type": "stream",
     "text": [
      "Before stemming: enjoying a beautiful day at the park\n",
      "After stemming: enjoy a beauti day at the park\n"
     ]
    }
   ],
   "source": [
    "print(f\"Before stemming: {sentiment_data['Text'].iloc[0]}\")\n",
    "print(f\"After stemming: {stem_text(sentiment_data['Text'].iloc[0])}\")"
   ]
  },
  {
   "cell_type": "code",
   "execution_count": 58,
   "metadata": {},
   "outputs": [
    {
     "name": "stdout",
     "output_type": "stream",
     "text": [
      "Before lemmatization: enjoying a beautiful day at the park\n",
      "After lemmatization: enjoy a beautiful day at the park\n"
     ]
    }
   ],
   "source": [
    "print(f\"Before lemmatization: {sentiment_data['Text'].iloc[0]}\")\n",
    "print(f\"After lemmatization: {lemmatize_text(sentiment_data['Text'].iloc[0])}\")"
   ]
  },
  {
   "cell_type": "markdown",
   "metadata": {},
   "source": [
    "### Applying these changes in the dataset"
   ]
  },
  {
   "cell_type": "code",
   "execution_count": 59,
   "metadata": {},
   "outputs": [
    {
     "data": {
      "text/html": [
       "<div>\n",
       "<style scoped>\n",
       "    .dataframe tbody tr th:only-of-type {\n",
       "        vertical-align: middle;\n",
       "    }\n",
       "\n",
       "    .dataframe tbody tr th {\n",
       "        vertical-align: top;\n",
       "    }\n",
       "\n",
       "    .dataframe thead th {\n",
       "        text-align: right;\n",
       "    }\n",
       "</style>\n",
       "<table border=\"1\" class=\"dataframe\">\n",
       "  <thead>\n",
       "    <tr style=\"text-align: right;\">\n",
       "      <th></th>\n",
       "      <th>Text</th>\n",
       "      <th>Sentiment</th>\n",
       "      <th>Platform</th>\n",
       "      <th>Hashtags</th>\n",
       "    </tr>\n",
       "  </thead>\n",
       "  <tbody>\n",
       "    <tr>\n",
       "      <th>0</th>\n",
       "      <td>enjoy a beauti day at the park natur park</td>\n",
       "      <td>Positive</td>\n",
       "      <td>Twitter</td>\n",
       "      <td>natur park</td>\n",
       "    </tr>\n",
       "    <tr>\n",
       "      <th>1</th>\n",
       "      <td>traffic wa terribl thi morn traffic morn</td>\n",
       "      <td>Negative</td>\n",
       "      <td>Twitter</td>\n",
       "      <td>traffic morn</td>\n",
       "    </tr>\n",
       "    <tr>\n",
       "      <th>2</th>\n",
       "      <td>just finish an amaz workout fit workout</td>\n",
       "      <td>Positive</td>\n",
       "      <td>Instagram</td>\n",
       "      <td>fit workout</td>\n",
       "    </tr>\n",
       "    <tr>\n",
       "      <th>3</th>\n",
       "      <td>excit about the upcom weekend getaway travel a...</td>\n",
       "      <td>Positive</td>\n",
       "      <td>Facebook</td>\n",
       "      <td>travel adventur</td>\n",
       "    </tr>\n",
       "    <tr>\n",
       "      <th>4</th>\n",
       "      <td>tri out a new recip for dinner tonight cook food</td>\n",
       "      <td>Neutral</td>\n",
       "      <td>Instagram</td>\n",
       "      <td>cook food</td>\n",
       "    </tr>\n",
       "  </tbody>\n",
       "</table>\n",
       "</div>"
      ],
      "text/plain": [
       "                                                Text Sentiment     Platform  \\\n",
       "0          enjoy a beauti day at the park natur park  Positive    Twitter     \n",
       "1           traffic wa terribl thi morn traffic morn  Negative    Twitter     \n",
       "2            just finish an amaz workout fit workout  Positive   Instagram    \n",
       "3  excit about the upcom weekend getaway travel a...  Positive    Facebook    \n",
       "4   tri out a new recip for dinner tonight cook food   Neutral   Instagram    \n",
       "\n",
       "          Hashtags  \n",
       "0       natur park  \n",
       "1     traffic morn  \n",
       "2      fit workout  \n",
       "3  travel adventur  \n",
       "4        cook food  "
      ]
     },
     "execution_count": 59,
     "metadata": {},
     "output_type": "execute_result"
    }
   ],
   "source": [
    "# Apply the stemming function to the 'Text' column\n",
    "sentiment_data['Text'] = sentiment_data['Text'].apply(stem_text)\n",
    "# Apply the lemmatization function to the 'Text' column\n",
    "sentiment_data['Text'] = sentiment_data['Text'].apply(lemmatize_text)\n",
    "\n",
    "# Apply the stemming function to the 'Hashtags' column\n",
    "sentiment_data['Hashtags'] = sentiment_data['Hashtags'].apply(stem_text)\n",
    "# Apply the lemmatization function to the 'Hashtags' column\n",
    "sentiment_data['Hashtags'] = sentiment_data['Hashtags'].apply(lemmatize_text)\n",
    "\n",
    "# Combine the cleaned 'Text' and 'Hashtags' columns into a single column by concatenating them with a space in between\n",
    "sentiment_data['Text'] = sentiment_data['Text'] + ' ' + sentiment_data['Hashtags']\n",
    "sentiment_data.head()"
   ]
  },
  {
   "cell_type": "markdown",
   "metadata": {},
   "source": [
    "# 2.3 Feature Engineering\n",
    "Feature engineering in NLP is the process of transforming raw text data into meaningful features that can be leveraged by machine learning models. This step is essential for preparing text data for effective analysis.\n",
    "\n",
    "In this notebook, we will generate `vector embeddings` using two distinct approaches: first, we will train our own vector model using `Doc2Vec` to generate `vector embeddings`. These techniques will help us capture the semantic essence of the text for further analysis.\n",
    "\n",
    "<center><img src=\"https://datasciencedojo.com/wp-content/uploads/vector-embedding-model.webp\" width = 500 height = 300 /></center>\n",
    "\n",
    "`Vector embeddings` in NLP are numerical representations of words or phrases that capture their meanings and relationships. By converting text into dense, continuous vectors, embeddings enable machine learning models to process and understand text more effectively. Popular techniques include Word2Vec, GloVe, and contextual models like BERT, each offering different approaches to capturing semantic and contextual information. These embeddings are crucial for tasks such as text classification, information retrieval, and machine translation."
   ]
  },
  {
   "cell_type": "markdown",
   "metadata": {},
   "source": [
    "## 2.3.1 Vector embedding using doc2vec<br>\n",
    "Doc2Vec is an extension of Word2Vec that generates vector representations for entire documents, rather than just individual words. Unlike traditional bag-of-words models, which treat documents as unordered collections of words, Doc2Vec captures the context and sequence of words, resulting in richer and more informative vectors.\n",
    "\n",
    "Here is an overview of the process that we are performing.\n",
    "\n",
    "- **`TaggedDocument`**: This is a data structure used by the `gensim` library, typically for training models like Doc2Vec. It contains two main elements:\n",
    "  - `words`: A list of tokens (words) from the document.\n",
    "  - `tags`: A list of identifiers (usually strings or integers) that uniquely identify each document.\n",
    "\n",
    "- **`word_tokenize(doc.lower())`**: This part of the code converts each document's text to lowercase and tokenizes it into individual words (or tokens).\n",
    "\n",
    "- **`tags=[str(i)]`**: Here, `i` is the index of the document in the `sentiment_data['Text']` DataFrame column. By wrapping it in `str(i)`, it converts the index `i` to a string and assigns it as a tag to the corresponding document. This tag serves as a unique identifier for the document."
   ]
  },
  {
   "cell_type": "markdown",
   "metadata": {},
   "source": [
    "## 2.3.2 Why use doc2vec?<br>\n",
    "\n",
    "Doc2Vec is particularly useful when you need to represent entire documents or larger text bodies as vectors, especially when these vectors will be used as features in machine learning models or for similarity measures between documents. It's commonly applied in:\n",
    "\n",
    "**Document Classification:** Classifying documents into categories like spam detection, sentiment analysis, or topic categorization.\n",
    "\n",
    "**Document Clustering:** Grouping similar documents together based on their content.\n",
    "\n",
    "**Information Retrieval:** Finding documents similar to a query document.\n",
    "\n",
    "In summary, Doc2Vec is a powerful tool for generating document-level embeddings, capturing the semantic essence of a text. Its ability to handle variable-length documents and produce dense vector representations makes it an invaluable asset in many NLP applications."
   ]
  },
  {
   "cell_type": "code",
   "execution_count": 60,
   "metadata": {},
   "outputs": [
    {
     "data": {
      "text/plain": [
       "[TaggedDocument(words=['enjoy', 'a', 'beauti', 'day', 'at', 'the', 'park', 'natur', 'park'], tags=['0']),\n",
       " TaggedDocument(words=['traffic', 'wa', 'terribl', 'thi', 'morn', 'traffic', 'morn'], tags=['1']),\n",
       " TaggedDocument(words=['just', 'finish', 'an', 'amaz', 'workout', 'fit', 'workout'], tags=['2']),\n",
       " TaggedDocument(words=['excit', 'about', 'the', 'upcom', 'weekend', 'getaway', 'travel', 'adventur'], tags=['3']),\n",
       " TaggedDocument(words=['tri', 'out', 'a', 'new', 'recip', 'for', 'dinner', 'tonight', 'cook', 'food'], tags=['4'])]"
      ]
     },
     "execution_count": 60,
     "metadata": {},
     "output_type": "execute_result"
    }
   ],
   "source": [
    "# Preprocess and tag the documents\n",
    "tagged_data = [TaggedDocument(words=word_tokenize(doc.lower()), tags=[str(i)])\n",
    "                for i, doc in enumerate(sentiment_data['Text'])]\n",
    "\n",
    "tagged_data[:5]"
   ]
  },
  {
   "cell_type": "markdown",
   "metadata": {},
   "source": [
    "### Interpretation:\n",
    "\n",
    "- In the output, each `TaggedDocument` has a `tags` value like `['0']`, `['1']`, `['2']`, etc.\n",
    "- These tags correspond to the document's position in the `sentiment_data['Text']` list. For example:\n",
    "  - The first document `\"Enjoy a beautiful day at the park\"` is tokenized and assigned the tag `['0']`.\n",
    "  - The second document `\"Traffic was terrible this morning\"` is tokenized and assigned the tag `['1']`.\n",
    "  - This continues for each document in the dataset.\n",
    "\n",
    "### Purpose of Tags:\n",
    "\n",
    "- **Unique Identification**: Tags uniquely identify each document within the dataset. This is particularly useful when training models like Doc2Vec, where the model needs to differentiate between different documents.\n",
    "- **Index Reference**: By tagging documents with their index, you can easily reference or retrieve the original document using this tag."
   ]
  },
  {
   "cell_type": "markdown",
   "metadata": {},
   "source": [
    "### Training the tagged data on Doc2Vec to create embeddings\n",
    "\n",
    "###Key Parameters in Doc2Vec\n",
    "\n",
    "a. **vector_size:**\n",
    "\n",
    "**Description:** Specifies the dimensionality of the feature vectors. Higher dimensions can capture more information but require more computational resources.\n",
    "Typical Values: 100-300 are common, but this can vary depending on the task and the amount of training data.\n",
    "\n",
    "b. **window:**\n",
    "\n",
    "**Description:** Defines the maximum distance between the current and predicted word within a sentence. A larger window size considers more context, while a smaller size focuses on local context.\n",
    "**Typical Values:** Usually set between 5-10.\n",
    "\n",
    "c. **min_count:**\n",
    "\n",
    "**Description:** Ignores all words with a total frequency lower than this threshold. This helps in reducing the noise caused by infrequent words.\n",
    "**Typical Values:** Commonly set to 1-5, depending on the dataset size.\n",
    "\n",
    "d. **dm (Distributed Memory):**\n",
    "\n",
    "**Description:** Determines the training algorithm. If dm=1, it uses the Distributed Memory version of Doc2Vec (PV-DM), which maintains the context of words across the document. If dm=0, it uses Distributed Bag of Words (PV-DBOW), which is similar to Skip-Gram in Word2Vec.\n",
    "**Typical Values:** dm=1 for PV-DM, dm=0 for PV-DBOW.\n",
    "\n",
    "e. **epochs:**\n",
    "\n",
    "**Description:** Number of iterations (epochs) over the corpus. More epochs typically improve the model, but too many can lead to overfitting.\n",
    "**Typical Values:** 10-20 epochs are common, but this can be adjusted based on the dataset size and complexity.\n",
    "\n",
    "f. **alpha and min_alpha:**\n",
    "\n",
    "**Description:** The initial learning rate (alpha) and the minimum learning rate (min_alpha). The learning rate decreases over time, and these parameters control the speed and decay.\n",
    "**Typical Values:** alpha=0.025 and min_alpha=0.0001 are typical starting values.\n",
    "\n",
    "g. **negative:**\n",
    "\n",
    "**Description:** If >0, negative sampling is used. The value specifies the number of \"noise words\" that should be drawn for each word in the training data.\n",
    "**Typical Values:** negative=5 is common, but this can vary depending on the specific task.\n",
    "\n",
    "h. **hs (Hierarchical Softmax):**\n",
    "\n",
    "**Description:** If hs=1, hierarchical softmax is used for training the model. It’s an alternative to negative sampling, and both methods are mutually exclusive.\n",
    "**Typical Values:** hs=0 for negative sampling (default), hs=1 for hierarchical softmax."
   ]
  },
  {
   "cell_type": "code",
   "execution_count": 61,
   "metadata": {},
   "outputs": [],
   "source": [
    "# Initialize the Doc2Vec model\n",
    "vector_model_doc2vec = Doc2Vec(vector_size=100, min_count=1, epochs=100, dm=1)\n",
    "\n",
    "# Build the vocabulary from the tagged documents\n",
    "vector_model_doc2vec.build_vocab(tagged_data)\n",
    "\n",
    "# Train the model on the data\n",
    "vector_model_doc2vec.train(tagged_data, total_examples=vector_model_doc2vec.corpus_count,\n",
    "                           epochs=vector_model_doc2vec.epochs)"
   ]
  },
  {
   "cell_type": "code",
   "execution_count": 62,
   "metadata": {},
   "outputs": [],
   "source": [
    "# Function for using Doc2Vec\n",
    "def text_to_vector_doc2vec(text):\n",
    "    \"\"\"\n",
    "    Convert a text string into a vector representation using a Doc2Vec model.\n",
    "\n",
    "    Parameters:\n",
    "    - text (str): The input text that needs to be converted to a vector.\n",
    "\n",
    "    Returns:\n",
    "    - vector (numpy.ndarray): The vector representation of the input text.\n",
    "    \"\"\"\n",
    "    # Tokenize the input text into a list of tokens\n",
    "    tokens = tokenizer(text)\n",
    "\n",
    "    # Infer the vector representation of the tokenized text using the Doc2Vec model\n",
    "    vector = vector_model_doc2vec.infer_vector(tokens)\n",
    "\n",
    "    # Return the vector representation\n",
    "    return vector\n",
    "\n",
    "# Function for using spaCy\n",
    "def text_to_vector_spaCy(text):\n",
    "    # Convert processed text to a spaCy document\n",
    "    doc = nlp(text)\n",
    "\n",
    "    # Get the vector of the processed text\n",
    "    vector = doc.vector\n",
    "\n",
    "    return vector"
   ]
  },
  {
   "cell_type": "code",
   "execution_count": 63,
   "metadata": {},
   "outputs": [
    {
     "name": "stdout",
     "output_type": "stream",
     "text": [
      "Text for vectorization: enjoy a beauti day at the park natur park\n",
      "Text to vector: [-0.02596326 -0.05984505 -0.13095832  0.17903501 -0.01880597  0.1815243\n",
      "  0.26141846  0.08150872 -0.03570916 -0.10108685 -0.16762862  0.06382191\n",
      "  0.24918935  0.111605   -0.0461127   0.19151226  0.00837029 -0.31645024\n",
      "  0.25855738 -0.42578876  0.16854233  0.04104919  0.6312894  -0.2337203\n",
      "  0.2516783  -0.29622352 -0.24827467 -0.08746395 -0.1742004   0.05706665\n",
      "  0.15947792 -0.07949678  0.04839663 -0.01148516  0.01199138  0.32395437\n",
      " -0.30495977 -0.07253964 -0.16049021 -0.12264004  0.3162938   0.11063562\n",
      " -0.08638127 -0.03623796 -0.00707746 -0.12190788 -0.27623993 -0.1269555\n",
      " -0.00991466  0.11932702 -0.21704803 -0.35464472 -0.31891394 -0.523074\n",
      "  0.12886293  0.15992147 -0.15717214 -0.09622198 -0.15038456  0.2574478\n",
      " -0.19743237 -0.32346982  0.3090527   0.17581965 -0.4750651   0.2923943\n",
      "  0.06348751  0.04933371 -0.43344882  0.28466922 -0.05136501 -0.15656567\n",
      "  0.222329   -0.04267321  0.46432889 -0.25874195  0.259197   -0.08816408\n",
      " -0.45787162 -0.11324091  0.16641103 -0.13925076 -0.43217608  0.2721928\n",
      " -0.32992247 -0.2636784   0.31429183 -0.22030187 -0.22927928 -0.52920616\n",
      "  0.46506995  0.11353384 -0.02726153 -0.221892    0.05467456 -0.03776144\n",
      "  0.01190032 -0.08197271  0.32971135 -0.14235489]\n"
     ]
    }
   ],
   "source": [
    "# Using Doc2Vec to create the vectors\n",
    "# Note: You shall also use spaCy here instead of Doc2Vec\n",
    "print(f\"Text for vectorization: {sentiment_data['Text'].iloc[0]}\")\n",
    "print(f\"Text to vector: {text_to_vector_doc2vec(sentiment_data['Text'].iloc[0])}\")"
   ]
  },
  {
   "cell_type": "code",
   "execution_count": 64,
   "metadata": {},
   "outputs": [
    {
     "data": {
      "text/plain": [
       "array(['Positive', 'Negative', 'Positive', 'Positive', 'Neutral'],\n",
       "      dtype='<U8')"
      ]
     },
     "execution_count": 64,
     "metadata": {},
     "output_type": "execute_result"
    }
   ],
   "source": [
    "# Convert the text data into vector representations using the Doc2Vec model\n",
    "X_vector_data_doc2vec = np.array([text_to_vector_doc2vec(text) for text in sentiment_data['Text']])\n",
    "\n",
    "# Convert the sentiment labels into a NumPy array\n",
    "Y_data = np.array(sentiment_data['Sentiment'].tolist())\n",
    "\n",
    "Y_data[:5]"
   ]
  },
  {
   "cell_type": "markdown",
   "metadata": {},
   "source": [
    "# 2.4 Model Building\n",
    "\n",
    "## 2.4.1.1 Naive Bayes Algorithm\n",
    "\n",
    "- Naive Bayes is a simple yet effective probabilistic machine learning algorithm used for classification tasks.\n",
    "- It is based on Bayes' Theorem and assumes that the features in a dataset are independent of each other, given the class label—an assumption known as \"naive.\"\n",
    "- Despite this simplification, Naive Bayes performs well in many real-world scenarios, particularly in text classification problems like spam detection or sentiment analysis.\n",
    "- The algorithm calculates the probability of each class and selects the one with the highest probability as the prediction.\n",
    "- Its efficiency and effectiveness, especially with large datasets, make it a popular choice in various applications.\n",
    "\n",
    "<center><img src=\"https://insightimi.wordpress.com/wp-content/uploads/2020/04/unnamed-1.png\" width=500 height=300/></center>"
   ]
  },
  {
   "cell_type": "code",
   "execution_count": 65,
   "metadata": {},
   "outputs": [
    {
     "data": {
      "text/plain": [
       "array(['Positive', 'Positive', 'Neutral', 'Neutral', 'Neutral',\n",
       "       'Negative', 'Negative', 'Positive', 'Positive', 'Positive',\n",
       "       'Negative', 'Neutral', 'Negative', 'Negative', 'Positive',\n",
       "       'Negative', 'Positive', 'Positive', 'Negative', 'Positive',\n",
       "       'Positive', 'Positive', 'Negative', 'Positive', 'Positive',\n",
       "       'Neutral', 'Positive', 'Positive', 'Positive', 'Positive',\n",
       "       'Neutral', 'Neutral', 'Positive', 'Positive', 'Positive',\n",
       "       'Negative', 'Positive', 'Neutral', 'Negative', 'Positive',\n",
       "       'Negative', 'Negative', 'Neutral', 'Positive', 'Neutral',\n",
       "       'Negative', 'Neutral', 'Positive', 'Neutral', 'Negative',\n",
       "       'Positive', 'Positive', 'Negative', 'Negative', 'Negative',\n",
       "       'Neutral', 'Positive', 'Positive', 'Positive', 'Negative',\n",
       "       'Neutral', 'Positive', 'Neutral', 'Positive', 'Positive',\n",
       "       'Positive', 'Positive', 'Negative', 'Positive', 'Positive',\n",
       "       'Neutral', 'Negative', 'Neutral', 'Positive', 'Negative',\n",
       "       'Positive', 'Positive', 'Neutral', 'Positive', 'Positive',\n",
       "       'Positive', 'Positive', 'Neutral', 'Neutral', 'Neutral',\n",
       "       'Positive', 'Positive', 'Negative', 'Positive', 'Positive',\n",
       "       'Neutral', 'Neutral', 'Positive', 'Negative', 'Neutral',\n",
       "       'Negative', 'Positive', 'Positive', 'Positive', 'Negative',\n",
       "       'Neutral', 'Negative', 'Positive', 'Positive', 'Negative',\n",
       "       'Positive', 'Positive', 'Positive', 'Positive', 'Positive',\n",
       "       'Negative', 'Positive', 'Positive', 'Positive', 'Negative',\n",
       "       'Positive', 'Neutral', 'Neutral', 'Neutral', 'Neutral', 'Negative',\n",
       "       'Neutral', 'Negative', 'Positive', 'Negative', 'Neutral',\n",
       "       'Negative', 'Negative', 'Positive', 'Positive', 'Neutral',\n",
       "       'Neutral', 'Positive', 'Positive', 'Neutral', 'Positive',\n",
       "       'Negative', 'Positive', 'Positive', 'Negative', 'Positive',\n",
       "       'Positive', 'Positive', 'Negative', 'Neutral', 'Negative',\n",
       "       'Positive'], dtype='<U8')"
      ]
     },
     "execution_count": 65,
     "metadata": {},
     "output_type": "execute_result"
    }
   ],
   "source": [
    "# Split the data into training and testing sets\n",
    "X_train, X_test, y_train, y_test = train_test_split(X_vector_data_doc2vec, Y_data,\n",
    "                                                    test_size=0.2, random_state=42)\n",
    "\n",
    "# Train a Gaussian Naive Bayes model\n",
    "model = GaussianNB()\n",
    "\n",
    "# Fit the model\n",
    "model.fit(X_train, y_train)\n",
    "\n",
    "# Predict on the test set\n",
    "y_pred = model.predict(X_test)\n",
    "\n",
    "y_pred"
   ]
  },
  {
   "cell_type": "markdown",
   "metadata": {},
   "source": [
    "### Evaluating the Model"
   ]
  },
  {
   "cell_type": "code",
   "execution_count": 66,
   "metadata": {},
   "outputs": [],
   "source": [
    "# Defining a function to plot the confusion matrix\n",
    "def confusion_matrix_plot(y_true, y_pred,\n",
    "                          labels=['Positive', 'Negative', 'Neutral']):\n",
    "    \"\"\"\n",
    "    Plots the confusion matrix for the given true and predicted labels.\n",
    "\n",
    "    Parameters:\n",
    "    - y_true: array-like of shape (n_samples,) - True labels.\n",
    "    - y_pred: array-like of shape (n_samples,) - Predicted labels.\n",
    "    - labels: list of str (default=['Positive', 'Negative', 'Neutral']) - List of label names\n",
    "              corresponding to the classes in the same order as the numeric labels.\n",
    "\n",
    "    Returns:\n",
    "    - None - This function directly plots the confusion matrix.\n",
    "    \"\"\"\n",
    "\n",
    "    # Generate the confusion matrix\n",
    "    cm = confusion_matrix(y_true, y_pred)\n",
    "\n",
    "    # Set the size of the plot\n",
    "    plt.figure(figsize=(8, 6))\n",
    "\n",
    "    # Create a heatmap to visualize the confusion matrix\n",
    "    # - annot=True: Annotates each cell with the numerical value\n",
    "    # - fmt='d': Formats the annotations as integers\n",
    "    # - cmap='Blues': Uses a blue color map for the heatmap\n",
    "    # - xticklabels and yticklabels: Labels for the x and y axes based on the provided labels\n",
    "    sns.heatmap(cm, annot=True, fmt='d', cmap='Blues', xticklabels=labels, yticklabels=labels)\n",
    "\n",
    "    # Set the label for the x-axis\n",
    "    plt.xlabel('Predicted Label')\n",
    "\n",
    "    # Set the label for the y-axis\n",
    "    plt.ylabel('True Label')\n",
    "\n",
    "    # Set the title of the plot\n",
    "    plt.title('Confusion Matrix')\n",
    "\n",
    "    # Display the plot\n",
    "    plt.show()"
   ]
  },
  {
   "cell_type": "code",
   "execution_count": 67,
   "metadata": {},
   "outputs": [
    {
     "data": {
      "image/png": "[encoded data removed]",
      "text/plain": [
       "<Figure size 800x600 with 2 Axes>"
      ]
     },
     "metadata": {},
     "output_type": "display_data"
    }
   ],
   "source": [
    "# Confusion Matrix Plot\n",
    "confusion_matrix_plot(y_test, y_pred)"
   ]
  },
  {
   "cell_type": "markdown",
   "metadata": {},
   "source": [
    "### Interpretation:\n",
    "- The model accurately predicted the `Neutral` class 56 times, which is the highest among all classes, indicating good performance for this category.\n",
    "- The model did not confuse any `Positive` instances as `Negative`, which is a positive aspect of its performance.\n",
    "- While the model performs well with the `Neutral` class, there are considerable misclassifications in the `Positive` and `Negative` classes, suggesting that further tuning or more training data may be necessary to improve the accuracy for those classes."
   ]
  },
  {
   "cell_type": "code",
   "execution_count": 71,
   "metadata": {},
   "outputs": [
    {
     "name": "stdout",
     "output_type": "stream",
     "text": [
      "              precision    recall  f1-score   support\n",
      "\n",
      "    Negative       0.61      0.68      0.64        34\n",
      "     Neutral       0.60      0.44      0.51        48\n",
      "    Positive       0.72      0.82      0.76        65\n",
      "\n",
      "    accuracy                           0.66       147\n",
      "   macro avg       0.64      0.64      0.64       147\n",
      "weighted avg       0.65      0.66      0.65       147\n",
      "\n"
     ]
    }
   ],
   "source": [
    "# Evaluate the performance of the classification model using the true and predicted labels\n",
    "print(classification_report(y_test, y_pred))"
   ]
  },
  {
   "cell_type": "markdown",
   "metadata": {},
   "source": [
    "### Observation:\n",
    "\n",
    "Even after the hyperparameter tuning, the metrics haven't improved significantly. So, let's try a different algorithm.\n",
    "\n",
    "<hr>"
   ]
  },
  {
   "cell_type": "markdown",
   "metadata": {},
   "source": [
    "## 2.4.2 K-Nearest Neighbors (KNN) Algorithm\n",
    "\n",
    "- The K-Nearest Neighbors (KNN) algorithm is a simple, yet powerful machine learning technique used for both classification and regression tasks.\n",
    "- It works by identifying the 'k' closest data points (neighbors) to a given input, based on a chosen distance metric such as Euclidean distance.\n",
    "- For classification, KNN assigns the most common class among these neighbors to the new instance, while in regression, it predicts the value by averaging the neighbors' outputs.\n",
    "- KNN is a non-parametric, instance-based learning algorithm, meaning it doesn't learn an explicit model during training but instead stores the entire training dataset and makes predictions by directly comparing new inputs to the stored data.\n",
    "- While KNN is easy to understand and implement, it can be computationally expensive during the prediction phase, especially with large datasets, and is sensitive to the choice of 'k' and the distance metric used.\n",
    "- Despite these challenges, KNN remains a popular choice for problems where interpretability and simplicity are valued.\n",
    "\n",
    "<center><img src=\"https://www.researchgate.net/publication/341831889/figure/fig2/AS:903350463787009@1592386942516/KNN-K-NN-Algorithms-K-NN-algo-following-some-steps-1-Pick-a-value-for-K-2-Calculate.ppm\" width=500 /></center>"
   ]
  },
  {
   "cell_type": "code",
   "execution_count": 72,
   "metadata": {},
   "outputs": [
    {
     "name": "stdout",
     "output_type": "stream",
     "text": [
      "              precision    recall  f1-score   support\n",
      "\n",
      "    Negative       0.76      0.65      0.70        34\n",
      "     Neutral       0.88      0.60      0.72        48\n",
      "    Positive       0.74      0.97      0.84        65\n",
      "\n",
      "    accuracy                           0.78       147\n",
      "   macro avg       0.79      0.74      0.75       147\n",
      "weighted avg       0.79      0.78      0.77       147\n",
      "\n"
     ]
    }
   ],
   "source": [
    "# Split the data\n",
    "X_train, X_test, y_train, y_test = train_test_split(X_vector_data_doc2vec, Y_data,\n",
    "                                                    test_size=0.2, random_state=42)\n",
    "\n",
    "# Initialize the KNN model\n",
    "knn = KNeighborsClassifier()\n",
    "\n",
    "# Fit the model\n",
    "knn.fit(X_train, y_train)\n",
    "\n",
    "# Make predictions\n",
    "y_pred = knn.predict(X_test)\n",
    "\n",
    "# Evaluation of the model\n",
    "print(classification_report(y_test, y_pred))"
   ]
  },
  {
   "cell_type": "markdown",
   "metadata": {},
   "source": [
    "### Observation:\n",
    "\n",
    "As kNN algorithm also provides similar results, let's do hyperparameter tuning and find the best parameters."
   ]
  },
  {
   "cell_type": "markdown",
   "metadata": {},
   "source": [
    "#2.4.3 K-Nearest Neighbors (KNN) Hyperparameter tnning\n",
    "\n",
    "### Hyperparameters for the `K-Nearest Neighbors (KNN)`\n",
    "\n",
    "- **n_neighbors:** This hyperparameter specifies the number of nearest neighbors that the algorithm considers when making predictions. A small value of k (e.g., 1 or 3) makes the model sensitive to noise and potentially more prone to overfitting, as it closely follows the training data. On the other hand, a larger k smooths out the decision boundary but can lead to underfitting, where the model may fail to capture the underlying pattern in the data.\n",
    "\n",
    "<center><img src=\"https://miro.medium.com/v2/resize:fit:1400/1*TFY4OWhJoXLiBTYs1rq9EQ.jpeg\" width=500/></center>\n",
    "\n",
    "*Note: You will understand more about overfitting and underfitting through the course.*\n",
    "\n",
    "- **metric:** Defines the distance measure used to compute the proximity between data points. The choice of metric can significantly impact the model’s performance. The Euclidean distance (default) is the most common, calculating the straight-line distance between two points. Other metrics like Manhattan (sum of absolute differences) and Minkowski (a generalization of both Euclidean and Manhattan) can be used depending on the specific data characteristics and problem requirements.\n",
    "\n",
    "- **weights:** This hyperparameter controls how the influence of each neighbor is weighted when making a prediction. With weights='uniform', all neighbors contribute equally. With weights='distance', closer neighbors have a greater influence on the prediction, which can lead to better performance in cases where nearby points are more indicative of the correct class or value.\n",
    "\n",
    "- **algorithm:** Specifies the method used to compute the nearest neighbors. The choices include ball_tree (efficient for high-dimensional data), kd_tree (efficient for low-dimensional data), and brute (exhaustive search, used for small datasets). The auto option lets the algorithm choose the most appropriate method based on the dataset characteristics, balancing between speed and efficiency.\n",
    "\n",
    "- **leaf_size:** This parameter affects the tree-based algorithms (ball_tree and kd_tree) and controls the number of points at which the algorithm switches from tree-based to brute-force search. Smaller leaf sizes can lead to deeper trees, improving the speed of nearest neighbor searches at the cost of increased memory usage and training time.\n",
    "\n",
    "*Note: Tree based algorithms will be covered later in the course.*"
   ]
  },
  {
   "cell_type": "code",
   "execution_count": 75,
   "metadata": {},
   "outputs": [
    {
     "name": "stdout",
     "output_type": "stream",
     "text": [
      "Fitting 10 folds for each of 384 candidates, totalling 3840 fits\n",
      "Best Parameters: {'algorithm': 'auto', 'leaf_size': 20, 'metric': 'manhattan', 'n_neighbors': 3, 'weights': 'distance'}\n"
     ]
    },
    {
     "name": "stderr",
     "output_type": "stream",
     "text": [
      "C:\\Users\\Rajeev\\AppData\\Local\\Packages\\PythonSoftwareFoundation.Python.3.8_qbz5n2kfra8p0\\LocalCache\\local-packages\\Python38\\site-packages\\sklearn\\model_selection\\_search.py:979: UserWarning: One or more of the test scores are non-finite: [0.67665108 0.69210988 0.6543834  0.6886616  0.65970193 0.68191116\n",
      " 0.65116891 0.67685564 0.6597896  0.6682934  0.64959088 0.6631502\n",
      " 0.63240795 0.6393045  0.62223846 0.63933372        nan 0.69549971\n",
      "        nan 0.68535944        nan 0.68369375        nan 0.68708358\n",
      "        nan 0.66992987        nan 0.6648159         nan 0.64438925\n",
      "        nan 0.64099942 0.67665108 0.69210988 0.6543834  0.6886616\n",
      " 0.65970193 0.68191116 0.65116891 0.67685564 0.6597896  0.6682934\n",
      " 0.64959088 0.6631502  0.63240795 0.6393045  0.62223846 0.63933372\n",
      "        nan 0.69549971        nan 0.68535944        nan 0.68369375\n",
      "        nan 0.68708358        nan 0.66992987        nan 0.6648159\n",
      "        nan 0.64438925        nan 0.64099942 0.67665108 0.69210988\n",
      " 0.6543834  0.6886616  0.65970193 0.68191116 0.65116891 0.67685564\n",
      " 0.6597896  0.6682934  0.64959088 0.6631502  0.63240795 0.6393045\n",
      " 0.62223846 0.63933372        nan 0.69549971        nan 0.68535944\n",
      "        nan 0.68369375        nan 0.68708358        nan 0.66992987\n",
      "        nan 0.6648159         nan 0.64438925        nan 0.64099942\n",
      " 0.67665108 0.69210988 0.6543834  0.6886616  0.65970193 0.68191116\n",
      " 0.65116891 0.67685564 0.6597896  0.6682934  0.64959088 0.6631502\n",
      " 0.63240795 0.6393045  0.62223846 0.63933372 0.67501461 0.69549971\n",
      " 0.65105202 0.68535944 0.66139684 0.68369375 0.65452951 0.68708358\n",
      " 0.65452951 0.66992987 0.64438925 0.6648159  0.63758036 0.64438925\n",
      " 0.63585622 0.64099942 0.67665108 0.69210988 0.6543834  0.6886616\n",
      " 0.65970193 0.68191116 0.65116891 0.67685564 0.6597896  0.6682934\n",
      " 0.64959088 0.6631502  0.63240795 0.6393045  0.62223846 0.63933372\n",
      " 0.67501461 0.69549971 0.65105202 0.68535944 0.66139684 0.68369375\n",
      " 0.65452951 0.68708358 0.65452951 0.66992987 0.64438925 0.6648159\n",
      " 0.63758036 0.64438925 0.63585622 0.64099942 0.67665108 0.69210988\n",
      " 0.6543834  0.6886616  0.65970193 0.68191116 0.65116891 0.67685564\n",
      " 0.6597896  0.6682934  0.64959088 0.6631502  0.63240795 0.6393045\n",
      " 0.62223846 0.63933372 0.67501461 0.69549971 0.65105202 0.68535944\n",
      " 0.66139684 0.68369375 0.65452951 0.68708358 0.65452951 0.66992987\n",
      " 0.64438925 0.6648159  0.63758036 0.64438925 0.63585622 0.64099942\n",
      " 0.67665108 0.69210988 0.6543834  0.6886616  0.65970193 0.68191116\n",
      " 0.65116891 0.67685564 0.6597896  0.6682934  0.64959088 0.6631502\n",
      " 0.63240795 0.6393045  0.62223846 0.63933372 0.67501461 0.69549971\n",
      " 0.65105202 0.68535944 0.66139684 0.68369375 0.65452951 0.68708358\n",
      " 0.65452951 0.66992987 0.64438925 0.6648159  0.63758036 0.64438925\n",
      " 0.63585622 0.64099942 0.67665108 0.69210988 0.6543834  0.6886616\n",
      " 0.65970193 0.68191116 0.65116891 0.67685564 0.6597896  0.6682934\n",
      " 0.64959088 0.6631502  0.63240795 0.6393045  0.62223846 0.63933372\n",
      " 0.67501461 0.69549971 0.65105202 0.68535944 0.66139684 0.68369375\n",
      " 0.65452951 0.68708358 0.65452951 0.66992987 0.64438925 0.6648159\n",
      " 0.63758036 0.64438925 0.63585622 0.64099942 0.67665108 0.69210988\n",
      " 0.6543834  0.6886616  0.65970193 0.68191116 0.65116891 0.67685564\n",
      " 0.6597896  0.6682934  0.64959088 0.6631502  0.63240795 0.6393045\n",
      " 0.62223846 0.63933372 0.67501461 0.69549971 0.65105202 0.68535944\n",
      " 0.66139684 0.68369375 0.65452951 0.68708358 0.65452951 0.66992987\n",
      " 0.64438925 0.6648159  0.63758036 0.64438925 0.63585622 0.64099942\n",
      " 0.67665108 0.69210988 0.6543834  0.6886616  0.65970193 0.68191116\n",
      " 0.65116891 0.67685564 0.6597896  0.6682934  0.64959088 0.6631502\n",
      " 0.63240795 0.6393045  0.62223846 0.63933372        nan 0.69549971\n",
      "        nan 0.68535944        nan 0.68369375        nan 0.68708358\n",
      "        nan 0.66992987        nan 0.6648159         nan 0.64438925\n",
      "        nan 0.64099942 0.67665108 0.69210988 0.6543834  0.6886616\n",
      " 0.65970193 0.68191116 0.65116891 0.67685564 0.6597896  0.6682934\n",
      " 0.64959088 0.6631502  0.63240795 0.6393045  0.62223846 0.63933372\n",
      "        nan 0.69549971        nan 0.68535944        nan 0.68369375\n",
      "        nan 0.68708358        nan 0.66992987        nan 0.6648159\n",
      "        nan 0.64438925        nan 0.64099942 0.67665108 0.69210988\n",
      " 0.6543834  0.6886616  0.65970193 0.68191116 0.65116891 0.67685564\n",
      " 0.6597896  0.6682934  0.64959088 0.6631502  0.63240795 0.6393045\n",
      " 0.62223846 0.63933372        nan 0.69549971        nan 0.68535944\n",
      "        nan 0.68369375        nan 0.68708358        nan 0.66992987\n",
      "        nan 0.6648159         nan 0.64438925        nan 0.64099942]\n",
      "  warnings.warn(\n"
     ]
    }
   ],
   "source": [
    "# Split the data\n",
    "X_train, X_test, y_train, y_test = train_test_split(X_vector_data_doc2vec, Y_data,\n",
    "                                                    test_size=0.2, random_state=42)\n",
    "\n",
    "\n",
    "# Define the parameter grid\n",
    "param_grid = {\n",
    "    'n_neighbors': [3, 4, 5, 6, 7, 8, 9, 10],\n",
    "    'weights': ['uniform', 'distance'],\n",
    "    'metric': ['euclidean', 'manhattan'],\n",
    "    'algorithm': ['auto', 'ball_tree', 'kd_tree', 'brute'],\n",
    "    'leaf_size': [20, 30, 40]\n",
    "}\n",
    "\n",
    "# Set up the Grid Search with Cross-Validation\n",
    "grid_search = GridSearchCV(knn, param_grid, cv=10, scoring='accuracy', n_jobs=-1, verbose=1)\n",
    "\n",
    "# Fit the model with the best parameters\n",
    "grid_search.fit(X_train, y_train)\n",
    "\n",
    "# Get the best parameters\n",
    "best_params_knn = grid_search.best_params_\n",
    "\n",
    "print(f\"Best Parameters: {best_params_knn}\")"
   ]
  },
  {
   "cell_type": "markdown",
   "metadata": {},
   "source": [
    "### Training the model on the best hyperparameters"
   ]
  },
  {
   "cell_type": "code",
   "execution_count": 76,
   "metadata": {},
   "outputs": [
    {
     "name": "stdout",
     "output_type": "stream",
     "text": [
      "              precision    recall  f1-score   support\n",
      "\n",
      "    Negative       0.74      0.59      0.66        34\n",
      "     Neutral       0.82      0.56      0.67        48\n",
      "    Positive       0.72      0.97      0.83        65\n",
      "\n",
      "    accuracy                           0.75       147\n",
      "   macro avg       0.76      0.71      0.72       147\n",
      "weighted avg       0.76      0.75      0.74       147\n",
      "\n"
     ]
    }
   ],
   "source": [
    "# Split data into training and testing sets\n",
    "X_train, X_test, y_train, y_test = train_test_split(X_vector_data_doc2vec, Y_data,\n",
    "                                                    test_size=0.2, random_state=42)\n",
    "# Initialize and train the KNN model\n",
    "model = KNeighborsClassifier(algorithm=best_params_knn['algorithm'],\n",
    "                           n_neighbors=best_params_knn['n_neighbors'],\n",
    "                           metric=best_params_knn['metric'],\n",
    "                           weights=best_params_knn['weights'])\n",
    "\n",
    "# Train the model\n",
    "model.fit(X_train, y_train)\n",
    "\n",
    "# Make predictions\n",
    "y_pred = model.predict(X_test)\n",
    "\n",
    "# Evaluation of the model\n",
    "print(classification_report(y_test, y_pred))"
   ]
  },
  {
   "cell_type": "markdown",
   "metadata": {},
   "source": [
    "### Interpretation:\n",
    "- The model achieved a 77% accuracy, reflecting an overall solid performance across all classes.\n",
    "\n",
    "- High recall for `Positive` class indicating the model is very effective at correctly identifying Positive instances, but might be overpredicting as well\n",
    "\n",
    "- The Precision value is balanced across all the classes.\n",
    "\n",
    "- The `Neutral` class has a good F1 score indicating the model is handling this class better than before, although recall is still a bit low.\n",
    "\n",
    "- Good F1-score for the entire model indicates that no class tends to be over dominating the predictions.\n",
    "\n",
    "<hr>"
   ]
  }
 ],
 "metadata": {
  "kernelspec": {
   "display_name": "Python 3",
   "language": "python",
   "name": "python3"
  },
  "language_info": {
   "codemirror_mode": {
    "name": "ipython",
    "version": 3
   },
   "file_extension": ".py",
   "mimetype": "text/x-python",
   "name": "python",
   "nbconvert_exporter": "python",
   "pygments_lexer": "ipython3",
   "version": "3.8.10"
  }
 },
 "nbformat": 4,
 "nbformat_minor": 2
}
