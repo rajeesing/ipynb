{
 "cells": [
  {
   "cell_type": "markdown",
   "metadata": {
    "id": "etU94s---Nyc"
   },
   "source": [
    "# Workshop - I\n",
    "\n",
    "## Objective:\n",
    "In this module, we will explore various regression and classification models to evaluate their performance on a given dataset, ultimately determining which model delivers the best results:\n",
    "\n",
    "- **1. Regression Models:**\n",
    "     - Dataset Description\n",
    "\n",
    "     - Conduct Exploratory Data Analysis (EDA) on the dataset.\n",
    "      - a. Basic Information\n",
    "      - b. Examine the Target Variable\n",
    "      - c. Examine Feature Variables\n",
    "      - d. Feature-Target Relationship\n",
    "      - e. Check for Multicollinearity\n",
    "\n",
    "     - Data pre-processing\n",
    "\n",
    "     - Train and evaluate different regression models:\n",
    "      - a. Simple Linear Regression\n",
    "      - b. Polynomial Regression\n",
    "     \n",
    "\n",
    "- **2. Classification Models:**\n",
    "     - Dataset Description\n",
    "\n",
    "     - Conduct Exploratory Data Analysis (EDA) on the dataset.\n",
    "      - a. Basic Information\n",
    "      - b. Examine the Target Variable\n",
    "      - c. Examine Feature Variables\n",
    "      - d. Check for Multicollinearity\n",
    "\n",
    "     - Data pre-processing\n",
    "\n",
    "     - Train and evaluate different classification models:\n",
    "      - a. Logistic Regression\n",
    "      - b. K-Nearest Neighbours (KNN)\n",
    "      - c. Naive Bayes\n",
    "\n",
    "     - Hyperparameter tuning using techniques such as   GridSearchCV or RandomizedSearchCV"
   ]
  },
  {
   "cell_type": "markdown",
   "metadata": {
    "id": "vAJgmxSXBWLl"
   },
   "source": [
    "#1. Regression Models\n",
    "\n"
   ]
  },
  {
   "cell_type": "markdown",
   "metadata": {
    "id": "_9-JNYnV3rR9"
   },
   "source": [
    "## 1.1 Dataset Description\n",
    "\n",
    "<center><img src=\"https://i.pcmag.com/imagery/articles/00p0Qzwvctko7LmNqSYnPAE-10..v1713208898.jpg\" width=500/></center>\n",
    "\n",
    "**Problem Statement:**\n",
    "\n",
    "Develop a model that predicts the price range of mobile phones based on their features and specifications. The goal is to classify mobile devices into different price categories (e.g., low, medium, high) using attributes such as battery life, screen size, RAM, processor speed, and camera quality. This model will assist manufacturers, retailers, and consumers in understanding how various features contribute to the overall cost of mobile devices.\n",
    "\n",
    "**Dataset:**\n",
    "Dataset is taken from kaggle - <a href='https://www.kaggle.com/datasets/ganjerlawrence/mobile-phone-price-prediction-cleaned-dataset'>link</a>\n",
    "\n",
    "This data set is a collection for information about various mobile phone type . it is a cleaned data set made available for beginners who want to learn on how to implement machine learning algorithms rather than spending time cleaning the data set. you can just concentrate on building your models\n",
    "\n",
    "The columns available in the dataset are:-\n",
    "\n",
    "- **Ratings:** This field contains the various rating given by customers\n",
    "- **Ram:** This field contain the Ram capacity of the phone in GB\n",
    "- **ROM:** This is field contains the number of space available in the phone in GB\n",
    "- **Mobile_Size:** This is the int size of the screen\n",
    "- **Primary_Cam:** This is the number of pixels of the Back camera\n",
    "- **Selfi_Cam:** The number of Pixels of the front camera\n",
    "- **Battery_Power:** The battery power\n",
    "- **Price:** The price of the mobile phone in INR(indian Rupees)\n",
    "\n",
    "All the fields are already in numerical values either `int` or `float`.\n",
    "\n"
   ]
  },
  {
   "cell_type": "markdown",
   "metadata": {
    "id": "OR9wLHftuElT"
   },
   "source": [
    "## 1.2 Importing the necessary libraries & modules"
   ]
  },
  {
   "cell_type": "code",
   "execution_count": 3,
   "metadata": {
    "id": "W8r7zH2s0ZgF"
   },
   "outputs": [],
   "source": [
    "# Import the warnings module, which allows control over warning messages\n",
    "import warnings\n",
    "\n",
    "# Suppress all warnings in the script\n",
    "warnings.filterwarnings(\"ignore\")"
   ]
  },
  {
   "cell_type": "code",
   "execution_count": 5,
   "metadata": {},
   "outputs": [
    {
     "name": "stdout",
     "output_type": "stream",
     "text": [
      "Collecting statsmodels\n",
      "  Downloading statsmodels-0.14.1-cp38-cp38-win_amd64.whl (10.0 MB)\n",
      "Requirement already satisfied: pandas!=2.1.0,>=1.0 in c:\\users\\rajeev\\appdata\\local\\packages\\pythonsoftwarefoundation.python.3.8_qbz5n2kfra8p0\\localcache\\local-packages\\python38\\site-packages (from statsmodels) (2.0.3)\n",
      "Requirement already satisfied: scipy!=1.9.2,>=1.4 in c:\\users\\rajeev\\appdata\\local\\packages\\pythonsoftwarefoundation.python.3.8_qbz5n2kfra8p0\\localcache\\local-packages\\python38\\site-packages (from statsmodels) (1.10.1)\n",
      "Requirement already satisfied: packaging>=21.3 in c:\\users\\rajeev\\appdata\\local\\packages\\pythonsoftwarefoundation.python.3.8_qbz5n2kfra8p0\\localcache\\local-packages\\python38\\site-packages (from statsmodels) (24.2)\n",
      "Collecting patsy>=0.5.4\n",
      "  Downloading patsy-1.0.1-py2.py3-none-any.whl (232 kB)\n",
      "Requirement already satisfied: numpy<2,>=1.18 in c:\\users\\rajeev\\appdata\\local\\packages\\pythonsoftwarefoundation.python.3.8_qbz5n2kfra8p0\\localcache\\local-packages\\python38\\site-packages (from statsmodels) (1.24.4)\n",
      "Requirement already satisfied: pytz>=2020.1 in c:\\users\\rajeev\\appdata\\local\\packages\\pythonsoftwarefoundation.python.3.8_qbz5n2kfra8p0\\localcache\\local-packages\\python38\\site-packages (from pandas!=2.1.0,>=1.0->statsmodels) (2024.2)\n",
      "Requirement already satisfied: python-dateutil>=2.8.2 in c:\\users\\rajeev\\appdata\\local\\packages\\pythonsoftwarefoundation.python.3.8_qbz5n2kfra8p0\\localcache\\local-packages\\python38\\site-packages (from pandas!=2.1.0,>=1.0->statsmodels) (2.9.0.post0)\n",
      "Requirement already satisfied: tzdata>=2022.1 in c:\\users\\rajeev\\appdata\\local\\packages\\pythonsoftwarefoundation.python.3.8_qbz5n2kfra8p0\\localcache\\local-packages\\python38\\site-packages (from pandas!=2.1.0,>=1.0->statsmodels) (2025.1)\n",
      "Requirement already satisfied: six>=1.5 in c:\\users\\rajeev\\appdata\\local\\packages\\pythonsoftwarefoundation.python.3.8_qbz5n2kfra8p0\\localcache\\local-packages\\python38\\site-packages (from python-dateutil>=2.8.2->pandas!=2.1.0,>=1.0->statsmodels) (1.17.0)\n",
      "Installing collected packages: patsy, statsmodels\n",
      "Successfully installed patsy-1.0.1 statsmodels-0.14.1\n"
     ]
    },
    {
     "name": "stderr",
     "output_type": "stream",
     "text": [
      "WARNING: You are using pip version 21.1.1; however, version 25.0.1 is available.\n",
      "You should consider upgrading via the 'C:\\Users\\Rajeev\\AppData\\Local\\Microsoft\\WindowsApps\\PythonSoftwareFoundation.Python.3.8_qbz5n2kfra8p0\\python.exe -m pip install --upgrade pip' command.\n"
     ]
    }
   ],
   "source": [
    "!pip install statsmodels"
   ]
  },
  {
   "cell_type": "code",
   "execution_count": 6,
   "metadata": {
    "id": "49pd2ZT53rRy"
   },
   "outputs": [],
   "source": [
    "# Importing libraries for numerical operations and data manipulation\n",
    "import numpy as np     # For numerical computations\n",
    "import pandas as pd    # For handling dataframes and data manipulation\n",
    "\n",
    "# Importing libraries for data visualization\n",
    "import matplotlib.pyplot as plt  # For plotting graphs\n",
    "import seaborn as sns            # For enhanced visualizations\n",
    "\n",
    "# Importing metrics for evaluating regression model performance\n",
    "from sklearn.metrics import r2_score, mean_absolute_error, mean_squared_error  # Metrics to evaluate models\n",
    "\n",
    "# Importing utilities for splitting data and applying feature transformations\n",
    "from sklearn.model_selection import train_test_split  # For splitting data into training and testing sets\n",
    "\n",
    "\n",
    "# Importing models for regression tasks\n",
    "from sklearn.linear_model import LinearRegression     # For linear regression model\n",
    "\n",
    "\n",
    "# Importing libraries for statistical analysis\n",
    "from statsmodels.stats.outliers_influence import variance_inflation_factor  # To calculate VIF for multicollinearity\n",
    "import statsmodels.api as sm   # For advanced statistical modeling"
   ]
  },
  {
   "cell_type": "markdown",
   "metadata": {
    "id": "GppmEXv-txPl"
   },
   "source": [
    "## 1.3 Loading the data\n",
    "\n",
    "- `read_csv()` helps to load a csv file.\n",
    "- `head()` helps to view the initial few rows of the dataset."
   ]
  },
  {
   "cell_type": "code",
   "execution_count": 9,
   "metadata": {
    "id": "kruQHjPn3rR9"
   },
   "outputs": [
    {
     "data": {
      "text/html": [
       "<div>\n",
       "<style scoped>\n",
       "    .dataframe tbody tr th:only-of-type {\n",
       "        vertical-align: middle;\n",
       "    }\n",
       "\n",
       "    .dataframe tbody tr th {\n",
       "        vertical-align: top;\n",
       "    }\n",
       "\n",
       "    .dataframe thead th {\n",
       "        text-align: right;\n",
       "    }\n",
       "</style>\n",
       "<table border=\"1\" class=\"dataframe\">\n",
       "  <thead>\n",
       "    <tr style=\"text-align: right;\">\n",
       "      <th></th>\n",
       "      <th>Ratings</th>\n",
       "      <th>RAM</th>\n",
       "      <th>ROM</th>\n",
       "      <th>Mobile_Size</th>\n",
       "      <th>Primary_Cam</th>\n",
       "      <th>Selfi_Cam</th>\n",
       "      <th>Battery_Power</th>\n",
       "      <th>Price</th>\n",
       "    </tr>\n",
       "  </thead>\n",
       "  <tbody>\n",
       "    <tr>\n",
       "      <th>0</th>\n",
       "      <td>4.3</td>\n",
       "      <td>4.0</td>\n",
       "      <td>128.0</td>\n",
       "      <td>6.00</td>\n",
       "      <td>48</td>\n",
       "      <td>13.0</td>\n",
       "      <td>4000</td>\n",
       "      <td>24999</td>\n",
       "    </tr>\n",
       "    <tr>\n",
       "      <th>1</th>\n",
       "      <td>3.4</td>\n",
       "      <td>6.0</td>\n",
       "      <td>64.0</td>\n",
       "      <td>4.50</td>\n",
       "      <td>48</td>\n",
       "      <td>12.0</td>\n",
       "      <td>4000</td>\n",
       "      <td>15999</td>\n",
       "    </tr>\n",
       "    <tr>\n",
       "      <th>2</th>\n",
       "      <td>4.3</td>\n",
       "      <td>4.0</td>\n",
       "      <td>4.0</td>\n",
       "      <td>4.50</td>\n",
       "      <td>64</td>\n",
       "      <td>16.0</td>\n",
       "      <td>4000</td>\n",
       "      <td>15000</td>\n",
       "    </tr>\n",
       "    <tr>\n",
       "      <th>3</th>\n",
       "      <td>4.4</td>\n",
       "      <td>6.0</td>\n",
       "      <td>64.0</td>\n",
       "      <td>6.40</td>\n",
       "      <td>48</td>\n",
       "      <td>15.0</td>\n",
       "      <td>3800</td>\n",
       "      <td>18999</td>\n",
       "    </tr>\n",
       "    <tr>\n",
       "      <th>4</th>\n",
       "      <td>4.5</td>\n",
       "      <td>6.0</td>\n",
       "      <td>128.0</td>\n",
       "      <td>6.18</td>\n",
       "      <td>35</td>\n",
       "      <td>15.0</td>\n",
       "      <td>3800</td>\n",
       "      <td>18999</td>\n",
       "    </tr>\n",
       "  </tbody>\n",
       "</table>\n",
       "</div>"
      ],
      "text/plain": [
       "   Ratings  RAM    ROM  Mobile_Size  Primary_Cam  Selfi_Cam  Battery_Power  \\\n",
       "0      4.3  4.0  128.0         6.00           48       13.0           4000   \n",
       "1      3.4  6.0   64.0         4.50           48       12.0           4000   \n",
       "2      4.3  4.0    4.0         4.50           64       16.0           4000   \n",
       "3      4.4  6.0   64.0         6.40           48       15.0           3800   \n",
       "4      4.5  6.0  128.0         6.18           35       15.0           3800   \n",
       "\n",
       "   Price  \n",
       "0  24999  \n",
       "1  15999  \n",
       "2  15000  \n",
       "3  18999  \n",
       "4  18999  "
      ]
     },
     "execution_count": 9,
     "metadata": {},
     "output_type": "execute_result"
    }
   ],
   "source": [
    "# Load the dataset from a CSV file into a DataFrame\n",
    "data = pd.read_csv('Mobile-Price-Prediction-cleaned_data.csv')\n",
    "\n",
    "\n",
    "# Display the first five rows of the DataFrame to get an initial overview of the data\n",
    "data.head()"
   ]
  },
  {
   "cell_type": "markdown",
   "metadata": {
    "id": "Ul634_lX3rR9"
   },
   "source": [
    "# 1.4 Exploratory Data Analysis (EDA)"
   ]
  },
  {
   "cell_type": "markdown",
   "metadata": {
    "id": "DAZgygci3rR9"
   },
   "source": [
    "#1.4.1 Basic Information\n",
    "\n",
    " Get an initial overview of the dataset to understand its structure, types of variables, and any immediate data quality issues.\n",
    "\n",
    "- `info()` gives information about the dataset.\n",
    "- `describe()` provides the basic statistical details about the dataset."
   ]
  },
  {
   "cell_type": "code",
   "execution_count": 10,
   "metadata": {
    "id": "9Kr8Fesn3rR9"
   },
   "outputs": [
    {
     "name": "stdout",
     "output_type": "stream",
     "text": [
      "<class 'pandas.core.frame.DataFrame'>\n",
      "RangeIndex: 807 entries, 0 to 806\n",
      "Data columns (total 8 columns):\n",
      " #   Column         Non-Null Count  Dtype  \n",
      "---  ------         --------------  -----  \n",
      " 0   Ratings        807 non-null    float64\n",
      " 1   RAM            807 non-null    float64\n",
      " 2   ROM            807 non-null    float64\n",
      " 3   Mobile_Size    807 non-null    float64\n",
      " 4   Primary_Cam    807 non-null    int64  \n",
      " 5   Selfi_Cam      807 non-null    float64\n",
      " 6   Battery_Power  807 non-null    int64  \n",
      " 7   Price          807 non-null    int64  \n",
      "dtypes: float64(5), int64(3)\n",
      "memory usage: 50.6 KB\n"
     ]
    },
    {
     "data": {
      "text/html": [
       "<div>\n",
       "<style scoped>\n",
       "    .dataframe tbody tr th:only-of-type {\n",
       "        vertical-align: middle;\n",
       "    }\n",
       "\n",
       "    .dataframe tbody tr th {\n",
       "        vertical-align: top;\n",
       "    }\n",
       "\n",
       "    .dataframe thead th {\n",
       "        text-align: right;\n",
       "    }\n",
       "</style>\n",
       "<table border=\"1\" class=\"dataframe\">\n",
       "  <thead>\n",
       "    <tr style=\"text-align: right;\">\n",
       "      <th></th>\n",
       "      <th>Ratings</th>\n",
       "      <th>RAM</th>\n",
       "      <th>ROM</th>\n",
       "      <th>Mobile_Size</th>\n",
       "      <th>Primary_Cam</th>\n",
       "      <th>Selfi_Cam</th>\n",
       "      <th>Battery_Power</th>\n",
       "      <th>Price</th>\n",
       "    </tr>\n",
       "  </thead>\n",
       "  <tbody>\n",
       "    <tr>\n",
       "      <th>count</th>\n",
       "      <td>807.000000</td>\n",
       "      <td>807.000000</td>\n",
       "      <td>807.000000</td>\n",
       "      <td>807.000000</td>\n",
       "      <td>807.000000</td>\n",
       "      <td>807.000000</td>\n",
       "      <td>807.000000</td>\n",
       "      <td>807.000000</td>\n",
       "    </tr>\n",
       "    <tr>\n",
       "      <th>mean</th>\n",
       "      <td>4.112639</td>\n",
       "      <td>5.941760</td>\n",
       "      <td>64.390335</td>\n",
       "      <td>5.620660</td>\n",
       "      <td>47.821561</td>\n",
       "      <td>8.868649</td>\n",
       "      <td>3278.859975</td>\n",
       "      <td>14269.167286</td>\n",
       "    </tr>\n",
       "    <tr>\n",
       "      <th>std</th>\n",
       "      <td>0.367830</td>\n",
       "      <td>2.056359</td>\n",
       "      <td>53.868626</td>\n",
       "      <td>3.957409</td>\n",
       "      <td>11.155916</td>\n",
       "      <td>4.547254</td>\n",
       "      <td>937.628801</td>\n",
       "      <td>23092.739983</td>\n",
       "    </tr>\n",
       "    <tr>\n",
       "      <th>min</th>\n",
       "      <td>2.800000</td>\n",
       "      <td>0.000000</td>\n",
       "      <td>2.000000</td>\n",
       "      <td>2.000000</td>\n",
       "      <td>5.000000</td>\n",
       "      <td>0.000000</td>\n",
       "      <td>1020.000000</td>\n",
       "      <td>479.000000</td>\n",
       "    </tr>\n",
       "    <tr>\n",
       "      <th>25%</th>\n",
       "      <td>3.900000</td>\n",
       "      <td>6.000000</td>\n",
       "      <td>32.000000</td>\n",
       "      <td>4.500000</td>\n",
       "      <td>48.000000</td>\n",
       "      <td>8.000000</td>\n",
       "      <td>3000.000000</td>\n",
       "      <td>984.000000</td>\n",
       "    </tr>\n",
       "    <tr>\n",
       "      <th>50%</th>\n",
       "      <td>4.100000</td>\n",
       "      <td>6.000000</td>\n",
       "      <td>32.000000</td>\n",
       "      <td>4.770000</td>\n",
       "      <td>48.000000</td>\n",
       "      <td>8.000000</td>\n",
       "      <td>3000.000000</td>\n",
       "      <td>1699.000000</td>\n",
       "    </tr>\n",
       "    <tr>\n",
       "      <th>75%</th>\n",
       "      <td>4.400000</td>\n",
       "      <td>6.000000</td>\n",
       "      <td>64.000000</td>\n",
       "      <td>6.300000</td>\n",
       "      <td>48.000000</td>\n",
       "      <td>12.000000</td>\n",
       "      <td>3800.000000</td>\n",
       "      <td>18994.500000</td>\n",
       "    </tr>\n",
       "    <tr>\n",
       "      <th>max</th>\n",
       "      <td>4.800000</td>\n",
       "      <td>12.000000</td>\n",
       "      <td>256.000000</td>\n",
       "      <td>44.000000</td>\n",
       "      <td>64.000000</td>\n",
       "      <td>23.000000</td>\n",
       "      <td>6000.000000</td>\n",
       "      <td>153000.000000</td>\n",
       "    </tr>\n",
       "  </tbody>\n",
       "</table>\n",
       "</div>"
      ],
      "text/plain": [
       "          Ratings         RAM         ROM  Mobile_Size  Primary_Cam  \\\n",
       "count  807.000000  807.000000  807.000000   807.000000   807.000000   \n",
       "mean     4.112639    5.941760   64.390335     5.620660    47.821561   \n",
       "std      0.367830    2.056359   53.868626     3.957409    11.155916   \n",
       "min      2.800000    0.000000    2.000000     2.000000     5.000000   \n",
       "25%      3.900000    6.000000   32.000000     4.500000    48.000000   \n",
       "50%      4.100000    6.000000   32.000000     4.770000    48.000000   \n",
       "75%      4.400000    6.000000   64.000000     6.300000    48.000000   \n",
       "max      4.800000   12.000000  256.000000    44.000000    64.000000   \n",
       "\n",
       "        Selfi_Cam  Battery_Power          Price  \n",
       "count  807.000000     807.000000     807.000000  \n",
       "mean     8.868649    3278.859975   14269.167286  \n",
       "std      4.547254     937.628801   23092.739983  \n",
       "min      0.000000    1020.000000     479.000000  \n",
       "25%      8.000000    3000.000000     984.000000  \n",
       "50%      8.000000    3000.000000    1699.000000  \n",
       "75%     12.000000    3800.000000   18994.500000  \n",
       "max     23.000000    6000.000000  153000.000000  "
      ]
     },
     "execution_count": 10,
     "metadata": {},
     "output_type": "execute_result"
    }
   ],
   "source": [
    "# Display a summary of the Dataset\n",
    "data.info()\n",
    "data.describe()"
   ]
  },
  {
   "cell_type": "markdown",
   "metadata": {
    "id": "CAworvWhuWWS"
   },
   "source": [
    "### Interpretation:\n",
    "- Do all the columns have the correct data types?\n",
    "  \n",
    "  \n",
    "\n",
    "- Are there any null values in the dataset?\n",
    "  \n",
    "  \n",
    "  "
   ]
  },
  {
   "cell_type": "code",
   "execution_count": 14,
   "metadata": {
    "id": "UZEyg5s-3rR-"
   },
   "outputs": [
    {
     "name": "stdout",
     "output_type": "stream",
     "text": [
      "Ratings          float64\n",
      "RAM              float64\n",
      "ROM              float64\n",
      "Mobile_Size      float64\n",
      "Primary_Cam        int64\n",
      "Selfi_Cam        float64\n",
      "Battery_Power      int64\n",
      "Price              int64\n",
      "dtype: object\n",
      "Ratings          False\n",
      "RAM              False\n",
      "ROM              False\n",
      "Mobile_Size      False\n",
      "Primary_Cam      False\n",
      "Selfi_Cam        False\n",
      "Battery_Power    False\n",
      "Price            False\n",
      "dtype: bool\n"
     ]
    }
   ],
   "source": [
    "# Generate descriptive statistics for the numerical columns in the data\n",
    "print(data.dtypes)\n",
    "print(data.isnull().any())"
   ]
  },
  {
   "cell_type": "markdown",
   "metadata": {
    "id": "Li8V1fJVwlVQ"
   },
   "source": [
    "### Interpretation:\n",
    "- Which features might contain outliers? Why?\n",
    "\n"
   ]
  },
  {
   "cell_type": "markdown",
   "metadata": {},
   "source": [
    "1. Min value of RAM showing 0\n",
    "\n",
    "2. Min value of Selfi_Cam showing 0"
   ]
  },
  {
   "cell_type": "markdown",
   "metadata": {
    "id": "gyTjx7Ke3rR-"
   },
   "source": [
    "## 1.4.2 Distribution Analysis of the target variable\n",
    "\n",
    "*Hint: Use the kdeplot*\n",
    "- `sns.kdeplot()` visualizes the distribution of observations in a dataset.\n",
    "\n"
   ]
  },
  {
   "cell_type": "code",
   "execution_count": 17,
   "metadata": {
    "id": "JyiCts003rR-"
   },
   "outputs": [
    {
     "data": {
      "image/png": "[encoded data removed]",
      "text/plain": [
       "<Figure size 640x480 with 1 Axes>"
      ]
     },
     "metadata": {},
     "output_type": "display_data"
    }
   ],
   "source": [
    "# KDE plot of the target column\n",
    "# Replace the placeholder <> with the target column of the loaded dataset . Eg. df['Price']\n",
    "sns.kdeplot(data['Price'], shade=True)\n",
    "\n",
    "# Adding labels and title\n",
    "plt.xlabel('Target')\n",
    "plt.ylabel('Density')\n",
    "plt.title('KDE Plot of Target Column')\n",
    "\n",
    "# Show plot\n",
    "plt.show()"
   ]
  },
  {
   "cell_type": "markdown",
   "metadata": {
    "id": "X3ptzZfO3rR-"
   },
   "source": [
    "### Interpretation:\n",
    "- What does the KDE plot of the target column indicate about the distribution?\n",
    "\n",
    "\n",
    "\n",
    "- What does the shape of this distribution suggest about the nature of the target variable?\n",
    "\n",
    "  \n",
    "- Are there any outliers or extreme values present in the target column?\n",
    "\n",
    "\n",
    "- Where is the peak of the distribution located?\n",
    "\n",
    "  \n",
    "- How does the density change across the range of target values?\n",
    "\n",
    "  \n"
   ]
  },
  {
   "cell_type": "markdown",
   "metadata": {
    "id": "KoP5dFNL3rR-"
   },
   "source": [
    "## 1.4.3 Outlier Analysis of the target variable\n",
    "\n",
    "*Hint: Use the boxplot*\n",
    "- `sns.boxplot()` helps to visualize the observations using a boxplot."
   ]
  },
  {
   "cell_type": "code",
   "execution_count": 22,
   "metadata": {
    "id": "XKxVTayr3rR-"
   },
   "outputs": [
    {
     "data": {
      "image/png": "[encoded data removed]",
      "text/plain": [
       "<Figure size 640x480 with 1 Axes>"
      ]
     },
     "metadata": {},
     "output_type": "display_data"
    }
   ],
   "source": [
    "# Outlier analysis using boxplot\n",
    "# Replace the placeholder <> with the boxplot code - `sns.boxplot()` containing the target column `df['Price]` as the parameter\n",
    "plt.boxplot(data['Price'], vert=False)\n",
    "plt.title('Box Plot of Price Variable')\n",
    "plt.show()"
   ]
  },
  {
   "cell_type": "markdown",
   "metadata": {
    "id": "fh03knHn3rR-"
   },
   "source": [
    "### Interpretation:\n",
    "- Are there any outliers present in the \"Price\" variable?\n",
    "\n",
    "\n",
    "- Where is the median of the `Price` variable located?\n",
    "  \n"
   ]
  },
  {
   "cell_type": "code",
   "execution_count": 20,
   "metadata": {},
   "outputs": [
    {
     "name": "stdout",
     "output_type": "stream",
     "text": [
      "1699.0\n"
     ]
    }
   ],
   "source": [
    "print(data['Price'].median())"
   ]
  },
  {
   "cell_type": "markdown",
   "metadata": {
    "id": "1MrpjH4c3rR_"
   },
   "source": [
    "## 1.4.4 Correlation Analysis of the dataset\n",
    "\n",
    "*Hint: Use heatmap*\n",
    "- `corr()` calculates the correlation between columns in a DataFrame.\n",
    "- `sns.heatmap()` helps to visualize the correlation values as a color coded matrix."
   ]
  },
  {
   "cell_type": "code",
   "execution_count": 23,
   "metadata": {
    "id": "kHpXats23rR_"
   },
   "outputs": [
    {
     "data": {
      "image/png": "[encoded data removed]",
      "text/plain": [
       "<Figure size 1000x800 with 2 Axes>"
      ]
     },
     "metadata": {},
     "output_type": "display_data"
    }
   ],
   "source": [
    "# Calculate the correlation matrix for the DataFrame to understand the relationships between numerical variables\n",
    "# Replace the placeholder with the code to find the correlation `df.corr()` and assign it to a variable say `corr`\n",
    "corr_var = data.corr()\n",
    "\n",
    "\n",
    "# Set up the figure for the heatmap with a size of 10x8 inches\n",
    "plt.figure(figsize=(10, 8))\n",
    "\n",
    "# Plot the heatmap of the correlation matrix\n",
    "# annot=True adds the correlation coefficients on the heatmap\n",
    "# cmap='Blues' specifies the color map\n",
    "# fmt='.2f' formats the annotation to two decimal places\n",
    "\n",
    "# Replace the placeholder <1> with the code for creating the heatmap - `sns.heatmap()`\n",
    "# Replace the placeholder <2> with the variable containing correlation values say 'corr'\n",
    "sns.heatmap(corr_var, annot=True, cmap='Blues', fmt='.2f')\n",
    "\n",
    "# Add a title to the heatmap\n",
    "plt.title('Correlation Heatmap')\n",
    "\n",
    "# Display the heatmap\n",
    "plt.show()"
   ]
  },
  {
   "cell_type": "markdown",
   "metadata": {
    "id": "zKBaokFB3rR_"
   },
   "source": [
    "### Interpretation:\n",
    "\n",
    "- Which features have the strongest positive correlation with `Price`?\n",
    "  \n",
    "\n",
    "- Is there any feature with a negative correlation with `Price`?\n",
    "  \n",
    "\n",
    "- How strongly are `RAM` and `Price` correlated?\n",
    "  \n",
    "- What is the relationship between `Ratings` and `Battery_Power`?\n",
    "  \n",
    "\n",
    "- Are there any features that have little to no correlation with `Price`?\n",
    "\n",
    "  \n",
    "\n",
    "- Is there any strong correlation between the features?\n",
    "\n",
    "  "
   ]
  },
  {
   "cell_type": "markdown",
   "metadata": {
    "id": "YZsPFea_fJju"
   },
   "source": [
    "## 1.5 Model Building\n",
    "\n",
    "### 1.5.1 Linear Regression\n",
    "\n",
    "- `df.column` lists down the names of all the columns of the dataframe `df`.\n",
    "- `train_test_split()` helps to split the data into training and test datsets.\n",
    "- `StandardScaler` from `sklearn.preprocessing` helps to scale the data before modelling.\n",
    "- `OLS()` from `sm` (`statsmodels` library) helps to fit a linear regression model on the data. This is done as `model = sm.OLS(y_train, X_train).fit()`.\n",
    "- `model.summary()` provides a detailed summary with all the metrics of the fitted linear regression model."
   ]
  },
  {
   "cell_type": "code",
   "execution_count": 24,
   "metadata": {
    "colab": {
     "base_uri": "https://localhost:8080/"
    },
    "executionInfo": {
     "elapsed": 16,
     "status": "ok",
     "timestamp": 1726256268429,
     "user": {
      "displayName": "Karthika Saran",
      "userId": "01551313556193395154"
     },
     "user_tz": -330
    },
    "id": "8wa2TfFTfRyP",
    "outputId": "b44c9aef-b27b-40bd-b00f-e603b370fd46"
   },
   "outputs": [
    {
     "data": {
      "text/plain": [
       "Index(['Ratings', 'RAM', 'ROM', 'Mobile_Size', 'Primary_Cam', 'Selfi_Cam',\n",
       "       'Battery_Power', 'Price'],\n",
       "      dtype='object')"
      ]
     },
     "execution_count": 24,
     "metadata": {},
     "output_type": "execute_result"
    }
   ],
   "source": [
    "# Check the columns of the data to identify the features\n",
    "data.columns"
   ]
  },
  {
   "cell_type": "code",
   "execution_count": 39,
   "metadata": {
    "id": "Bh8OcIJDgE4M"
   },
   "outputs": [
    {
     "name": "stdout",
     "output_type": "stream",
     "text": [
      "Trained Data:\n",
      "     Ratings  RAM    ROM  Mobile_Size  Primary_Cam  Selfi_Cam  Battery_Power\n",
      "788      4.5  6.0  128.0         6.39           48       13.0           3800\n",
      "637      4.0  6.0   32.0         4.50           48        8.0           3000\n",
      "444      3.9  6.0   32.0         4.50           48       11.0           3000\n",
      "332      4.3  3.0   32.0         6.22           38        8.0           4030\n",
      "291      3.8  6.0   32.0         4.54           25        8.0           3000\n",
      "\n",
      "\n",
      "Test Data:\n",
      "     Ratings  RAM   ROM  Mobile_Size  Primary_Cam  Selfi_Cam  Battery_Power\n",
      "697      3.8  6.0  32.0         4.54           25       11.0           3800\n",
      "296      4.1  6.0  64.0         4.50           48        8.0           3000\n",
      "227      3.7  6.0  64.0         4.50           48        8.0           3000\n",
      "336      4.3  6.0  64.0         6.50           48        8.0           5000\n",
      "537      4.1  6.0  32.0         4.54           48       20.0           3000\n"
     ]
    }
   ],
   "source": [
    "# Select features and target variable for regression\n",
    "# Replace the placeholder with the names of all the columns in the dataset except the target variable - 'Price'\n",
    "features = ['Ratings', 'RAM', 'ROM', 'Mobile_Size', 'Primary_Cam', 'Selfi_Cam',\n",
    "       'Battery_Power']\n",
    "\n",
    "# Split the data into features (X) and target (y)\n",
    "# Replace the placeholder <1> with the dataset containing the features only - say `df[features]`\n",
    "# Replace the placeholder <2> with the target column say `df['Price']`\n",
    "X = data[features]\n",
    "y = data['Price']\n",
    "\n",
    "# Split into training and testing sets\n",
    "# Replace the placeholder <method to do split> with the methos used to do the test-train split - say `train_test_split`\n",
    "# Replace the placeholder <features dataset> with the variable where the dataset containing only the features are stored- say `X`\n",
    "# Replace the placeholder <target> with the variable where the target data is stored- say `y`\n",
    "X_train, X_test, y_train, y_test =  train_test_split(X, y, test_size=0.2, random_state=42) # training phase and testing phase\n",
    "\n",
    "# Check the data\n",
    "print(\"Trained Data:\")\n",
    "print(X_train[:5])\n",
    "print(\"\\n\\nTest Data:\")\n",
    "print(X_test[:5])"
   ]
  },
  {
   "cell_type": "code",
   "execution_count": 46,
   "metadata": {
    "id": "8D6sDy_5gm5N"
   },
   "outputs": [
    {
     "data": {
      "text/plain": [
       "array([[ 1.05672500e+00,  1.50829992e-03,  1.17842235e+00,\n",
       "         2.07926298e-01,  1.41105799e-02,  9.23705036e-01,\n",
       "         5.72882573e-01],\n",
       "       [-3.03729343e-01,  1.50829992e-03, -6.04108782e-01,\n",
       "        -2.83960196e-01,  1.41105799e-02, -1.84947268e-01,\n",
       "        -2.83292851e-01],\n",
       "       [-5.75820212e-01,  1.50829992e-03, -6.04108782e-01,\n",
       "        -2.83960196e-01,  1.41105799e-02,  4.80244115e-01,\n",
       "        -2.83292851e-01],\n",
       "       [ 5.12543265e-01, -1.45777187e+00, -6.04108782e-01,\n",
       "         1.63682539e-01, -8.69513114e-01, -1.84947268e-01,\n",
       "         8.19033007e-01],\n",
       "       [-8.47911081e-01,  1.50829992e-03, -6.04108782e-01,\n",
       "        -2.73549900e-01, -2.01822392e+00, -1.84947268e-01,\n",
       "        -2.83292851e-01]])"
      ]
     },
     "execution_count": 46,
     "metadata": {},
     "output_type": "execute_result"
    }
   ],
   "source": [
    "# Standardize the features\n",
    "# Import the library\n",
    "from sklearn.preprocessing import StandardScaler\n",
    "\n",
    "# Initialize a scaler\n",
    "# Replace the placeholder <> with the method to initiate the standard scaler - `StandardScaler()`\n",
    "scaler = StandardScaler() #MinMaxScaler()\n",
    "\n",
    "# Scale the train and test data\n",
    "# Replace the placeholder <1> to fit & transform the training data using `scaler` - `scaler.fit_transform(X_train)`\n",
    "# Replace the placeholder <2> to transform the test data using `scaler` - `scaler.transform(X_test)`\n",
    "X_train = scaler.fit_transform(X_train) #computes mean and std dev and then transforms the data\n",
    "X_test = scaler.transform(X_test) #uses the mean and std dev computed in the previous step to transform the data\n",
    "# Check the data\n",
    "X_train[:5]"
   ]
  },
  {
   "cell_type": "code",
   "execution_count": 49,
   "metadata": {
    "id": "1dgyapj-hZwb"
   },
   "outputs": [
    {
     "data": {
      "text/html": [
       "<table class=\"simpletable\">\n",
       "<caption>OLS Regression Results</caption>\n",
       "<tr>\n",
       "  <th>Dep. Variable:</th>          <td>Price</td>      <th>  R-squared:         </th> <td>   0.459</td> \n",
       "</tr>\n",
       "<tr>\n",
       "  <th>Model:</th>                   <td>OLS</td>       <th>  Adj. R-squared:    </th> <td>   0.452</td> \n",
       "</tr>\n",
       "<tr>\n",
       "  <th>Method:</th>             <td>Least Squares</td>  <th>  F-statistic:       </th> <td>   67.33</td> \n",
       "</tr>\n",
       "<tr>\n",
       "  <th>Date:</th>             <td>Sat, 15 Feb 2025</td> <th>  Prob (F-statistic):</th> <td>4.27e-70</td> \n",
       "</tr>\n",
       "<tr>\n",
       "  <th>Time:</th>                 <td>13:19:10</td>     <th>  Log-Likelihood:    </th> <td> -6330.0</td> \n",
       "</tr>\n",
       "<tr>\n",
       "  <th>No. Observations:</th>      <td>   564</td>      <th>  AIC:               </th> <td>1.268e+04</td>\n",
       "</tr>\n",
       "<tr>\n",
       "  <th>Df Residuals:</th>          <td>   556</td>      <th>  BIC:               </th> <td>1.271e+04</td>\n",
       "</tr>\n",
       "<tr>\n",
       "  <th>Df Model:</th>              <td>     7</td>      <th>                     </th>     <td> </td>    \n",
       "</tr>\n",
       "<tr>\n",
       "  <th>Covariance Type:</th>      <td>nonrobust</td>    <th>                     </th>     <td> </td>    \n",
       "</tr>\n",
       "</table>\n",
       "<table class=\"simpletable\">\n",
       "<tr>\n",
       "        <td></td>           <th>coef</th>     <th>std err</th>      <th>t</th>      <th>P>|t|</th>  <th>[0.025</th>    <th>0.975]</th>  \n",
       "</tr>\n",
       "<tr>\n",
       "  <th>const</th>         <td>-1.044e+05</td> <td> 1.06e+04</td> <td>   -9.877</td> <td> 0.000</td> <td>-1.25e+05</td> <td>-8.36e+04</td>\n",
       "</tr>\n",
       "<tr>\n",
       "  <th>Ratings</th>       <td> 2.595e+04</td> <td> 2477.259</td> <td>   10.476</td> <td> 0.000</td> <td> 2.11e+04</td> <td> 3.08e+04</td>\n",
       "</tr>\n",
       "<tr>\n",
       "  <th>RAM</th>           <td> 2652.9417</td> <td>  427.778</td> <td>    6.202</td> <td> 0.000</td> <td> 1812.682</td> <td> 3493.201</td>\n",
       "</tr>\n",
       "<tr>\n",
       "  <th>ROM</th>           <td>   75.0025</td> <td>   17.812</td> <td>    4.211</td> <td> 0.000</td> <td>   40.016</td> <td>  109.989</td>\n",
       "</tr>\n",
       "<tr>\n",
       "  <th>Mobile_Size</th>   <td>   -6.7907</td> <td>  165.372</td> <td>   -0.041</td> <td> 0.967</td> <td> -331.621</td> <td>  318.040</td>\n",
       "</tr>\n",
       "<tr>\n",
       "  <th>Primary_Cam</th>   <td> -445.4488</td> <td>   71.872</td> <td>   -6.198</td> <td> 0.000</td> <td> -586.623</td> <td> -304.275</td>\n",
       "</tr>\n",
       "<tr>\n",
       "  <th>Selfi_Cam</th>     <td>  371.3071</td> <td>  179.719</td> <td>    2.066</td> <td> 0.039</td> <td>   18.297</td> <td>  724.318</td>\n",
       "</tr>\n",
       "<tr>\n",
       "  <th>Battery_Power</th> <td>    3.0023</td> <td>    0.934</td> <td>    3.215</td> <td> 0.001</td> <td>    1.168</td> <td>    4.836</td>\n",
       "</tr>\n",
       "</table>\n",
       "<table class=\"simpletable\">\n",
       "<tr>\n",
       "  <th>Omnibus:</th>       <td>383.490</td> <th>  Durbin-Watson:     </th> <td>   1.982</td>\n",
       "</tr>\n",
       "<tr>\n",
       "  <th>Prob(Omnibus):</th> <td> 0.000</td>  <th>  Jarque-Bera (JB):  </th> <td>4736.840</td>\n",
       "</tr>\n",
       "<tr>\n",
       "  <th>Skew:</th>          <td> 2.891</td>  <th>  Prob(JB):          </th> <td>    0.00</td>\n",
       "</tr>\n",
       "<tr>\n",
       "  <th>Kurtosis:</th>      <td>15.967</td>  <th>  Cond. No.          </th> <td>4.78e+04</td>\n",
       "</tr>\n",
       "</table><br/><br/>Notes:<br/>[1] Standard Errors assume that the covariance matrix of the errors is correctly specified.<br/>[2] The condition number is large, 4.78e+04. This might indicate that there are<br/>strong multicollinearity or other numerical problems."
      ],
      "text/latex": [
       "\\begin{center}\n",
       "\\begin{tabular}{lclc}\n",
       "\\toprule\n",
       "\\textbf{Dep. Variable:}    &      Price       & \\textbf{  R-squared:         } &     0.459   \\\\\n",
       "\\textbf{Model:}            &       OLS        & \\textbf{  Adj. R-squared:    } &     0.452   \\\\\n",
       "\\textbf{Method:}           &  Least Squares   & \\textbf{  F-statistic:       } &     67.33   \\\\\n",
       "\\textbf{Date:}             & Sat, 15 Feb 2025 & \\textbf{  Prob (F-statistic):} &  4.27e-70   \\\\\n",
       "\\textbf{Time:}             &     13:19:10     & \\textbf{  Log-Likelihood:    } &   -6330.0   \\\\\n",
       "\\textbf{No. Observations:} &         564      & \\textbf{  AIC:               } & 1.268e+04   \\\\\n",
       "\\textbf{Df Residuals:}     &         556      & \\textbf{  BIC:               } & 1.271e+04   \\\\\n",
       "\\textbf{Df Model:}         &           7      & \\textbf{                     } &             \\\\\n",
       "\\textbf{Covariance Type:}  &    nonrobust     & \\textbf{                     } &             \\\\\n",
       "\\bottomrule\n",
       "\\end{tabular}\n",
       "\\begin{tabular}{lcccccc}\n",
       "                        & \\textbf{coef} & \\textbf{std err} & \\textbf{t} & \\textbf{P$> |$t$|$} & \\textbf{[0.025} & \\textbf{0.975]}  \\\\\n",
       "\\midrule\n",
       "\\textbf{const}          &   -1.044e+05  &     1.06e+04     &    -9.877  &         0.000        &    -1.25e+05    &    -8.36e+04     \\\\\n",
       "\\textbf{Ratings}        &    2.595e+04  &     2477.259     &    10.476  &         0.000        &     2.11e+04    &     3.08e+04     \\\\\n",
       "\\textbf{RAM}            &    2652.9417  &      427.778     &     6.202  &         0.000        &     1812.682    &     3493.201     \\\\\n",
       "\\textbf{ROM}            &      75.0025  &       17.812     &     4.211  &         0.000        &       40.016    &      109.989     \\\\\n",
       "\\textbf{Mobile\\_Size}   &      -6.7907  &      165.372     &    -0.041  &         0.967        &     -331.621    &      318.040     \\\\\n",
       "\\textbf{Primary\\_Cam}   &    -445.4488  &       71.872     &    -6.198  &         0.000        &     -586.623    &     -304.275     \\\\\n",
       "\\textbf{Selfi\\_Cam}     &     371.3071  &      179.719     &     2.066  &         0.039        &       18.297    &      724.318     \\\\\n",
       "\\textbf{Battery\\_Power} &       3.0023  &        0.934     &     3.215  &         0.001        &        1.168    &        4.836     \\\\\n",
       "\\bottomrule\n",
       "\\end{tabular}\n",
       "\\begin{tabular}{lclc}\n",
       "\\textbf{Omnibus:}       & 383.490 & \\textbf{  Durbin-Watson:     } &    1.982  \\\\\n",
       "\\textbf{Prob(Omnibus):} &   0.000 & \\textbf{  Jarque-Bera (JB):  } & 4736.840  \\\\\n",
       "\\textbf{Skew:}          &   2.891 & \\textbf{  Prob(JB):          } &     0.00  \\\\\n",
       "\\textbf{Kurtosis:}      &  15.967 & \\textbf{  Cond. No.          } & 4.78e+04  \\\\\n",
       "\\bottomrule\n",
       "\\end{tabular}\n",
       "%\\caption{OLS Regression Results}\n",
       "\\end{center}\n",
       "\n",
       "Notes: \\newline\n",
       " [1] Standard Errors assume that the covariance matrix of the errors is correctly specified. \\newline\n",
       " [2] The condition number is large, 4.78e+04. This might indicate that there are \\newline\n",
       " strong multicollinearity or other numerical problems."
      ],
      "text/plain": [
       "<class 'statsmodels.iolib.summary.Summary'>\n",
       "\"\"\"\n",
       "                            OLS Regression Results                            \n",
       "==============================================================================\n",
       "Dep. Variable:                  Price   R-squared:                       0.459\n",
       "Model:                            OLS   Adj. R-squared:                  0.452\n",
       "Method:                 Least Squares   F-statistic:                     67.33\n",
       "Date:                Sat, 15 Feb 2025   Prob (F-statistic):           4.27e-70\n",
       "Time:                        13:19:10   Log-Likelihood:                -6330.0\n",
       "No. Observations:                 564   AIC:                         1.268e+04\n",
       "Df Residuals:                     556   BIC:                         1.271e+04\n",
       "Df Model:                           7                                         \n",
       "Covariance Type:            nonrobust                                         \n",
       "=================================================================================\n",
       "                    coef    std err          t      P>|t|      [0.025      0.975]\n",
       "---------------------------------------------------------------------------------\n",
       "const         -1.044e+05   1.06e+04     -9.877      0.000   -1.25e+05   -8.36e+04\n",
       "Ratings        2.595e+04   2477.259     10.476      0.000    2.11e+04    3.08e+04\n",
       "RAM            2652.9417    427.778      6.202      0.000    1812.682    3493.201\n",
       "ROM              75.0025     17.812      4.211      0.000      40.016     109.989\n",
       "Mobile_Size      -6.7907    165.372     -0.041      0.967    -331.621     318.040\n",
       "Primary_Cam    -445.4488     71.872     -6.198      0.000    -586.623    -304.275\n",
       "Selfi_Cam       371.3071    179.719      2.066      0.039      18.297     724.318\n",
       "Battery_Power     3.0023      0.934      3.215      0.001       1.168       4.836\n",
       "==============================================================================\n",
       "Omnibus:                      383.490   Durbin-Watson:                   1.982\n",
       "Prob(Omnibus):                  0.000   Jarque-Bera (JB):             4736.840\n",
       "Skew:                           2.891   Prob(JB):                         0.00\n",
       "Kurtosis:                      15.967   Cond. No.                     4.78e+04\n",
       "==============================================================================\n",
       "\n",
       "Notes:\n",
       "[1] Standard Errors assume that the covariance matrix of the errors is correctly specified.\n",
       "[2] The condition number is large, 4.78e+04. This might indicate that there are\n",
       "strong multicollinearity or other numerical problems.\n",
       "\"\"\""
      ]
     },
     "execution_count": 49,
     "metadata": {},
     "output_type": "execute_result"
    }
   ],
   "source": [
    "# Model Building using statsmodels library\n",
    "# Import the modules\n",
    "from statsmodels.formula.api import ols\n",
    "import statsmodels.api as sm\n",
    "\n",
    "# Add the intercept term\n",
    "X = sm.add_constant(X)\n",
    "\n",
    "# Splitting the data in 70:30 ratio of train to test data\n",
    "# Replace the placeholder <> with the code to split the test-train data in ration of 70:30 - `train_test_split(X, y, test_size = 0.30 , random_state = 1)`\n",
    "X_train, X_test, y_train, y_test = train_test_split(X, y, test_size=0.3, random_state=1)\n",
    "\n",
    "\n",
    "# Create the model\n",
    "# Replace the placeholder <> with code to fit the OLS model - `sm.OLS(y_train, X_train).fit()`\n",
    "# Note that `y` comes after `X` here in this\n",
    "model1 =  sm.OLS(y_train, X_train).fit()\n",
    "\n",
    "# Get the model summary\n",
    "# Replace the placeholder <> with the code to provide the model summary - `model1.sumamry()`\n",
    "model1.summary()"
   ]
  },
  {
   "cell_type": "markdown",
   "metadata": {
    "id": "kPDLiMWyrkAO"
   },
   "source": [
    "### Interpretation:\n",
    "- What do you think about the metrics?\n",
    "  \n",
    "- Does the data suffers from multicollinearity?\n",
    "  "
   ]
  },
  {
   "cell_type": "markdown",
   "metadata": {
    "id": "mD9lPA2d3rR_"
   },
   "source": [
    "### 1.5.2 Multicollinearity Analysis\n",
    "Checking for multicollinearity involves assessing the degree to which independent variables in a regression model are highly correlated with each other.\n",
    "\n",
    "- **Variance Inflation Factor:**\n",
    "\n",
    "  - VIF, or Variance Inflation Factor, is a measure used to detect the presence of multicollinearity in a regression model.\n",
    "\n",
    "  - High VIF values indicate that a predictor variable is highly correlated with other predictors, which can make the coefficient estimates unstable and difficult to interpret.\n",
    "  - Low VIF values suggest little to no multicollinearity.\n",
    "\n",
    "- **Interpreting VIF values:**\n",
    "  - **VIF = 1:** No multicollinearity; the predictor is not correlated with other variables.\n",
    "  - **1 < VIF ≤ 5:** Low to moderate multicollinearity; generally acceptable but worth monitoring.\n",
    "  - **VIF > 5:** Indicates moderate multicollinearity; may start affecting the reliability of the model's coefficients.\n",
    "  - **VIF > 10:** High multicollinearity; problematic and often signals that the variable should be removed or combined with others.\n",
    "\n",
    "  *Note: Understand this code and run this. Your task for this section is to understand what is vif and how to interpret the values.*"
   ]
  },
  {
   "cell_type": "code",
   "execution_count": 50,
   "metadata": {
    "colab": {
     "base_uri": "https://localhost:8080/"
    },
    "executionInfo": {
     "elapsed": 11,
     "status": "ok",
     "timestamp": 1726256268429,
     "user": {
      "displayName": "Karthika Saran",
      "userId": "01551313556193395154"
     },
     "user_tz": -330
    },
    "id": "XEiShgYn3rR_",
    "outputId": "35bb68c7-cc53-46af-eb4e-0da83993689a"
   },
   "outputs": [
    {
     "name": "stdout",
     "output_type": "stream",
     "text": [
      "         Feature        VIF\n",
      "0        Ratings  41.563787\n",
      "1            RAM  11.955536\n",
      "2            ROM   3.684761\n",
      "3    Mobile_Size   3.067169\n",
      "4    Primary_Cam  21.168871\n",
      "5      Selfi_Cam   5.024410\n",
      "6  Battery_Power  18.591624\n",
      "7          Price   2.157319\n"
     ]
    }
   ],
   "source": [
    "# Import the required modules\n",
    "from statsmodels.stats.outliers_influence import variance_inflation_factor\n",
    "\n",
    "# Assuming df is your DataFrame and it is already loaded\n",
    "# Remove non-numeric columns if any\n",
    "df_numeric = data.select_dtypes(include=[float, int])\n",
    "\n",
    "# Define a function to calculate VIF for each feature\n",
    "def calculate_vif(df):\n",
    "    vif_data = pd.DataFrame()\n",
    "    vif_data[\"Feature\"] = df.columns\n",
    "    vif_data[\"VIF\"] = [variance_inflation_factor(df.values, i) for i in range(len(df.columns))]\n",
    "    return vif_data\n",
    "\n",
    "# Calculate VIF for the dataset\n",
    "vif_df = calculate_vif(df_numeric)\n",
    "\n",
    "# Display the VIF values\n",
    "print(vif_df)"
   ]
  },
  {
   "cell_type": "markdown",
   "metadata": {
    "id": "y2dz3W-h3rR_"
   },
   "source": [
    "### Interpretation:\n",
    "\n",
    "- Which features exhibit high multicollinearity?\n",
    "\n",
    "  \n",
    "\n",
    "\n",
    "- What action should be considered for features with high VIF values?\n",
    "\n",
    "\n"
   ]
  },
  {
   "cell_type": "markdown",
   "metadata": {
    "id": "ZOnnCEVGrVFZ"
   },
   "source": [
    "### 1.5.3 Random Forest Regressor\n",
    "\n",
    "The Random Forest Regressor is an advanced machine learning algorithm that combines multiple classifiers(decision trees) to improve predictive accuracy and control overfitting.  The final prediction is obtained by averaging the predictions from all the individual classifiers. This approach reduces the variance of the model and is particularly effective in handling large datasets and capturing complex relationships between variables. Random Forest Regressors are also robust to multicollinearity and can provide insights into feature importance.\n",
    "\n",
    "*Note: You will learn about decision trees and random forest working in the later sessions through this course.*\n",
    "\n",
    "- `RandomForestRegressor` from `sklearn.ensemble` leps to fit a random forest regressor."
   ]
  },
  {
   "cell_type": "code",
   "execution_count": null,
   "metadata": {
    "id": "2mbPNXWYqQOm"
   },
   "outputs": [],
   "source": [
    "# Import the module\n",
    "from sklearn.ensemble import RandomForestRegressor\n",
    "\n",
    "# Initialize the Random Forest Regressor\n",
    "rf_regressor = RandomForestRegressor(n_estimators=100, random_state=42)\n",
    "\n",
    "# Train the model\n",
    "# Replace the placeholder with the code to fit the model using the model created - `rf_regressor.fit(X_train, y_train)`\n",
    "<>\n",
    "\n",
    "# Predict on the test data\n",
    "y_pred = rf_regressor.predict(X_test)\n",
    "\n",
    "# Evaluate the model\n",
    "mae = mean_absolute_error(y_test, y_pred)\n",
    "mse = mean_squared_error(y_test, y_pred)\n",
    "r2 = r2_score(y_test, y_pred)\n",
    "\n",
    "# Print the evaluation metrics\n",
    "print(\"Linear Regression Model Evaluation:\")\n",
    "print(f\"Mean Absolute Error (MAE): {mae}\")\n",
    "print(f\"Mean Squared Error (MSE): {mse}\")\n",
    "print(f\"R-squared (R2): {r2}\")"
   ]
  },
  {
   "cell_type": "markdown",
   "metadata": {
    "id": "nmKBluMduz8T"
   },
   "source": [
    "### Interpretation:\n",
    "- Does the model perform well?\n",
    "\n",
    "\n"
   ]
  },
  {
   "cell_type": "markdown",
   "metadata": {
    "id": "2VgHhQOExTki"
   },
   "source": [
    "### 1.5.4 Visualizing the result\n",
    "\n",
    "- `sns.scatterplot()` helps to plot the true values vs predicted values.\n",
    "- `plot()` helps to draw the diagonal line showing the fitted regression line."
   ]
  },
  {
   "cell_type": "code",
   "execution_count": null,
   "metadata": {
    "id": "mirxjI3m3rSB"
   },
   "outputs": [],
   "source": [
    "# Create a scatter plot of true values (y_test) vs. predicted values (y_pred)\n",
    "# Replace the placeholder <1> with the name of the method for visualizing - `sns.scatterplot()`\n",
    "# Replace the placeholder <2> with the variable containing the true y values of the test data - `y_test`\n",
    "# Replace the placeholder <3> with the variable containing the predicted y values of the test data - `y_pred`\n",
    "<1>(x=<2>, y=<3>, color='blue', s=50)\n",
    "\n",
    "# Add a diagonal line (red) that represents the ideal scenario where predicted values match the true values\n",
    "plt.plot([min(y_test), max(y_test)], [min(y_test), max(y_test)], color='red', lw=2)  # Diagonal line\n",
    "\n",
    "# Label the x-axis as 'True Values'\n",
    "plt.xlabel('True Values')\n",
    "\n",
    "# Label the y-axis as 'Predicted Values'\n",
    "plt.ylabel('Predicted Values')\n",
    "\n",
    "# Set the title of the plot to 'True vs Predicted Values'\n",
    "plt.title('True vs Predicted Values')\n",
    "\n",
    "# Display the plot\n",
    "plt.show()"
   ]
  },
  {
   "cell_type": "markdown",
   "metadata": {
    "id": "GEqGBZfGxrjP"
   },
   "source": [
    "### Interpretation:\n",
    "- What does the plot indicate about the model predictions?\n",
    "  \n",
    "  \n",
    "<hr> <hr>"
   ]
  },
  {
   "cell_type": "markdown",
   "metadata": {
    "id": "jEYrnUgVaPJu"
   },
   "source": [
    "#2. Classification Models\n"
   ]
  },
  {
   "cell_type": "markdown",
   "metadata": {
    "id": "oD2FQFOMcVHV"
   },
   "source": [
    "## 2.1 Dataset Description\n",
    "\n",
    "Bob has started his own mobile company. He wants to give tough fight to big companies like Apple,Samsung etc.\n",
    "\n",
    "He does not know how to estimate price of mobiles his company creates. In this competitive mobile phone market you cannot simply assume things. To solve this problem he collects sales data of mobile phones of various companies.\n",
    "\n",
    "Bob wants to find out some relation between features of a mobile phone(eg:- RAM,Internal Memory etc) and its selling price. But he is not so good at Machine Learning. So he needs your help to solve this problem.\n",
    "\n",
    "In this problem you do not have to predict actual price but a price range indicating how high the price is.\n",
    "\n",
    "<center><img src=\"https://miro.medium.com/v2/resize:fit:1400/1*D7TDOkHIH8hmbYQtCZ856A.jpeg\" width=500/></center>\n",
    "\n",
    "Dataset as 21 features and 2000 entries. The meanings of the features are given below.\n",
    "\n",
    "- `battery_power`: Total energy a battery can store in one time measured in mAh\n",
    "- `blue`: Has bluetooth or not\n",
    "- `clock_speed`: speed at which microprocessor executes instructions\n",
    "- `dual_sim`: Has dual sim support or not\n",
    "- `fc`: Front Camera mega pixels\n",
    "- `four_g`: Has 4G or not\n",
    "- `int_memory`: Internal Memory in Gigabytes\n",
    "- `m_dep`: Mobile Depth in cm\n",
    "- `mobile_wt`: Weight of mobile phone\n",
    "- `n_cores`: Number of cores of processor\n",
    "- `pc`: Primary Camera mega pixels\n",
    "- `px_height`: Pixel Resolution Height\n",
    "- `px_width`: Pixel Resolution Width\n",
    "- `ram`: Random Access Memory in Mega Byte\n",
    "- `sc_h`: Screen Height of mobile in cm\n",
    "- `sc_w`: Screen Width of mobile in cm\n",
    "- `talk_time`: longest time that a single battery charge will last when you are\n",
    "- `three_g`: Has 3G or not\n",
    "- `touch_screen`: Has touch screen or not\n",
    "- `wifi`: Has wifi or not\n",
    "-`price_range`: This is the target variable with value of 0(low cost), 1(medium cost), 2(high cost) and 3(very high cost)\n"
   ]
  },
  {
   "cell_type": "markdown",
   "metadata": {
    "id": "UnKTzuUy5hsP"
   },
   "source": [
    "## 2.2 Importing the required libraries & modules"
   ]
  },
  {
   "cell_type": "code",
   "execution_count": 63,
   "metadata": {
    "id": "QKpJtaepg2Lk"
   },
   "outputs": [],
   "source": [
    "# Import the warnings module, which allows control over warning messages\n",
    "import warnings\n",
    "\n",
    "# Suppress all warnings in the script\n",
    "warnings.filterwarnings(\"ignore\")"
   ]
  },
  {
   "cell_type": "code",
   "execution_count": 62,
   "metadata": {
    "id": "jsfn-GQhV-iQ"
   },
   "outputs": [],
   "source": [
    "# Importing libraries for numerical operations and data manipulation\n",
    "import numpy as np     # For numerical computations and array manipulations\n",
    "import pandas as pd    # For handling DataFrames, and data loading, cleaning, and manipulation\n",
    "\n",
    "# Importing libraries for data visualization\n",
    "import matplotlib.pyplot as plt  # For creating basic plots (histograms, scatter plots, etc.)\n",
    "import seaborn as sns            # For enhanced and more aesthetically pleasing visualizations\n",
    "\n",
    "# Importing machine learning models and evaluation metrics\n",
    "from sklearn.naive_bayes import GaussianNB                      # Gaussian Naive Bayes classifier\n",
    "from sklearn.neighbors import KNeighborsClassifier              # K-Nearest Neighbors (KNN) classifier\n",
    "from sklearn.linear_model import LogisticRegression             # Logistic Regression classifier\n",
    "\n",
    "# Importing utilities for model evaluation and hyperparameter tuning\n",
    "from sklearn.model_selection import train_test_split, GridSearchCV  # For splitting the dataset into training and test sets, and grid search for hyperparameter tuning\n",
    "\n",
    "# Importing evaluation metrics for classification tasks\n",
    "from sklearn.metrics import (accuracy_score, classification_report,  # Metrics to evaluate model performance\n",
    "                             precision_score, recall_score,\n",
    "                             f1_score, confusion_matrix)\n"
   ]
  },
  {
   "cell_type": "markdown",
   "metadata": {
    "id": "3tglI_1r5tiS"
   },
   "source": [
    "## 2.3 Loading & Viewing the data\n",
    "\n",
    "- `read_csv()` helps to load a csv file.\n",
    "- `head()` helps to view the initial few rows of the dataset.\n",
    "- `df.shape` gives the shape (rows by columns) of the dataset `df`."
   ]
  },
  {
   "cell_type": "code",
   "execution_count": null,
   "metadata": {
    "id": "zoZ7CWFAcO7Q"
   },
   "outputs": [],
   "source": [
    "# Load the dataset\n",
    "# Replace the placeholder to load the data - `pd.read_csv('mobile_data_new.csv')`\n",
    "df = <>\n",
    "\n",
    "# View the data\n",
    "# Replace the placeholder with the code to view the first few rows of the data\n",
    "<>"
   ]
  },
  {
   "cell_type": "code",
   "execution_count": null,
   "metadata": {
    "id": "m0MCkxTK6EVN"
   },
   "outputs": [],
   "source": [
    "# Get the shape of the DataFrame\n",
    "df.shape"
   ]
  },
  {
   "cell_type": "markdown",
   "metadata": {
    "id": "ylUn6Aw7eSXY"
   },
   "source": [
    "## 2.4 Exploratory Data Analysis (EDA)\n"
   ]
  },
  {
   "cell_type": "markdown",
   "metadata": {
    "id": "ScvgSOPuS9TQ"
   },
   "source": [
    "### 2.4.1 Basic Information\n",
    "\n",
    "- `info()` helps to get the basic information about the dataset.\n",
    "- `value_counts()` count the number of occurrences of each unique value in a DataFrame column.\n"
   ]
  },
  {
   "cell_type": "code",
   "execution_count": null,
   "metadata": {
    "id": "mU-craoCM0Rz"
   },
   "outputs": [],
   "source": [
    "# Get the basic info of the DataFrame\n",
    "df.info()"
   ]
  },
  {
   "cell_type": "markdown",
   "metadata": {
    "id": "2gXg5HeHCwGE"
   },
   "source": [
    "### Interpretation:\n",
    "- Are there any null values in the dataset?\n",
    "  \n"
   ]
  },
  {
   "cell_type": "markdown",
   "metadata": {
    "id": "s5AoVI3UTP3P"
   },
   "source": [
    "### 2.4.2 Examine the Target Variable\n"
   ]
  },
  {
   "cell_type": "code",
   "execution_count": null,
   "metadata": {
    "id": "BePL0FgBF11q"
   },
   "outputs": [
    {
     "ename": "KeyError",
     "evalue": "'price_range'",
     "output_type": "error",
     "traceback": [
      "\u001b[1;31m---------------------------------------------------------------------------\u001b[0m",
      "\u001b[1;31mKeyError\u001b[0m                                  Traceback (most recent call last)",
      "File \u001b[1;32m~\\AppData\\Local\\Packages\\PythonSoftwareFoundation.Python.3.8_qbz5n2kfra8p0\\LocalCache\\local-packages\\Python38\\site-packages\\pandas\\core\\indexes\\base.py:3653\u001b[0m, in \u001b[0;36mIndex.get_loc\u001b[1;34m(self, key)\u001b[0m\n\u001b[0;32m   3652\u001b[0m \u001b[38;5;28;01mtry\u001b[39;00m:\n\u001b[1;32m-> 3653\u001b[0m     \u001b[38;5;28;01mreturn\u001b[39;00m \u001b[38;5;28;43mself\u001b[39;49m\u001b[38;5;241;43m.\u001b[39;49m\u001b[43m_engine\u001b[49m\u001b[38;5;241;43m.\u001b[39;49m\u001b[43mget_loc\u001b[49m\u001b[43m(\u001b[49m\u001b[43mcasted_key\u001b[49m\u001b[43m)\u001b[49m\n\u001b[0;32m   3654\u001b[0m \u001b[38;5;28;01mexcept\u001b[39;00m \u001b[38;5;167;01mKeyError\u001b[39;00m \u001b[38;5;28;01mas\u001b[39;00m err:\n",
      "File \u001b[1;32m~\\AppData\\Local\\Packages\\PythonSoftwareFoundation.Python.3.8_qbz5n2kfra8p0\\LocalCache\\local-packages\\Python38\\site-packages\\pandas\\_libs\\index.pyx:147\u001b[0m, in \u001b[0;36mpandas._libs.index.IndexEngine.get_loc\u001b[1;34m()\u001b[0m\n",
      "File \u001b[1;32m~\\AppData\\Local\\Packages\\PythonSoftwareFoundation.Python.3.8_qbz5n2kfra8p0\\LocalCache\\local-packages\\Python38\\site-packages\\pandas\\_libs\\index.pyx:176\u001b[0m, in \u001b[0;36mpandas._libs.index.IndexEngine.get_loc\u001b[1;34m()\u001b[0m\n",
      "File \u001b[1;32mpandas\\_libs\\hashtable_class_helper.pxi:7080\u001b[0m, in \u001b[0;36mpandas._libs.hashtable.PyObjectHashTable.get_item\u001b[1;34m()\u001b[0m\n",
      "File \u001b[1;32mpandas\\_libs\\hashtable_class_helper.pxi:7088\u001b[0m, in \u001b[0;36mpandas._libs.hashtable.PyObjectHashTable.get_item\u001b[1;34m()\u001b[0m\n",
      "\u001b[1;31mKeyError\u001b[0m: 'price_range'",
      "\nThe above exception was the direct cause of the following exception:\n",
      "\u001b[1;31mKeyError\u001b[0m                                  Traceback (most recent call last)",
      "Cell \u001b[1;32mIn[82], line 3\u001b[0m\n\u001b[0;32m      1\u001b[0m \u001b[38;5;66;03m# Check the target variable distribution\u001b[39;00m\n\u001b[0;32m      2\u001b[0m \u001b[38;5;66;03m# Replace the placeholder <> with the method used to find the unique values in a column - `value_counts()`\u001b[39;00m\n\u001b[1;32m----> 3\u001b[0m \u001b[43mdata\u001b[49m\u001b[43m[\u001b[49m\u001b[38;5;124;43m'\u001b[39;49m\u001b[38;5;124;43mprice_range\u001b[39;49m\u001b[38;5;124;43m'\u001b[39;49m\u001b[43m]\u001b[49m\u001b[38;5;241m.\u001b[39mvalue_counts()\n",
      "File \u001b[1;32m~\\AppData\\Local\\Packages\\PythonSoftwareFoundation.Python.3.8_qbz5n2kfra8p0\\LocalCache\\local-packages\\Python38\\site-packages\\pandas\\core\\frame.py:3761\u001b[0m, in \u001b[0;36mDataFrame.__getitem__\u001b[1;34m(self, key)\u001b[0m\n\u001b[0;32m   3759\u001b[0m \u001b[38;5;28;01mif\u001b[39;00m \u001b[38;5;28mself\u001b[39m\u001b[38;5;241m.\u001b[39mcolumns\u001b[38;5;241m.\u001b[39mnlevels \u001b[38;5;241m>\u001b[39m \u001b[38;5;241m1\u001b[39m:\n\u001b[0;32m   3760\u001b[0m     \u001b[38;5;28;01mreturn\u001b[39;00m \u001b[38;5;28mself\u001b[39m\u001b[38;5;241m.\u001b[39m_getitem_multilevel(key)\n\u001b[1;32m-> 3761\u001b[0m indexer \u001b[38;5;241m=\u001b[39m \u001b[38;5;28;43mself\u001b[39;49m\u001b[38;5;241;43m.\u001b[39;49m\u001b[43mcolumns\u001b[49m\u001b[38;5;241;43m.\u001b[39;49m\u001b[43mget_loc\u001b[49m\u001b[43m(\u001b[49m\u001b[43mkey\u001b[49m\u001b[43m)\u001b[49m\n\u001b[0;32m   3762\u001b[0m \u001b[38;5;28;01mif\u001b[39;00m is_integer(indexer):\n\u001b[0;32m   3763\u001b[0m     indexer \u001b[38;5;241m=\u001b[39m [indexer]\n",
      "File \u001b[1;32m~\\AppData\\Local\\Packages\\PythonSoftwareFoundation.Python.3.8_qbz5n2kfra8p0\\LocalCache\\local-packages\\Python38\\site-packages\\pandas\\core\\indexes\\base.py:3655\u001b[0m, in \u001b[0;36mIndex.get_loc\u001b[1;34m(self, key)\u001b[0m\n\u001b[0;32m   3653\u001b[0m     \u001b[38;5;28;01mreturn\u001b[39;00m \u001b[38;5;28mself\u001b[39m\u001b[38;5;241m.\u001b[39m_engine\u001b[38;5;241m.\u001b[39mget_loc(casted_key)\n\u001b[0;32m   3654\u001b[0m \u001b[38;5;28;01mexcept\u001b[39;00m \u001b[38;5;167;01mKeyError\u001b[39;00m \u001b[38;5;28;01mas\u001b[39;00m err:\n\u001b[1;32m-> 3655\u001b[0m     \u001b[38;5;28;01mraise\u001b[39;00m \u001b[38;5;167;01mKeyError\u001b[39;00m(key) \u001b[38;5;28;01mfrom\u001b[39;00m\u001b[38;5;250m \u001b[39m\u001b[38;5;21;01merr\u001b[39;00m\n\u001b[0;32m   3656\u001b[0m \u001b[38;5;28;01mexcept\u001b[39;00m \u001b[38;5;167;01mTypeError\u001b[39;00m:\n\u001b[0;32m   3657\u001b[0m     \u001b[38;5;66;03m# If we have a listlike key, _check_indexing_error will raise\u001b[39;00m\n\u001b[0;32m   3658\u001b[0m     \u001b[38;5;66;03m#  InvalidIndexError. Otherwise we fall through and re-raise\u001b[39;00m\n\u001b[0;32m   3659\u001b[0m     \u001b[38;5;66;03m#  the TypeError.\u001b[39;00m\n\u001b[0;32m   3660\u001b[0m     \u001b[38;5;28mself\u001b[39m\u001b[38;5;241m.\u001b[39m_check_indexing_error(key)\n",
      "\u001b[1;31mKeyError\u001b[0m: 'price_range'"
     ]
    }
   ],
   "source": [
    "# Check the target variable distribution\n",
    "# Replace the placeholder <> with the method used to find the unique values in a column - `value_counts()`\n",
    "data['price_range'].value_counts(normalize=True)\n"
   ]
  },
  {
   "cell_type": "markdown",
   "metadata": {
    "id": "EdN9S16hUdr9"
   },
   "source": [
    "### Interpretation:\n",
    "\n",
    "- Does the dataset have class imbalance?\n"
   ]
  },
  {
   "cell_type": "markdown",
   "metadata": {
    "id": "7ra-1nggIgzo"
   },
   "source": [
    "### 2.4.3 Correlation Analysis\n",
    "\n",
    "*Hint: Use heatmap*\n",
    "- `corr()` calculates the correlation between columns in a DataFrame.\n",
    "- `sns.heatmap()` helps to visualize the correlation values as a color coded matrix."
   ]
  },
  {
   "cell_type": "code",
   "execution_count": null,
   "metadata": {
    "id": "yMKD6S07idNV"
   },
   "outputs": [],
   "source": [
    "# Calculate the correlation matrix for the DataFrame to understand the relationships between numerical variables\n",
    "# Replace the placeholder with the code to find the correlation values of the dataset - `df.corr()`\n",
    "corr = <>\n",
    "\n",
    "# Set up the figure for the heatmap with a size of 10x8 inches\n",
    "plt.figure(figsize=(18, 10))\n",
    "\n",
    "# Plot the heatmap of the correlation matrix\n",
    "# annot=True adds the correlation coefficients on the heatmap\n",
    "# cmap='Blues' specifies the color map\n",
    "# fmt='.2f' formats the annotation to two decimal places\n",
    "\n",
    "# Replace the placeholder with the variable having the correlation values\n",
    "sns.heatmap(<>, annot=True, cmap='Blues', fmt='.2f')\n",
    "\n",
    "# Add a title to the heatmap\n",
    "plt.title('Correlation Heatmap')\n",
    "\n",
    "# Display the heatmap\n",
    "plt.show()"
   ]
  },
  {
   "cell_type": "markdown",
   "metadata": {
    "id": "3s-qvWbYjhfa"
   },
   "source": [
    "### Interpretation:\n",
    "\n",
    "- Which features are most strongly correlated with the target variable `price_range`?\n",
    "   \n",
    "\n",
    "- Are there any features that have a notable correlation with each other?\n",
    "  \n",
    "\n",
    "\n"
   ]
  },
  {
   "cell_type": "markdown",
   "metadata": {
    "id": "FXOHpm49h5Id"
   },
   "source": [
    "## 2.5 Feature Engineering\n",
    "\n",
    "### 2.5.1 Create new features based on highly correlated ones to avoid multicollinearity\n",
    "\n",
    "This code performs feature engineering on a DataFrame `df` by creating new variables that capture more meaningful relationships between the original features and then drops the original features that were used to create these new variables.\n",
    "\n",
    "1. **Total Pixel Resolution (`px_total`)**:  \n",
    "   - Calculates the total pixel resolution by multiplying the pixel height (`px_height`) and pixel width (`px_width`), capturing the overall screen resolution.\n",
    "\n",
    "2. **Camera Quality Score (`cam_quality`)**:  \n",
    "   - Sums the primary camera (`pc`) and front camera (`fc`) megapixels to create a composite score that represents the overall camera quality of the device.\n",
    "\n",
    "3. **Mobile Volume (`mobile_volume`)**:  \n",
    "   - Computes the mobile's physical volume by multiplying screen height (`sc_h`), screen width (`sc_w`), and mobile depth (`m_dep`), representing the size or form factor of the device.\n",
    "\n",
    "4. **Screen Area (`screen_area`)**:  \n",
    "   - Calculates the screen area by multiplying the screen height (`sc_h`) and screen width (`sc_w`), representing the display size of the device.\n",
    "\n",
    "5. **Dropping Original Features**:  \n",
    "   - Removes the original features (`px_height`, `px_width`, `pc`, `fc`, `sc_h`, `sc_w`, `m_dep`) that were used to create the new variables, keeping the DataFrame cleaner and focused on the engineered features.\n",
    "\n",
    "*Note: Your task in this section is to understand how new variables are created as a part of feature engineering technique.*\n"
   ]
  },
  {
   "cell_type": "code",
   "execution_count": null,
   "metadata": {
    "id": "m7_6Sc0G9JQd"
   },
   "outputs": [],
   "source": [
    "# 1. Total Pixel Resolution (`px_total`)\n",
    "df['px_total'] = df['px_height'] * df['px_width']\n",
    "\n",
    "# 2. Camera Quality Score (`cam_quality`)\n",
    "df['cam_quality'] = df['pc'] + df['fc']\n",
    "\n",
    "# 3. Mobile Volume (`mobile_volume`)\n",
    "df['mobile_volume'] = df['sc_h'] * df['sc_w'] * df['m_dep']\n",
    "\n",
    "# 7. Screen Aspect Ratio (`screen_aspect_ratio`)\n",
    "df['screen_area'] = df['sc_h'] * df['sc_w']\n",
    "\n",
    "# Dropping the original features\n",
    "# Replace the placeholder with the list of columns to be dropped. - ['px_height', 'px_width', 'pc', 'fc', 'sc_h', 'sc_w', 'm_dep']\n",
    "df = df.drop(columns=<>)\n",
    "\n",
    "# Display the first few rows to check the new features\n",
    "df.head()\n"
   ]
  },
  {
   "cell_type": "code",
   "execution_count": null,
   "metadata": {
    "id": "tfSIVFwzhmt0"
   },
   "outputs": [],
   "source": [
    "# Separate the features (X) and the target variable (y) for the  data\n",
    "\n",
    "# Replace the placeholder <1> with code to extract features - `df.drop(['price_range'], axis = 1)`\n",
    "# Replace the placeholder <2> with the target column - `df[['price_range']]`\n",
    "X, y = <1>, <2>\n"
   ]
  },
  {
   "cell_type": "markdown",
   "metadata": {
    "id": "pewcFI0wAt47"
   },
   "source": [
    "## 2.6 Model Building\n",
    "### 2.6.1 Spliting Train and Test data\n",
    "\n",
    "- `train_test_split()` helps to split the data into training and test datsets.\n"
   ]
  },
  {
   "cell_type": "code",
   "execution_count": 58,
   "metadata": {
    "id": "xl6wvBlykaRx"
   },
   "outputs": [
    {
     "data": {
      "text/html": [
       "<div>\n",
       "<style scoped>\n",
       "    .dataframe tbody tr th:only-of-type {\n",
       "        vertical-align: middle;\n",
       "    }\n",
       "\n",
       "    .dataframe tbody tr th {\n",
       "        vertical-align: top;\n",
       "    }\n",
       "\n",
       "    .dataframe thead th {\n",
       "        text-align: right;\n",
       "    }\n",
       "</style>\n",
       "<table border=\"1\" class=\"dataframe\">\n",
       "  <thead>\n",
       "    <tr style=\"text-align: right;\">\n",
       "      <th></th>\n",
       "      <th>const</th>\n",
       "      <th>Ratings</th>\n",
       "      <th>RAM</th>\n",
       "      <th>ROM</th>\n",
       "      <th>Mobile_Size</th>\n",
       "      <th>Primary_Cam</th>\n",
       "      <th>Selfi_Cam</th>\n",
       "      <th>Battery_Power</th>\n",
       "    </tr>\n",
       "  </thead>\n",
       "  <tbody>\n",
       "    <tr>\n",
       "      <th>788</th>\n",
       "      <td>1.0</td>\n",
       "      <td>4.5</td>\n",
       "      <td>6.0</td>\n",
       "      <td>128.0</td>\n",
       "      <td>6.39</td>\n",
       "      <td>48</td>\n",
       "      <td>13.0</td>\n",
       "      <td>3800</td>\n",
       "    </tr>\n",
       "    <tr>\n",
       "      <th>637</th>\n",
       "      <td>1.0</td>\n",
       "      <td>4.0</td>\n",
       "      <td>6.0</td>\n",
       "      <td>32.0</td>\n",
       "      <td>4.50</td>\n",
       "      <td>48</td>\n",
       "      <td>8.0</td>\n",
       "      <td>3000</td>\n",
       "    </tr>\n",
       "    <tr>\n",
       "      <th>444</th>\n",
       "      <td>1.0</td>\n",
       "      <td>3.9</td>\n",
       "      <td>6.0</td>\n",
       "      <td>32.0</td>\n",
       "      <td>4.50</td>\n",
       "      <td>48</td>\n",
       "      <td>11.0</td>\n",
       "      <td>3000</td>\n",
       "    </tr>\n",
       "    <tr>\n",
       "      <th>332</th>\n",
       "      <td>1.0</td>\n",
       "      <td>4.3</td>\n",
       "      <td>3.0</td>\n",
       "      <td>32.0</td>\n",
       "      <td>6.22</td>\n",
       "      <td>38</td>\n",
       "      <td>8.0</td>\n",
       "      <td>4030</td>\n",
       "    </tr>\n",
       "    <tr>\n",
       "      <th>291</th>\n",
       "      <td>1.0</td>\n",
       "      <td>3.8</td>\n",
       "      <td>6.0</td>\n",
       "      <td>32.0</td>\n",
       "      <td>4.54</td>\n",
       "      <td>25</td>\n",
       "      <td>8.0</td>\n",
       "      <td>3000</td>\n",
       "    </tr>\n",
       "  </tbody>\n",
       "</table>\n",
       "</div>"
      ],
      "text/plain": [
       "     const  Ratings  RAM    ROM  Mobile_Size  Primary_Cam  Selfi_Cam  \\\n",
       "788    1.0      4.5  6.0  128.0         6.39           48       13.0   \n",
       "637    1.0      4.0  6.0   32.0         4.50           48        8.0   \n",
       "444    1.0      3.9  6.0   32.0         4.50           48       11.0   \n",
       "332    1.0      4.3  3.0   32.0         6.22           38        8.0   \n",
       "291    1.0      3.8  6.0   32.0         4.54           25        8.0   \n",
       "\n",
       "     Battery_Power  \n",
       "788           3800  \n",
       "637           3000  \n",
       "444           3000  \n",
       "332           4030  \n",
       "291           3000  "
      ]
     },
     "execution_count": 58,
     "metadata": {},
     "output_type": "execute_result"
    }
   ],
   "source": [
    "# Split the data into training and testing sets\n",
    "# Replace the placeholder with the doe to do the test-train split - `X_train, X_test, y_train, y_test = train_test_split(X, y, test_size=0.2,random_state=42)`\n",
    "X_train, X_test, y_train, y_test = train_test_split(X, y, test_size=0.2,random_state=42)\n",
    "# Check the data\n",
    "X_train[:5]"
   ]
  },
  {
   "cell_type": "markdown",
   "metadata": {
    "id": "TR6U6Jq7gCMB"
   },
   "source": [
    "### 2.6.2 Feature Scaling\n",
    "\n",
    "- `StandardScaler` from `sklearn.preprocessing` helps to scale the data before modelling.\n"
   ]
  },
  {
   "cell_type": "code",
   "execution_count": null,
   "metadata": {
    "id": "NEfnQrpnf_nV"
   },
   "outputs": [
    {
     "ename": "TypeError",
     "evalue": "__init__() takes 1 positional argument but 2 were given",
     "output_type": "error",
     "traceback": [
      "\u001b[1;31m---------------------------------------------------------------------------\u001b[0m",
      "\u001b[1;31mTypeError\u001b[0m                                 Traceback (most recent call last)",
      "Cell \u001b[1;32mIn[66], line 5\u001b[0m\n\u001b[0;32m      2\u001b[0m \u001b[38;5;28;01mfrom\u001b[39;00m\u001b[38;5;250m \u001b[39m\u001b[38;5;21;01msklearn\u001b[39;00m\u001b[38;5;21;01m.\u001b[39;00m\u001b[38;5;21;01mpreprocessing\u001b[39;00m\u001b[38;5;250m \u001b[39m\u001b[38;5;28;01mimport\u001b[39;00m StandardScaler\n\u001b[0;32m      4\u001b[0m \u001b[38;5;66;03m# Initialize the StandardScaler, which will standardize features by removing the mean and scaling to unit variance\u001b[39;00m\n\u001b[1;32m----> 5\u001b[0m scaler \u001b[38;5;241m=\u001b[39m \u001b[43mStandardScaler\u001b[49m\u001b[43m(\u001b[49m\u001b[38;5;241;43m10\u001b[39;49m\u001b[43m)\u001b[49m\n\u001b[0;32m      8\u001b[0m \u001b[38;5;66;03m# Fit the scaler on the training data and apply the transformation (standardization) to X_train\u001b[39;00m\n\u001b[0;32m      9\u001b[0m \u001b[38;5;66;03m# Replace the placeholder <> with the code to fit & transform the train data - `X_train = scaler.fit_transform(X_train)`\u001b[39;00m\n\u001b[0;32m     10\u001b[0m X_train \u001b[38;5;241m=\u001b[39m scaler\u001b[38;5;241m.\u001b[39mfit_transform(X_train)\n",
      "\u001b[1;31mTypeError\u001b[0m: __init__() takes 1 positional argument but 2 were given"
     ]
    }
   ],
   "source": [
    "# Import the library\n",
    "from sklearn.preprocessing import StandardScaler\n",
    "\n",
    "# Initialize the StandardScaler, which will standardize features by removing the mean and scaling to unit variance\n",
    "scaler = StandardScaler()\n",
    "\n",
    "\n",
    "# Fit the scaler on the training data and apply the transformation (standardization) to X_train\n",
    "# Replace the placeholder <> with the code to fit & transform the train data - `X_train = scaler.fit_transform(X_train)`\n",
    "X_train = scaler.fit_transform(X_train)\n",
    "# Apply the same transformation to the test data (X_test) using the already fitted scaler\n",
    "# Replace the placeholder <> to apply the same transformation to test data - `X_test = scaler.transform(X_test)`\n",
    "X_test = scaler.transform(X_test)"
   ]
  },
  {
   "cell_type": "markdown",
   "metadata": {
    "id": "baYBe4HhyWkC"
   },
   "source": [
    "## 2.7 Model Building\n",
    "\n",
    "Make sure the following imports are done for model building.\n",
    "```\n",
    "from sklearn.naive_bayes import GaussianNB  \n",
    "\n",
    "from sklearn.neighbors import KNeighborsClassifier  \n",
    "\n",
    "from sklearn.linear_model import LogisticRegression\n",
    "```\n",
    "\n",
    "- `classification_report()` from `sklearn.metrics` helps to view the model metrics.\n",
    "\n",
    "           \n",
    "\n",
    "\n",
    "### 2.7.1 KNN Algorithm"
   ]
  },
  {
   "cell_type": "code",
   "execution_count": 71,
   "metadata": {
    "id": "t0LEO20uNoO7"
   },
   "outputs": [
    {
     "name": "stdout",
     "output_type": "stream",
     "text": [
      "Accuracy: 0.1358\n",
      "Classification Report:\n",
      "              precision    recall  f1-score   support\n",
      "\n",
      "         599       0.40      0.67      0.50         3\n",
      "         629       0.00      0.00      0.00         2\n",
      "         639       0.12      1.00      0.22         1\n",
      "         649       0.33      0.40      0.36         5\n",
      "         699       0.00      0.00      0.00         3\n",
      "         705       0.00      0.00      0.00         0\n",
      "         749       0.00      0.00      0.00         1\n",
      "         798       0.00      0.00      0.00         0\n",
      "         799       0.25      0.25      0.25         4\n",
      "         849       0.00      0.00      0.00         1\n",
      "         869       0.00      0.00      0.00         1\n",
      "         898       0.00      0.00      0.00         0\n",
      "         899       0.00      0.00      0.00         1\n",
      "         900       0.00      0.00      0.00         1\n",
      "         927       0.00      0.00      0.00         2\n",
      "         930       0.00      0.00      0.00         2\n",
      "         935       0.00      0.00      0.00         1\n",
      "         945       0.00      0.00      0.00         1\n",
      "         949       0.00      0.00      0.00         3\n",
      "         970       0.00      0.00      0.00         1\n",
      "         980       0.00      0.00      0.00         1\n",
      "         982       0.00      0.00      0.00         1\n",
      "         984       0.00      0.00      0.00         1\n",
      "         985       0.50      1.00      0.67         2\n",
      "         990       0.00      0.00      0.00         1\n",
      "         999       0.25      1.00      0.40         1\n",
      "        1049       0.00      0.00      0.00         3\n",
      "        1089       0.00      0.00      0.00         1\n",
      "        1099       0.00      0.00      0.00         4\n",
      "        1110       0.00      0.00      0.00         1\n",
      "        1149       0.00      0.00      0.00         0\n",
      "        1199       0.20      0.50      0.29         2\n",
      "        1240       0.00      0.00      0.00         1\n",
      "        1275       0.00      0.00      0.00         1\n",
      "        1280       0.00      0.00      0.00         1\n",
      "        1299       0.14      0.33      0.20         3\n",
      "        1349       0.25      1.00      0.40         1\n",
      "        1390       0.00      0.00      0.00         1\n",
      "        1399       0.00      0.00      0.00         3\n",
      "        1451       0.00      0.00      0.00         0\n",
      "        1499       0.33      0.33      0.33         3\n",
      "        1500       0.00      0.00      0.00         1\n",
      "        1549       0.00      0.00      0.00         1\n",
      "        1575       0.00      0.00      0.00         1\n",
      "        1599       0.00      0.00      0.00         1\n",
      "        1690       0.00      0.00      0.00         1\n",
      "        1695       0.00      0.00      0.00         2\n",
      "        1699       0.00      0.00      0.00         1\n",
      "        1799       0.00      0.00      0.00         2\n",
      "        2135       0.00      0.00      0.00         2\n",
      "        2299       0.00      0.00      0.00         1\n",
      "        2450       0.00      0.00      0.00         1\n",
      "        2599       0.00      0.00      0.00         1\n",
      "        3000       0.00      0.00      0.00         2\n",
      "        3149       0.00      0.00      0.00         2\n",
      "        3399       0.00      0.00      0.00         0\n",
      "        3999       0.00      0.00      0.00         4\n",
      "        7490       0.00      0.00      0.00         1\n",
      "        7999       0.00      0.00      0.00         1\n",
      "        8798       0.00      0.00      0.00         1\n",
      "        8990       0.00      0.00      0.00         1\n",
      "        9350       0.00      0.00      0.00         1\n",
      "        9790       0.00      0.00      0.00         0\n",
      "        9989       0.00      0.00      0.00         1\n",
      "        9990       0.00      0.00      0.00         1\n",
      "        9998       0.00      0.00      0.00         1\n",
      "        9999       0.00      0.00      0.00         2\n",
      "       11999       0.50      1.00      0.67         1\n",
      "       12900       0.00      0.00      0.00         0\n",
      "       13950       0.00      0.00      0.00         1\n",
      "       13999       0.00      0.00      0.00         2\n",
      "       14990       0.00      0.00      0.00         1\n",
      "       14999       0.00      0.00      0.00         0\n",
      "       15000       0.00      0.00      0.00         1\n",
      "       15656       0.00      0.00      0.00         1\n",
      "       15899       0.00      0.00      0.00         1\n",
      "       15990       0.00      0.00      0.00         0\n",
      "       15999       0.00      0.00      0.00         1\n",
      "       16490       0.33      1.00      0.50         1\n",
      "       16675       0.00      0.00      0.00         1\n",
      "       16990       0.00      0.00      0.00         2\n",
      "       16999       0.00      0.00      0.00         2\n",
      "       17990       0.00      0.00      0.00         1\n",
      "       17999       0.00      0.00      0.00         1\n",
      "       18099       0.00      0.00      0.00         1\n",
      "       18499       0.50      1.00      0.67         1\n",
      "       18570       0.00      0.00      0.00         1\n",
      "       18989       0.00      0.00      0.00         1\n",
      "       18990       0.00      0.00      0.00         0\n",
      "       18999       0.00      0.00      0.00         4\n",
      "       19990       0.00      0.00      0.00         1\n",
      "       19999       0.00      0.00      0.00         1\n",
      "       21499       0.00      0.00      0.00         1\n",
      "       21999       0.00      0.00      0.00         2\n",
      "       22221       0.00      0.00      0.00         1\n",
      "       22999       0.33      0.50      0.40         2\n",
      "       24990       0.00      0.00      0.00         1\n",
      "       24999       0.00      0.00      0.00         1\n",
      "       29499       0.00      0.00      0.00         0\n",
      "       29990       0.00      0.00      0.00         3\n",
      "       29999       0.00      0.00      0.00         0\n",
      "       30999       0.00      0.00      0.00         2\n",
      "       31590       0.00      0.00      0.00         1\n",
      "       31990       0.00      0.00      0.00         3\n",
      "       31999       0.00      0.00      0.00         0\n",
      "       32999       0.00      0.00      0.00         1\n",
      "       34990       0.00      0.00      0.00         1\n",
      "       36999       0.00      0.00      0.00         1\n",
      "       38990       0.20      1.00      0.33         1\n",
      "       41990       0.00      0.00      0.00         1\n",
      "       42990       0.00      0.00      0.00         1\n",
      "       42998       0.00      0.00      0.00         1\n",
      "       42999       0.00      0.00      0.00         1\n",
      "       47999       0.40      1.00      0.57         2\n",
      "       53990       0.50      1.00      0.67         1\n",
      "       54990       0.00      0.00      0.00         1\n",
      "       56999       0.00      0.00      0.00         2\n",
      "       59000       0.00      0.00      0.00         1\n",
      "       68300       0.00      0.00      0.00         1\n",
      "       77999       1.00      1.00      1.00         1\n",
      "      106600       0.00      0.00      0.00         2\n",
      "      112450       0.00      0.00      0.00         1\n",
      "      117100       0.00      0.00      0.00         0\n",
      "      140300       0.00      0.00      0.00         0\n",
      "\n",
      "    accuracy                           0.14       162\n",
      "   macro avg       0.05      0.11      0.07       162\n",
      "weighted avg       0.07      0.14      0.09       162\n",
      "\n"
     ]
    }
   ],
   "source": [
    "from sklearn.neighbors import KNeighborsClassifier\n",
    "\n",
    "# Initialize the KNN model\n",
    "model = KNeighborsClassifier(n_neighbors=15)\n",
    "\n",
    "# Fit the model\n",
    "model.fit(X_train, y_train)\n",
    "\n",
    "# Make predictions\n",
    "y_pred = model.predict(X_test)\n",
    "\n",
    "# Calculate accuracy\n",
    "accuracy = accuracy_score(y_test, y_pred)\n",
    "print(f'Accuracy: {accuracy:.4f}')\n",
    "\n",
    "# Print classification report\n",
    "print('Classification Report:')\n",
    "print(classification_report(y_test, y_pred))"
   ]
  },
  {
   "cell_type": "markdown",
   "metadata": {
    "id": "kAJv0-czO08m"
   },
   "source": [
    "### Interpretation:\n",
    "- Which class does the model perform best and worst on?\n",
    "  \n",
    "- Do you think the value of `k` has impacted the performance?\n",
    "  \n",
    "*Note: Your task is to run the code and understand how 'k' values influence the model metrics.*"
   ]
  },
  {
   "cell_type": "code",
   "execution_count": 65,
   "metadata": {
    "id": "qKdoeCXUPjei"
   },
   "outputs": [
    {
     "name": "stdout",
     "output_type": "stream",
     "text": [
      "Accuracy for model with k=10: 0.1852\n",
      "Accuracy for model with k=25: 0.1173\n",
      "Classification Report for model with k=10:\n",
      "              precision    recall  f1-score   support\n",
      "\n",
      "         599       0.40      0.67      0.50         3\n",
      "         629       1.00      0.50      0.67         2\n",
      "         639       0.14      1.00      0.25         1\n",
      "         649       0.67      0.40      0.50         5\n",
      "         699       0.00      0.00      0.00         3\n",
      "         705       0.00      0.00      0.00         0\n",
      "         749       0.00      0.00      0.00         1\n",
      "         798       0.00      0.00      0.00         0\n",
      "         799       0.50      0.25      0.33         4\n",
      "         847       0.00      0.00      0.00         0\n",
      "         849       0.00      0.00      0.00         1\n",
      "         850       0.00      0.00      0.00         0\n",
      "         869       0.00      0.00      0.00         1\n",
      "         898       0.00      0.00      0.00         0\n",
      "         899       0.00      0.00      0.00         1\n",
      "         900       0.00      0.00      0.00         1\n",
      "         927       0.00      0.00      0.00         2\n",
      "         930       1.00      0.50      0.67         2\n",
      "         935       0.00      0.00      0.00         1\n",
      "         945       0.00      0.00      0.00         1\n",
      "         949       0.00      0.00      0.00         3\n",
      "         970       0.00      0.00      0.00         1\n",
      "         975       0.00      0.00      0.00         0\n",
      "         980       0.00      0.00      0.00         1\n",
      "         982       0.00      0.00      0.00         1\n",
      "         984       0.00      0.00      0.00         1\n",
      "         985       0.50      1.00      0.67         2\n",
      "         990       0.00      0.00      0.00         1\n",
      "         999       0.33      1.00      0.50         1\n",
      "        1049       0.00      0.00      0.00         3\n",
      "        1089       0.00      0.00      0.00         1\n",
      "        1099       0.00      0.00      0.00         4\n",
      "        1110       0.00      0.00      0.00         1\n",
      "        1149       0.00      0.00      0.00         0\n",
      "        1199       0.14      0.50      0.22         2\n",
      "        1240       0.00      0.00      0.00         1\n",
      "        1275       0.00      0.00      0.00         1\n",
      "        1280       0.00      0.00      0.00         1\n",
      "        1299       0.00      0.00      0.00         3\n",
      "        1349       0.33      1.00      0.50         1\n",
      "        1390       0.00      0.00      0.00         1\n",
      "        1399       0.00      0.00      0.00         3\n",
      "        1451       0.00      0.00      0.00         0\n",
      "        1499       0.33      0.33      0.33         3\n",
      "        1500       0.00      0.00      0.00         1\n",
      "        1549       0.00      0.00      0.00         1\n",
      "        1575       0.00      0.00      0.00         1\n",
      "        1599       0.00      0.00      0.00         1\n",
      "        1619       0.00      0.00      0.00         0\n",
      "        1690       0.00      0.00      0.00         1\n",
      "        1695       0.00      0.00      0.00         2\n",
      "        1699       0.00      0.00      0.00         1\n",
      "        1799       0.00      0.00      0.00         2\n",
      "        2135       0.00      0.00      0.00         2\n",
      "        2299       0.00      0.00      0.00         1\n",
      "        2450       0.00      0.00      0.00         1\n",
      "        2599       0.00      0.00      0.00         1\n",
      "        3000       0.00      0.00      0.00         2\n",
      "        3149       0.00      0.00      0.00         2\n",
      "        3399       0.00      0.00      0.00         0\n",
      "        3999       0.00      0.00      0.00         4\n",
      "        7490       0.33      1.00      0.50         1\n",
      "        7999       0.00      0.00      0.00         1\n",
      "        8798       0.00      0.00      0.00         1\n",
      "        8990       0.25      1.00      0.40         1\n",
      "        9350       1.00      1.00      1.00         1\n",
      "        9790       0.00      0.00      0.00         0\n",
      "        9989       0.00      0.00      0.00         1\n",
      "        9990       0.00      0.00      0.00         1\n",
      "        9998       0.00      0.00      0.00         1\n",
      "        9999       0.00      0.00      0.00         2\n",
      "       11950       0.00      0.00      0.00         0\n",
      "       11999       0.33      1.00      0.50         1\n",
      "       12900       0.00      0.00      0.00         0\n",
      "       13950       0.00      0.00      0.00         1\n",
      "       13999       0.00      0.00      0.00         2\n",
      "       14990       0.00      0.00      0.00         1\n",
      "       14999       0.00      0.00      0.00         0\n",
      "       15000       0.00      0.00      0.00         1\n",
      "       15656       0.00      0.00      0.00         1\n",
      "       15899       0.50      1.00      0.67         1\n",
      "       15990       0.00      0.00      0.00         0\n",
      "       15999       0.00      0.00      0.00         1\n",
      "       16490       0.33      1.00      0.50         1\n",
      "       16675       0.00      0.00      0.00         1\n",
      "       16990       0.00      0.00      0.00         2\n",
      "       16999       0.00      0.00      0.00         2\n",
      "       17990       0.00      0.00      0.00         1\n",
      "       17999       0.00      0.00      0.00         1\n",
      "       18099       0.00      0.00      0.00         1\n",
      "       18499       0.50      1.00      0.67         1\n",
      "       18570       0.00      0.00      0.00         1\n",
      "       18989       0.00      0.00      0.00         1\n",
      "       18990       0.00      0.00      0.00         0\n",
      "       18999       0.00      0.00      0.00         4\n",
      "       19990       0.00      0.00      0.00         1\n",
      "       19999       0.00      0.00      0.00         1\n",
      "       21499       0.00      0.00      0.00         1\n",
      "       21999       0.00      0.00      0.00         2\n",
      "       22221       0.00      0.00      0.00         1\n",
      "       22999       0.50      0.50      0.50         2\n",
      "       24990       0.00      0.00      0.00         1\n",
      "       24999       0.00      0.00      0.00         1\n",
      "       29499       0.00      0.00      0.00         0\n",
      "       29990       0.00      0.00      0.00         3\n",
      "       29999       0.00      0.00      0.00         0\n",
      "       30999       1.00      1.00      1.00         2\n",
      "       31590       0.00      0.00      0.00         1\n",
      "       31990       0.00      0.00      0.00         3\n",
      "       31999       0.00      0.00      0.00         0\n",
      "       32999       0.00      0.00      0.00         1\n",
      "       34990       0.00      0.00      0.00         1\n",
      "       36999       1.00      1.00      1.00         1\n",
      "       38990       0.25      1.00      0.40         1\n",
      "       41990       0.00      0.00      0.00         1\n",
      "       42990       0.00      0.00      0.00         1\n",
      "       42998       0.00      0.00      0.00         1\n",
      "       42999       0.00      0.00      0.00         1\n",
      "       47999       0.50      1.00      0.67         2\n",
      "       53990       0.50      1.00      0.67         1\n",
      "       54990       0.00      0.00      0.00         1\n",
      "       56999       0.00      0.00      0.00         2\n",
      "       59000       0.00      0.00      0.00         1\n",
      "       68300       0.00      0.00      0.00         1\n",
      "       77999       1.00      1.00      1.00         1\n",
      "      106600       0.00      0.00      0.00         2\n",
      "      112450       0.00      0.00      0.00         1\n",
      "      117100       0.00      0.00      0.00         0\n",
      "\n",
      "    accuracy                           0.19       162\n",
      "   macro avg       0.10      0.16      0.11       162\n",
      "weighted avg       0.15      0.19      0.15       162\n",
      "\n",
      "Classification Report for model with k=25:\n",
      "              precision    recall  f1-score   support\n",
      "\n",
      "         599       0.40      0.67      0.50         3\n",
      "         629       0.00      0.00      0.00         2\n",
      "         639       0.12      1.00      0.22         1\n",
      "         649       0.30      0.60      0.40         5\n",
      "         699       0.00      0.00      0.00         3\n",
      "         749       0.08      1.00      0.14         1\n",
      "         798       0.00      0.00      0.00         0\n",
      "         799       0.33      0.25      0.29         4\n",
      "         849       0.00      0.00      0.00         1\n",
      "         869       0.00      0.00      0.00         1\n",
      "         899       0.00      0.00      0.00         1\n",
      "         900       0.00      0.00      0.00         1\n",
      "         927       0.00      0.00      0.00         2\n",
      "         930       0.00      0.00      0.00         2\n",
      "         935       0.00      0.00      0.00         1\n",
      "         945       0.00      0.00      0.00         1\n",
      "         949       0.00      0.00      0.00         3\n",
      "         970       0.00      0.00      0.00         1\n",
      "         980       0.00      0.00      0.00         1\n",
      "         982       0.00      0.00      0.00         1\n",
      "         984       0.00      0.00      0.00         1\n",
      "         985       0.25      1.00      0.40         2\n",
      "         990       0.00      0.00      0.00         1\n",
      "         999       0.00      0.00      0.00         1\n",
      "        1049       0.00      0.00      0.00         3\n",
      "        1089       0.00      0.00      0.00         1\n",
      "        1099       0.00      0.00      0.00         4\n",
      "        1110       0.00      0.00      0.00         1\n",
      "        1199       0.25      0.50      0.33         2\n",
      "        1240       0.00      0.00      0.00         1\n",
      "        1275       0.00      0.00      0.00         1\n",
      "        1280       0.00      0.00      0.00         1\n",
      "        1299       0.00      0.00      0.00         3\n",
      "        1349       0.08      1.00      0.14         1\n",
      "        1390       0.00      0.00      0.00         1\n",
      "        1399       0.00      0.00      0.00         3\n",
      "        1451       0.00      0.00      0.00         0\n",
      "        1499       0.00      0.00      0.00         3\n",
      "        1500       0.00      0.00      0.00         1\n",
      "        1549       0.00      0.00      0.00         1\n",
      "        1575       0.00      0.00      0.00         1\n",
      "        1599       0.00      0.00      0.00         1\n",
      "        1690       0.00      0.00      0.00         1\n",
      "        1695       0.00      0.00      0.00         2\n",
      "        1699       0.00      0.00      0.00         1\n",
      "        1799       0.00      0.00      0.00         2\n",
      "        2135       0.00      0.00      0.00         2\n",
      "        2299       0.00      0.00      0.00         1\n",
      "        2450       0.00      0.00      0.00         1\n",
      "        2599       0.00      0.00      0.00         1\n",
      "        3000       0.00      0.00      0.00         2\n",
      "        3149       0.00      0.00      0.00         2\n",
      "        3999       0.00      0.00      0.00         4\n",
      "        7490       0.00      0.00      0.00         1\n",
      "        7999       0.00      0.00      0.00         1\n",
      "        8798       0.00      0.00      0.00         1\n",
      "        8990       0.25      1.00      0.40         1\n",
      "        9350       0.00      0.00      0.00         1\n",
      "        9790       0.00      0.00      0.00         0\n",
      "        9989       0.00      0.00      0.00         1\n",
      "        9990       0.00      0.00      0.00         1\n",
      "        9998       0.00      0.00      0.00         1\n",
      "        9999       0.00      0.00      0.00         2\n",
      "       11999       0.00      0.00      0.00         1\n",
      "       12900       0.00      0.00      0.00         0\n",
      "       13950       0.00      0.00      0.00         1\n",
      "       13999       0.00      0.00      0.00         2\n",
      "       14990       0.00      0.00      0.00         1\n",
      "       14999       0.00      0.00      0.00         0\n",
      "       15000       0.00      0.00      0.00         1\n",
      "       15656       0.00      0.00      0.00         1\n",
      "       15899       0.00      0.00      0.00         1\n",
      "       15990       0.00      0.00      0.00         0\n",
      "       15999       0.00      0.00      0.00         1\n",
      "       16490       0.17      1.00      0.29         1\n",
      "       16675       0.00      0.00      0.00         1\n",
      "       16990       0.00      0.00      0.00         2\n",
      "       16999       0.00      0.00      0.00         2\n",
      "       17990       0.00      0.00      0.00         1\n",
      "       17999       0.00      0.00      0.00         1\n",
      "       18099       0.00      0.00      0.00         1\n",
      "       18499       0.00      0.00      0.00         1\n",
      "       18570       0.00      0.00      0.00         1\n",
      "       18989       0.00      0.00      0.00         1\n",
      "       18990       0.00      0.00      0.00         0\n",
      "       18999       0.00      0.00      0.00         4\n",
      "       19900       0.00      0.00      0.00         0\n",
      "       19990       0.00      0.00      0.00         1\n",
      "       19999       0.00      0.00      0.00         1\n",
      "       21499       0.00      0.00      0.00         1\n",
      "       21999       0.00      0.00      0.00         2\n",
      "       22221       0.00      0.00      0.00         1\n",
      "       22999       0.12      0.50      0.20         2\n",
      "       24990       0.00      0.00      0.00         1\n",
      "       24999       0.00      0.00      0.00         1\n",
      "       29499       0.00      0.00      0.00         0\n",
      "       29990       0.00      0.00      0.00         3\n",
      "       30999       0.00      0.00      0.00         2\n",
      "       31590       0.00      0.00      0.00         1\n",
      "       31990       0.00      0.00      0.00         3\n",
      "       32999       0.00      0.00      0.00         1\n",
      "       34990       0.00      0.00      0.00         1\n",
      "       36999       0.00      0.00      0.00         1\n",
      "       38990       0.00      0.00      0.00         1\n",
      "       41990       0.00      0.00      0.00         1\n",
      "       42990       0.00      0.00      0.00         1\n",
      "       42998       0.00      0.00      0.00         1\n",
      "       42999       0.00      0.00      0.00         1\n",
      "       47999       0.29      1.00      0.44         2\n",
      "       53990       1.00      1.00      1.00         1\n",
      "       54990       0.00      0.00      0.00         1\n",
      "       56999       0.00      0.00      0.00         2\n",
      "       59000       0.00      0.00      0.00         1\n",
      "       68300       0.00      0.00      0.00         1\n",
      "       77999       1.00      1.00      1.00         1\n",
      "      106600       0.00      0.00      0.00         2\n",
      "      112450       0.00      0.00      0.00         1\n",
      "      117100       0.00      0.00      0.00         0\n",
      "\n",
      "    accuracy                           0.12       162\n",
      "   macro avg       0.04      0.10      0.05       162\n",
      "weighted avg       0.05      0.12      0.07       162\n",
      "\n"
     ]
    }
   ],
   "source": [
    "# Rebuild the model with 'k' value as 10 and 25\n",
    "\n",
    "# Initialize the KNN models\n",
    "model1 = KNeighborsClassifier(n_neighbors=10)\n",
    "model2 = KNeighborsClassifier(n_neighbors=25)\n",
    "\n",
    "# Fit the models\n",
    "model1.fit(X_train, y_train)\n",
    "model2.fit(X_train, y_train)\n",
    "\n",
    "# Make predictions\n",
    "y_pred1 = model1.predict(X_test)\n",
    "y_pred2 = model2.predict(X_test)\n",
    "\n",
    "# Calculate accuracy\n",
    "accuracy1 = accuracy_score(y_test, y_pred1)\n",
    "accuracy2 = accuracy_score(y_test, y_pred2)\n",
    "print(f'Accuracy for model with k=10: {accuracy1:.4f}')\n",
    "print(f'Accuracy for model with k=25: {accuracy2:.4f}')\n",
    "\n",
    "# Print classification report\n",
    "print('Classification Report for model with k=10:')\n",
    "print(classification_report(y_test, y_pred1))\n",
    "\n",
    "print('Classification Report for model with k=25:')\n",
    "print(classification_report(y_test, y_pred2))"
   ]
  },
  {
   "cell_type": "markdown",
   "metadata": {
    "id": "L09qoWwLQ61q"
   },
   "source": [
    "### Interpretation:\n",
    "- Which model performed better overall, and what evidence supports this?\n",
    "  \n",
    "\n",
    "- Should even larger `k` values be considered for further improvement?\n",
    "  "
   ]
  },
  {
   "cell_type": "markdown",
   "metadata": {
    "id": "DjVqoLsOzJZ0"
   },
   "source": [
    "### 2.7.2 Naive Bayes Algorithm\n",
    "\n",
    "Let's try Gaussian Naive Bayes algorithm.\n"
   ]
  },
  {
   "cell_type": "code",
   "execution_count": 77,
   "metadata": {
    "id": "xDTWkXUP06aO"
   },
   "outputs": [
    {
     "name": "stdout",
     "output_type": "stream",
     "text": [
      "Accuracy: 0.4012\n",
      "Classification Report:\n",
      "              precision    recall  f1-score   support\n",
      "\n",
      "         599       0.25      0.33      0.29         3\n",
      "         629       0.17      0.50      0.25         2\n",
      "         639       0.00      0.00      0.00         1\n",
      "         649       0.00      0.00      0.00         5\n",
      "         699       0.07      0.33      0.11         3\n",
      "         749       0.00      0.00      0.00         1\n",
      "         798       0.00      0.00      0.00         0\n",
      "         799       0.50      0.25      0.33         4\n",
      "         847       0.00      0.00      0.00         0\n",
      "         849       0.00      0.00      0.00         1\n",
      "         850       0.00      0.00      0.00         0\n",
      "         869       0.00      0.00      0.00         1\n",
      "         899       0.00      0.00      0.00         1\n",
      "         900       1.00      1.00      1.00         1\n",
      "         927       1.00      0.50      0.67         2\n",
      "         930       0.00      0.00      0.00         2\n",
      "         935       0.00      0.00      0.00         1\n",
      "         940       0.00      0.00      0.00         0\n",
      "         945       0.00      0.00      0.00         1\n",
      "         949       0.00      0.00      0.00         3\n",
      "         970       0.00      0.00      0.00         1\n",
      "         980       0.00      0.00      0.00         1\n",
      "         982       0.00      0.00      0.00         1\n",
      "         984       1.00      1.00      1.00         1\n",
      "         985       1.00      0.50      0.67         2\n",
      "         990       0.00      0.00      0.00         1\n",
      "         999       0.00      0.00      0.00         1\n",
      "        1049       0.50      0.33      0.40         3\n",
      "        1089       1.00      1.00      1.00         1\n",
      "        1099       0.00      0.00      0.00         4\n",
      "        1110       0.00      0.00      0.00         1\n",
      "        1199       0.00      0.00      0.00         2\n",
      "        1240       0.50      1.00      0.67         1\n",
      "        1275       1.00      1.00      1.00         1\n",
      "        1280       0.00      0.00      0.00         1\n",
      "        1299       0.00      0.00      0.00         3\n",
      "        1330       0.00      0.00      0.00         0\n",
      "        1349       0.00      0.00      0.00         1\n",
      "        1390       0.00      0.00      0.00         1\n",
      "        1399       0.00      0.00      0.00         3\n",
      "        1499       0.00      0.00      0.00         3\n",
      "        1500       0.00      0.00      0.00         1\n",
      "        1549       0.00      0.00      0.00         1\n",
      "        1575       1.00      1.00      1.00         1\n",
      "        1599       0.00      0.00      0.00         1\n",
      "        1690       1.00      1.00      1.00         1\n",
      "        1695       0.67      1.00      0.80         2\n",
      "        1699       0.00      0.00      0.00         1\n",
      "        1799       0.00      0.00      0.00         2\n",
      "        2100       0.00      0.00      0.00         0\n",
      "        2135       0.00      0.00      0.00         2\n",
      "        2299       0.00      0.00      0.00         1\n",
      "        2450       0.00      0.00      0.00         1\n",
      "        2599       1.00      1.00      1.00         1\n",
      "        3000       0.00      0.00      0.00         2\n",
      "        3149       1.00      1.00      1.00         2\n",
      "        3999       1.00      1.00      1.00         4\n",
      "        7490       1.00      1.00      1.00         1\n",
      "        7999       0.00      0.00      0.00         1\n",
      "        8798       0.00      0.00      0.00         1\n",
      "        8990       0.50      1.00      0.67         1\n",
      "        9350       1.00      1.00      1.00         1\n",
      "        9490       0.00      0.00      0.00         0\n",
      "        9499       0.00      0.00      0.00         0\n",
      "        9989       0.00      0.00      0.00         1\n",
      "        9990       0.50      1.00      0.67         1\n",
      "        9998       0.00      0.00      0.00         1\n",
      "        9999       1.00      0.50      0.67         2\n",
      "       11999       1.00      1.00      1.00         1\n",
      "       13950       0.00      0.00      0.00         1\n",
      "       13999       1.00      0.50      0.67         2\n",
      "       14990       0.00      0.00      0.00         1\n",
      "       14999       0.00      0.00      0.00         0\n",
      "       15000       0.00      0.00      0.00         1\n",
      "       15656       1.00      1.00      1.00         1\n",
      "       15899       1.00      1.00      1.00         1\n",
      "       15999       0.00      0.00      0.00         1\n",
      "       16490       1.00      1.00      1.00         1\n",
      "       16675       1.00      1.00      1.00         1\n",
      "       16990       1.00      1.00      1.00         2\n",
      "       16999       0.17      0.50      0.25         2\n",
      "       17990       0.00      0.00      0.00         1\n",
      "       17999       0.00      0.00      0.00         1\n",
      "       18099       0.00      0.00      0.00         1\n",
      "       18499       1.00      1.00      1.00         1\n",
      "       18570       1.00      1.00      1.00         1\n",
      "       18989       0.00      0.00      0.00         1\n",
      "       18990       0.00      0.00      0.00         0\n",
      "       18999       0.43      0.75      0.55         4\n",
      "       19990       0.00      0.00      0.00         1\n",
      "       19999       0.00      0.00      0.00         1\n",
      "       21499       0.00      0.00      0.00         1\n",
      "       21999       1.00      0.50      0.67         2\n",
      "       22221       0.00      0.00      0.00         1\n",
      "       22999       1.00      0.50      0.67         2\n",
      "       24990       0.00      0.00      0.00         1\n",
      "       24999       0.00      0.00      0.00         1\n",
      "       29990       1.00      1.00      1.00         3\n",
      "       30999       1.00      1.00      1.00         2\n",
      "       31590       1.00      1.00      1.00         1\n",
      "       31990       1.00      1.00      1.00         3\n",
      "       31999       0.00      0.00      0.00         0\n",
      "       32999       1.00      1.00      1.00         1\n",
      "       34990       1.00      1.00      1.00         1\n",
      "       36999       0.50      1.00      0.67         1\n",
      "       38990       1.00      1.00      1.00         1\n",
      "       41990       1.00      1.00      1.00         1\n",
      "       42990       1.00      1.00      1.00         1\n",
      "       42998       0.00      0.00      0.00         1\n",
      "       42999       0.00      0.00      0.00         1\n",
      "       47999       0.67      1.00      0.80         2\n",
      "       53990       1.00      1.00      1.00         1\n",
      "       54990       0.00      0.00      0.00         1\n",
      "       56999       1.00      0.50      0.67         2\n",
      "       59000       0.00      0.00      0.00         1\n",
      "       68300       1.00      1.00      1.00         1\n",
      "       77999       1.00      1.00      1.00         1\n",
      "      106600       0.00      0.00      0.00         2\n",
      "      112450       0.00      0.00      0.00         1\n",
      "      140300       0.00      0.00      0.00         0\n",
      "\n",
      "    accuracy                           0.40       162\n",
      "   macro avg       0.36      0.36      0.35       162\n",
      "weighted avg       0.41      0.40      0.39       162\n",
      "\n"
     ]
    }
   ],
   "source": [
    "# Initialize the Gaussian Naive Bayes model\n",
    "# Replace the placeholder with the Naive Bayes classifier - `GaussianNB()`\n",
    "gnb = GaussianNB()\n",
    "\n",
    "# Fit the model on the training data\n",
    "# Replace the placeholders with the parameters to fit the model - `X_train, y_train`\n",
    "gnb.fit(X_train, y_train)\n",
    "\n",
    "# Make predictions on the test data\n",
    "y_pred = gnb.predict(X_test)\n",
    "\n",
    "# Calculate accuracy\n",
    "accuracy = accuracy_score(y_test, y_pred)\n",
    "print(f'Accuracy: {accuracy:.4f}')\n",
    "\n",
    "# Print classification report\n",
    "print('Classification Report:')\n",
    "print(classification_report(y_test, y_pred))"
   ]
  },
  {
   "cell_type": "markdown",
   "metadata": {
    "id": "PXgS4RRxRwJ-"
   },
   "source": [
    "### Interpretation:\n",
    "- Does the Gaussian Naive Bayes model performing better compared to the KNN models? Why?\n",
    "  \n",
    "\n",
    "- Does this model generalize well for all the classes?\n",
    "  "
   ]
  },
  {
   "cell_type": "markdown",
   "metadata": {
    "id": "Mfjo6NpaOP1e"
   },
   "source": [
    "### 2.7.3 Logistic Regression"
   ]
  },
  {
   "cell_type": "code",
   "execution_count": 78,
   "metadata": {
    "id": "_i5cShT4NvHG"
   },
   "outputs": [
    {
     "name": "stdout",
     "output_type": "stream",
     "text": [
      "Accuracy: 0.1296\n",
      "Classification Report:\n",
      "              precision    recall  f1-score   support\n",
      "\n",
      "         595       0.00      0.00      0.00         0\n",
      "         599       0.20      0.33      0.25         3\n",
      "         629       0.00      0.00      0.00         2\n",
      "         639       0.00      0.00      0.00         1\n",
      "         649       0.08      0.40      0.14         5\n",
      "         699       0.00      0.00      0.00         3\n",
      "         749       0.00      0.00      0.00         1\n",
      "         798       0.00      0.00      0.00         0\n",
      "         799       0.11      0.25      0.15         4\n",
      "         849       0.00      0.00      0.00         1\n",
      "         869       0.00      0.00      0.00         1\n",
      "         899       0.00      0.00      0.00         1\n",
      "         900       0.00      0.00      0.00         1\n",
      "         927       0.00      0.00      0.00         2\n",
      "         930       0.00      0.00      0.00         2\n",
      "         935       0.00      0.00      0.00         1\n",
      "         945       0.00      0.00      0.00         1\n",
      "         949       0.00      0.00      0.00         3\n",
      "         970       0.50      1.00      0.67         1\n",
      "         980       0.00      0.00      0.00         1\n",
      "         982       0.00      0.00      0.00         1\n",
      "         984       0.00      0.00      0.00         1\n",
      "         985       0.00      0.00      0.00         2\n",
      "         990       0.00      0.00      0.00         1\n",
      "         999       0.00      0.00      0.00         1\n",
      "        1049       0.00      0.00      0.00         3\n",
      "        1089       0.00      0.00      0.00         1\n",
      "        1099       0.00      0.00      0.00         4\n",
      "        1110       0.00      0.00      0.00         1\n",
      "        1149       0.00      0.00      0.00         0\n",
      "        1199       0.18      1.00      0.31         2\n",
      "        1240       0.00      0.00      0.00         1\n",
      "        1275       0.00      0.00      0.00         1\n",
      "        1280       0.00      0.00      0.00         1\n",
      "        1299       0.00      0.00      0.00         3\n",
      "        1349       0.14      1.00      0.25         1\n",
      "        1390       0.00      0.00      0.00         1\n",
      "        1399       0.00      0.00      0.00         3\n",
      "        1499       0.00      0.00      0.00         3\n",
      "        1500       0.00      0.00      0.00         1\n",
      "        1549       0.00      0.00      0.00         1\n",
      "        1575       0.00      0.00      0.00         1\n",
      "        1599       0.00      0.00      0.00         1\n",
      "        1690       0.00      0.00      0.00         1\n",
      "        1695       0.00      0.00      0.00         2\n",
      "        1699       0.00      0.00      0.00         1\n",
      "        1799       0.00      0.00      0.00         2\n",
      "        2135       0.00      0.00      0.00         2\n",
      "        2299       0.00      0.00      0.00         1\n",
      "        2450       0.00      0.00      0.00         1\n",
      "        2599       0.00      0.00      0.00         1\n",
      "        3000       0.00      0.00      0.00         2\n",
      "        3149       0.00      0.00      0.00         2\n",
      "        3580       0.00      0.00      0.00         0\n",
      "        3999       1.00      0.25      0.40         4\n",
      "        7490       0.00      0.00      0.00         1\n",
      "        7999       0.00      0.00      0.00         1\n",
      "        8798       0.00      0.00      0.00         1\n",
      "        8990       0.33      1.00      0.50         1\n",
      "        9350       1.00      1.00      1.00         1\n",
      "        9790       0.00      0.00      0.00         0\n",
      "        9989       0.00      0.00      0.00         1\n",
      "        9990       0.00      0.00      0.00         1\n",
      "        9998       0.00      0.00      0.00         1\n",
      "        9999       0.00      0.00      0.00         2\n",
      "       11999       0.00      0.00      0.00         1\n",
      "       12900       0.00      0.00      0.00         0\n",
      "       13950       0.00      0.00      0.00         1\n",
      "       13999       0.00      0.00      0.00         2\n",
      "       14990       0.00      0.00      0.00         1\n",
      "       15000       0.00      0.00      0.00         1\n",
      "       15656       0.00      0.00      0.00         1\n",
      "       15899       0.00      0.00      0.00         1\n",
      "       15999       0.00      0.00      0.00         1\n",
      "       16490       0.50      1.00      0.67         1\n",
      "       16675       0.00      0.00      0.00         1\n",
      "       16990       0.00      0.00      0.00         2\n",
      "       16999       0.00      0.00      0.00         2\n",
      "       17990       0.00      0.00      0.00         1\n",
      "       17999       0.00      0.00      0.00         1\n",
      "       18099       0.00      0.00      0.00         1\n",
      "       18499       1.00      1.00      1.00         1\n",
      "       18570       0.00      0.00      0.00         1\n",
      "       18989       0.00      0.00      0.00         1\n",
      "       18990       0.00      0.00      0.00         0\n",
      "       18999       0.00      0.00      0.00         4\n",
      "       19990       0.00      0.00      0.00         1\n",
      "       19999       0.00      0.00      0.00         1\n",
      "       21499       0.00      0.00      0.00         1\n",
      "       21999       0.00      0.00      0.00         2\n",
      "       22221       0.00      0.00      0.00         1\n",
      "       22999       0.40      1.00      0.57         2\n",
      "       24990       0.00      0.00      0.00         1\n",
      "       24999       0.00      0.00      0.00         1\n",
      "       29990       0.00      0.00      0.00         3\n",
      "       29999       0.00      0.00      0.00         0\n",
      "       30999       0.00      0.00      0.00         2\n",
      "       31590       0.50      1.00      0.67         1\n",
      "       31990       0.00      0.00      0.00         3\n",
      "       31999       0.00      0.00      0.00         0\n",
      "       32999       0.00      0.00      0.00         1\n",
      "       34990       0.00      0.00      0.00         1\n",
      "       36999       0.00      0.00      0.00         1\n",
      "       38990       1.00      1.00      1.00         1\n",
      "       39999       0.00      0.00      0.00         0\n",
      "       41990       0.00      0.00      0.00         1\n",
      "       42990       0.00      0.00      0.00         1\n",
      "       42998       0.00      0.00      0.00         1\n",
      "       42999       0.00      0.00      0.00         1\n",
      "       47999       0.50      1.00      0.67         2\n",
      "       53990       1.00      1.00      1.00         1\n",
      "       54990       0.00      0.00      0.00         1\n",
      "       56999       0.00      0.00      0.00         2\n",
      "       59000       0.00      0.00      0.00         1\n",
      "       68300       0.00      0.00      0.00         1\n",
      "       77999       1.00      1.00      1.00         1\n",
      "      106600       0.00      0.00      0.00         2\n",
      "      112450       0.00      0.00      0.00         1\n",
      "      117100       0.00      0.00      0.00         0\n",
      "\n",
      "    accuracy                           0.13       162\n",
      "   macro avg       0.08      0.12      0.09       162\n",
      "weighted avg       0.09      0.13      0.09       162\n",
      "\n"
     ]
    }
   ],
   "source": [
    "# Initialize the Logistic Regression model\n",
    "# Replace the place holder <> with the logistic regression model - `LogisticRegression(random_state=42)`\n",
    "log_reg = LogisticRegression(random_state=42)\n",
    "\n",
    "# Train the model using the training data\n",
    "log_reg.fit(X_train, y_train)\n",
    "\n",
    "# Predict on the test set\n",
    "y_pred = log_reg.predict(X_test)\n",
    "\n",
    "\n",
    "# Calculate accuracy\n",
    "# Replace the placeholder <1> to calculate accuracy - `accuracy_score(y_test, y_pred)`\n",
    "accuracy =  accuracy_score(y_test, y_pred)\n",
    "print(f'Accuracy: {accuracy:.4f}')\n",
    "\n",
    "# Print classification report\n",
    "# Replace the placeholder <2> to print the classification report - `classification_report(y_test, y_pred)`\n",
    "print('Classification Report:')\n",
    "print(classification_report(y_test, y_pred))\n"
   ]
  },
  {
   "cell_type": "markdown",
   "metadata": {
    "id": "FsRVIiwtSjTv"
   },
   "source": [
    "### Interpretation:\n",
    "- How well did the Logistic Regression model perform overall?\n",
    "  \n",
    "\n",
    "- How does the model perform across different classes in terms of precision, recall, and f1-score?\n",
    "\n",
    "  \n",
    "\n",
    "- Why might Logistic Regression be performing better than the previous models?\n",
    "  "
   ]
  },
  {
   "cell_type": "markdown",
   "metadata": {
    "id": "13XUCZ87TclL"
   },
   "source": [
    "### 2.7.3.1 Finding the top 10 features contributing for the classification\n",
    "\n",
    "\n",
    "*Note: Run the code and understand which features contribute the most.*"
   ]
  },
  {
   "cell_type": "code",
   "execution_count": null,
   "metadata": {
    "colab": {
     "base_uri": "https://localhost:8080/"
    },
    "executionInfo": {
     "elapsed": 475,
     "status": "ok",
     "timestamp": 1726263230007,
     "user": {
      "displayName": "Karthika Saran",
      "userId": "01551313556193395154"
     },
     "user_tz": -330
    },
    "id": "Ka4YrLNjTOth",
    "outputId": "adcc9708-c063-4e3b-bf78-b3794a31ef4c"
   },
   "outputs": [
    {
     "name": "stdout",
     "output_type": "stream",
     "text": [
      "          Feature  Coefficient  Absolute Coefficient\n",
      "8             ram   -10.503915             10.503915\n",
      "0   battery_power    -2.625744              2.625744\n",
      "13       px_total    -2.516479              2.516479\n",
      "6       mobile_wt     0.369839              0.369839\n",
      "14    cam_quality    -0.143826              0.143826\n",
      "3        dual_sim     0.132239              0.132239\n",
      "10        three_g    -0.120281              0.120281\n",
      "2     clock_speed     0.098988              0.098988\n",
      "5      int_memory    -0.093072              0.093072\n",
      "4          four_g     0.081853              0.081853\n"
     ]
    }
   ],
   "source": [
    "# Get the coefficients from the model\n",
    "coefficients = log_reg.coef_[0]  # For binary classification, for multiclass use model.coef_\n",
    "\n",
    "# Create a DataFrame to associate feature names with their coefficients\n",
    "feature_importance = pd.DataFrame({\n",
    "    'Feature': X.columns,\n",
    "    'Coefficient': coefficients\n",
    "})\n",
    "\n",
    "# Take the absolute value of coefficients to sort by importance\n",
    "feature_importance['Absolute Coefficient'] = feature_importance['Coefficient'].abs()\n",
    "\n",
    "# Sort the features by the absolute value of their coefficients\n",
    "top_features = feature_importance.sort_values(by='Absolute Coefficient', ascending=False)\n",
    "\n",
    "# Display the top features\n",
    "print(top_features.head(10))  # Display top 10 features"
   ]
  },
  {
   "cell_type": "markdown",
   "metadata": {
    "id": "uzlC21kDTsg-"
   },
   "source": [
    "### Interpretation:\n",
    "- What is the top feature affecting the target variable?\n",
    "  \n",
    "- Does this contain any newly created feature variables?\n",
    "  \n",
    "\n",
    "<hr> <hr>"
   ]
  }
 ],
 "metadata": {
  "accelerator": "GPU",
  "colab": {
   "gpuType": "T4",
   "provenance": [
    {
     "file_id": "1LdsGd8t2N0U5xAJkxupCZarLwp5fHItH",
     "timestamp": 1726409127762
    }
   ]
  },
  "kernelspec": {
   "display_name": "Python 3",
   "name": "python3"
  },
  "language_info": {
   "codemirror_mode": {
    "name": "ipython",
    "version": 3
   },
   "file_extension": ".py",
   "mimetype": "text/x-python",
   "name": "python",
   "nbconvert_exporter": "python",
   "pygments_lexer": "ipython3",
   "version": "3.8.10"
  }
 },
 "nbformat": 4,
 "nbformat_minor": 0
}
