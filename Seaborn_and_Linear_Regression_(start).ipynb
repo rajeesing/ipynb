{
  "cells": [
    {
      "cell_type": "markdown",
      "metadata": {
        "id": "gltiGJhvrzaL"
      },
      "source": [
        "# Introduction\n",
        "\n",
        "Do higher film budgets lead to more box office revenue? Let's find out if there's a relationship using the movie budgets and financial performance data that I've scraped from [the-numbers.com](https://www.the-numbers.com/movie/budgets) on **May 1st, 2018**. \n",
        "\n",
        "<img src=https://i.imgur.com/kq7hrEh.png>"
      ]
    },
    {
      "cell_type": "markdown",
      "metadata": {
        "id": "zkLrvlKvtdih"
      },
      "source": [
        "# Import Statements"
      ]
    },
    {
      "cell_type": "code",
      "execution_count": 3,
      "metadata": {
        "id": "NpDk_q_Urroj"
      },
      "outputs": [],
      "source": [
        "import pandas as pd\n",
        "import matplotlib.pyplot as plt\n"
      ]
    },
    {
      "cell_type": "markdown",
      "metadata": {
        "id": "x5B-UDvXtnC6"
      },
      "source": [
        "# Notebook Presentation"
      ]
    },
    {
      "cell_type": "code",
      "execution_count": 4,
      "metadata": {
        "id": "nM_otvWztjpT"
      },
      "outputs": [],
      "source": [
        "pd.options.display.float_format = '{:,.2f}'.format\n",
        "\n",
        "from pandas.plotting import register_matplotlib_converters\n",
        "register_matplotlib_converters()"
      ]
    },
    {
      "cell_type": "markdown",
      "metadata": {
        "id": "v-fnwNYJtthe"
      },
      "source": [
        "# Read the Data"
      ]
    },
    {
      "cell_type": "code",
      "execution_count": 5,
      "metadata": {
        "id": "xhwvQQWitrf4"
      },
      "outputs": [
        {
          "name": "stdout",
          "output_type": "stream",
          "text": [
            "<class 'pandas.core.frame.DataFrame'>\n",
            "RangeIndex: 5391 entries, 0 to 5390\n",
            "Data columns (total 6 columns):\n",
            " #   Column                 Non-Null Count  Dtype \n",
            "---  ------                 --------------  ----- \n",
            " 0   Rank                   5391 non-null   int64 \n",
            " 1   Release_Date           5391 non-null   object\n",
            " 2   Movie_Title            5391 non-null   object\n",
            " 3   USD_Production_Budget  5391 non-null   object\n",
            " 4   USD_Worldwide_Gross    5391 non-null   object\n",
            " 5   USD_Domestic_Gross     5391 non-null   object\n",
            "dtypes: int64(1), object(5)\n",
            "memory usage: 252.8+ KB\n"
          ]
        },
        {
          "data": {
            "text/html": [
              "<div>\n",
              "<style scoped>\n",
              "    .dataframe tbody tr th:only-of-type {\n",
              "        vertical-align: middle;\n",
              "    }\n",
              "\n",
              "    .dataframe tbody tr th {\n",
              "        vertical-align: top;\n",
              "    }\n",
              "\n",
              "    .dataframe thead th {\n",
              "        text-align: right;\n",
              "    }\n",
              "</style>\n",
              "<table border=\"1\" class=\"dataframe\">\n",
              "  <thead>\n",
              "    <tr style=\"text-align: right;\">\n",
              "      <th></th>\n",
              "      <th>Rank</th>\n",
              "      <th>Release_Date</th>\n",
              "      <th>Movie_Title</th>\n",
              "      <th>USD_Production_Budget</th>\n",
              "      <th>USD_Worldwide_Gross</th>\n",
              "      <th>USD_Domestic_Gross</th>\n",
              "    </tr>\n",
              "  </thead>\n",
              "  <tbody>\n",
              "    <tr>\n",
              "      <th>846</th>\n",
              "      <td>956</td>\n",
              "      <td>2/8/1996</td>\n",
              "      <td>Chain Reaction</td>\n",
              "      <td>$55,000,000</td>\n",
              "      <td>$60,209,334</td>\n",
              "      <td>$21,226,204</td>\n",
              "    </tr>\n",
              "  </tbody>\n",
              "</table>\n",
              "</div>"
            ],
            "text/plain": [
              "     Rank Release_Date     Movie_Title USD_Production_Budget  \\\n",
              "846   956     2/8/1996  Chain Reaction           $55,000,000   \n",
              "\n",
              "    USD_Worldwide_Gross USD_Domestic_Gross  \n",
              "846         $60,209,334        $21,226,204  "
            ]
          },
          "execution_count": 5,
          "metadata": {},
          "output_type": "execute_result"
        }
      ],
      "source": [
        "data = pd.read_csv('cost_revenue_dirty.csv')\n",
        "data.head()\n",
        "data.info()\n",
        "data.sample()"
      ]
    },
    {
      "cell_type": "markdown",
      "metadata": {
        "id": "tbg8_J5SuHhs"
      },
      "source": [
        "# Explore and Clean the Data"
      ]
    },
    {
      "cell_type": "markdown",
      "metadata": {
        "id": "xAtdcURCuL0Z"
      },
      "source": [
        "**Challenge**: Answer these questions about the dataset:\n",
        "1. How many rows and columns does the dataset contain?\n",
        "2. Are there any NaN values present?\n",
        "3. Are there any duplicate rows?\n",
        "4. What are the data types of the columns?"
      ]
    },
    {
      "cell_type": "code",
      "execution_count": 6,
      "metadata": {
        "id": "PV3KLBSVTMDN"
      },
      "outputs": [
        {
          "name": "stdout",
          "output_type": "stream",
          "text": [
            "Total rows: 5391\n",
            "Total columns: 6\n",
            "Total Duplicates: 0\n",
            "Has NaN values: False\n",
            "Data Types: Rank                      int64\n",
            "Release_Date             object\n",
            "Movie_Title              object\n",
            "USD_Production_Budget    object\n",
            "USD_Worldwide_Gross      object\n",
            "USD_Domestic_Gross       object\n",
            "dtype: object\n",
            "Has any duplicates: False\n"
          ]
        },
        {
          "data": {
            "text/html": [
              "<div>\n",
              "<style scoped>\n",
              "    .dataframe tbody tr th:only-of-type {\n",
              "        vertical-align: middle;\n",
              "    }\n",
              "\n",
              "    .dataframe tbody tr th {\n",
              "        vertical-align: top;\n",
              "    }\n",
              "\n",
              "    .dataframe thead th {\n",
              "        text-align: right;\n",
              "    }\n",
              "</style>\n",
              "<table border=\"1\" class=\"dataframe\">\n",
              "  <thead>\n",
              "    <tr style=\"text-align: right;\">\n",
              "      <th></th>\n",
              "      <th>Rank</th>\n",
              "    </tr>\n",
              "  </thead>\n",
              "  <tbody>\n",
              "    <tr>\n",
              "      <th>count</th>\n",
              "      <td>5,391.00</td>\n",
              "    </tr>\n",
              "    <tr>\n",
              "      <th>mean</th>\n",
              "      <td>2,696.00</td>\n",
              "    </tr>\n",
              "    <tr>\n",
              "      <th>std</th>\n",
              "      <td>1,556.39</td>\n",
              "    </tr>\n",
              "    <tr>\n",
              "      <th>min</th>\n",
              "      <td>1.00</td>\n",
              "    </tr>\n",
              "    <tr>\n",
              "      <th>25%</th>\n",
              "      <td>1,348.50</td>\n",
              "    </tr>\n",
              "    <tr>\n",
              "      <th>50%</th>\n",
              "      <td>2,696.00</td>\n",
              "    </tr>\n",
              "    <tr>\n",
              "      <th>75%</th>\n",
              "      <td>4,043.50</td>\n",
              "    </tr>\n",
              "    <tr>\n",
              "      <th>max</th>\n",
              "      <td>5,391.00</td>\n",
              "    </tr>\n",
              "  </tbody>\n",
              "</table>\n",
              "</div>"
            ],
            "text/plain": [
              "          Rank\n",
              "count 5,391.00\n",
              "mean  2,696.00\n",
              "std   1,556.39\n",
              "min       1.00\n",
              "25%   1,348.50\n",
              "50%   2,696.00\n",
              "75%   4,043.50\n",
              "max   5,391.00"
            ]
          },
          "execution_count": 6,
          "metadata": {},
          "output_type": "execute_result"
        }
      ],
      "source": [
        "total_rows = data.shape[0]\n",
        "total_cols = data.shape[1]\n",
        "print(f'Total rows: {total_rows}')\n",
        "print(f'Total columns: {total_cols}')\n",
        "\n",
        "\n",
        "\n",
        "has_nan_values = data.isna().values.any()\n",
        "has_any_duplicates = data.duplicated().values.any()\n",
        "print(f\"Total Duplicates: {data.duplicated().sum()}\")\n",
        "\n",
        "print(f'Has NaN values: {has_nan_values}')\n",
        "print(f\"Data Types: {data.dtypes}\")\n",
        "print(f'Has any duplicates: {has_any_duplicates}')\n",
        "\n",
        "data.describe()"
      ]
    },
    {
      "cell_type": "markdown",
      "metadata": {
        "id": "v8spadDNvpVG"
      },
      "source": [
        "### Data Type Conversions"
      ]
    },
    {
      "cell_type": "markdown",
      "metadata": {
        "id": "9F8KFST4ulrd"
      },
      "source": [
        "**Challenge**: Convert the `USD_Production_Budget`, `USD_Worldwide_Gross`, and `USD_Domestic_Gross` columns to a numeric format by removing `$` signs and `,`. \n",
        "<br>\n",
        "<br>\n",
        "Note that *domestic* in this context refers to the United States."
      ]
    },
    {
      "cell_type": "code",
      "execution_count": 7,
      "metadata": {
        "id": "BmdCbLf-TPXk"
      },
      "outputs": [],
      "source": [
        "data[\"USD_Production_Budget\"] = data[\"USD_Production_Budget\"].str.replace(',', '').str.replace('$', '').astype('float')\n",
        "data[\"USD_Worldwide_Gross\"] = data[\"USD_Worldwide_Gross\"].str.replace(',', '').str.replace('$', '').astype('float')\n",
        "data[\"USD_Domestic_Gross\"] = data[\"USD_Domestic_Gross\"].str.replace(',', '').str.replace('$', '').astype('float')"
      ]
    },
    {
      "cell_type": "markdown",
      "metadata": {
        "id": "cA01iJHkvWhl"
      },
      "source": [
        "**Challenge**: Convert the `Release_Date` column to a Pandas Datetime type. "
      ]
    },
    {
      "cell_type": "code",
      "execution_count": 21,
      "metadata": {},
      "outputs": [
        {
          "name": "stdout",
          "output_type": "stream",
          "text": [
            "Data Types: Rank                       int64\n",
            "Release_Date              object\n",
            "Movie_Title               object\n",
            "USD_Production_Budget    float64\n",
            "USD_Worldwide_Gross      float64\n",
            "USD_Domestic_Gross       float64\n",
            "dtype: object\n"
          ]
        }
      ],
      "source": [
        "print(f\"Data Types: {data.dtypes}\")"
      ]
    },
    {
      "cell_type": "code",
      "execution_count": 8,
      "metadata": {
        "id": "Pq1WfvRnTRU6"
      },
      "outputs": [],
      "source": [
        "data[\"Release_Date\"] = pd.to_datetime(data[\"Release_Date\"])"
      ]
    },
    {
      "cell_type": "markdown",
      "metadata": {
        "id": "NkwmJO3tvt5i"
      },
      "source": [
        "### Descriptive Statistics"
      ]
    },
    {
      "cell_type": "markdown",
      "metadata": {
        "id": "bnb54thrvx5r"
      },
      "source": [
        "**Challenge**: \n",
        "\n",
        "1. What is the average production budget of the films in the data set?\n",
        "2. What is the average worldwide gross revenue of films?\n",
        "3. What were the minimums for worldwide and domestic revenue?\n",
        "4. Are the bottom 25% of films actually profitable or do they lose money?\n",
        "5. What are the highest production budget and highest worldwide gross revenue of any film?\n",
        "6. How much revenue did the lowest and highest budget films make?"
      ]
    },
    {
      "cell_type": "code",
      "execution_count": 9,
      "metadata": {
        "id": "8G5_FATFTTtb"
      },
      "outputs": [
        {
          "name": "stdout",
          "output_type": "stream",
          "text": [
            "Movie_Title\n",
            "Ben-Hur                             3\n",
            "King Kong                           3\n",
            "Home                                3\n",
            "The Birth of a Nation               2\n",
            "The Gambler                         2\n",
            "                                   ..\n",
            "Insomnia                            1\n",
            "Spirit: Stallion of the Cimarron    1\n",
            "The Importance of Being Earnest     1\n",
            "The Believer                        1\n",
            "Story of Bonnie and Clyde, The      1\n",
            "Name: count, Length: 5318, dtype: int64\n"
          ]
        }
      ],
      "source": [
        "avg_budget = data[\"USD_Production_Budget\"].mean()\n",
        "avg_worldwide_gross = data[\"USD_Worldwide_Gross\"].mean()\n",
        "min_domestic_revenue = data[\"USD_Domestic_Gross\"].sum()\n",
        "min_worldwide_revenue = data[\"USD_Worldwide_Gross\"].sum()\n",
        "\n",
        "data.describe(include = 'all')\n",
        "print(data[\"Movie_Title\"].value_counts())"
      ]
    },
    {
      "cell_type": "code",
      "execution_count": 28,
      "metadata": {},
      "outputs": [
        {
          "name": "stdout",
          "output_type": "stream",
          "text": [
            "[1, 6, 8, 15, 17, 27, 50, 66, 71, 75, 78, 120, 138, 168, 177, 198, 253, 274, 348, 351, 401, 405, 429, 439, 468, 474, 500, 502, 555, 585, 588, 635, 646, 660, 661, 699, 733, 839, 850, 892, 900, 945, 969, 979, 1044, 1045, 1049, 1052, 1059, 1075, 1076, 1080, 1090, 1112, 1113, 1141, 1145, 1211, 1219, 1223, 1228, 1231, 1254, 1272, 1279, 1284, 1306, 1335, 1371, 1384, 1412, 1417, 1430, 1431, 1437, 1471, 1494, 1501, 1511, 1521, 1560, 1579, 1602, 1655, 1666, 1667, 1675, 1684, 1692, 1745, 1751, 1773, 1775, 1789, 1819, 1866, 1916, 1917, 1938, 1953, 1954, 1971, 1984, 1991, 1995, 1999, 2028, 2042, 2043, 2052, 2063, 2069, 2081, 2097, 2113, 2117, 2121, 2147, 2155, 2156, 2157, 2189, 2211, 2228, 2244, 2254, 2296, 2301, 2309, 2310, 2360, 2365, 2371, 2374, 2375, 2393, 2396, 2405, 2408, 2409, 2410, 2412, 2439, 2443, 2452, 2457, 2462, 2465, 2492, 2498, 2503, 2512, 2513, 2514, 2520, 2521, 2528, 2539, 2546, 2579, 2580, 2581, 2585, 2587, 2601, 2602, 2611, 2625, 2630, 2631, 2641, 2656, 2663, 2675, 2688, 2696, 2700, 2702, 2711, 2715, 2720, 2727, 2728, 2740, 2747, 2748, 2755, 2766, 2782, 2783, 2796, 2810, 2816, 2835, 2838, 2842, 2843, 2847, 2871, 2873, 2883, 2902, 2905, 2920, 2921, 2929, 2930, 2936, 2939, 2940, 2963, 2966, 2968, 2976, 2982, 3000, 3001, 3002, 3003, 3009, 3015, 3053, 3054, 3055, 3056, 3068, 3072, 3074, 3115, 3121, 3130, 3136, 3141, 3151, 3154, 3175, 3176, 3198, 3209, 3217, 3235, 3238, 3244, 3256, 3258, 3259, 3269, 3271, 3274, 3288, 3307, 3309, 3310, 3311, 3312, 3313, 3317, 3338, 3342, 3352, 3366, 3388, 3394, 3409, 3410, 3412, 3413, 3414, 3421, 3432, 3439, 3460, 3480, 3483, 3498, 3499, 3517, 3543, 3544, 3545, 3546, 3547, 3548, 3549, 3550, 3551, 3552, 3553, 3561, 3562, 3563, 3573, 3575, 3576, 3588, 3597, 3607, 3612, 3635, 3644, 3649, 3654, 3665, 3675, 3690, 3691, 3708, 3722, 3726, 3728, 3729, 3745, 3750, 3763, 3773, 3813, 3814, 3815, 3816, 3817, 3818, 3819, 3820, 3821, 3822, 3827, 3828, 3829, 3834, 3838, 3858, 3884, 3885, 3896, 3899, 3909, 3912, 3918, 3924, 3940, 3955, 3956, 3957, 3958, 3963, 3969, 3970, 3978, 3989, 4012, 4025, 4026, 4027, 4032, 4039, 4046, 4067, 4068, 4070, 4071, 4072, 4075, 4076, 4077, 4083, 4095, 4109, 4110, 4112, 4114, 4121, 4122, 4123, 4130, 4139, 4140, 4150, 4162, 4163, 4169, 4171, 4189, 4195, 4218, 4226, 4229, 4230, 4236, 4246, 4255, 4262, 4283, 4297, 4298, 4299, 4300, 4301, 4302, 4303, 4304, 4305, 4317, 4318, 4323, 4330, 4332, 4336, 4342, 4348, 4355, 4364, 4368, 4369, 4372, 4383, 4384, 4386, 4390, 4408, 4409, 4410, 4414, 4419, 4426, 4430, 4436, 4440, 4447, 4448, 4454, 4458, 4463, 4483, 4484, 4492, 4506, 4528, 4529, 4530, 4531, 4532, 4533, 4534, 4535, 4536, 4537, 4538, 4553, 4575, 4584, 4585, 4588, 4596, 4598, 4609, 4611, 4615, 4617, 4620, 4624, 4625, 4632, 4636, 4642, 4647, 4648, 4652, 4656, 4657, 4658, 4663, 4667, 4672, 4673, 4678, 4679, 4683, 4684, 4689, 4690, 4705, 4706, 4707, 4711, 4714, 4715, 4716, 4721, 4722, 4725, 4726, 4727, 4733, 4735, 4736, 4740, 4743, 4747, 4749, 4750, 4766, 4767, 4768, 4769, 4770, 4771, 4772, 4773, 4774, 4775, 4776, 4777, 4778, 4779, 4780, 4781, 4782, 4783, 4784, 4785, 4786, 4787, 4794, 4795, 4798, 4799, 4800, 4801, 4802, 4808, 4814, 4820, 4826, 4827, 4828, 4834, 4835, 4838, 4839, 4840, 4841, 4842, 4843, 4846, 4852, 4854, 4855, 4856, 4861, 4862, 4863, 4867, 4868, 4871, 4872, 4876, 4877, 4880, 4882, 4883, 4884, 4885, 4891, 4894, 4899, 4904, 4905, 4907, 4911, 4912, 4919, 4923, 4924, 4930, 4932, 4936, 4938, 4939, 4940, 4947, 4953, 4957, 4958, 4962, 4963, 4964, 4965, 4969, 4971, 4975, 4976, 4978, 4982, 4986, 4987, 4991, 4997, 5000, 5002, 5003, 5004, 5005, 5006, 5007, 5009, 5010, 5013, 5014, 5015, 5016, 5019, 5020, 5026, 5027, 5028, 5029, 5035, 5036, 5040, 5041, 5042, 5043, 5044, 5051, 5052, 5060, 5061, 5072, 5073, 5082, 5083, 5098, 5099, 5100, 5101, 5103, 5104, 5105, 5106, 5107, 5108, 5109, 5110, 5111, 5112, 5113, 5114, 5115, 5116, 5117, 5127, 5128, 5138, 5141, 5142, 5155, 5157, 5167, 5178, 5181, 5193, 5224, 5227, 5230, 5256, 5268, 5306, 5307, 5308, 5316, 5328, 5360, 5371, 5374]\n"
          ]
        }
      ],
      "source": [
        "bottom25_threshold = data[\"USD_Production_Budget\"].quantile(0.25)\n",
        "bottom25 = data[data[\"USD_Production_Budget\"] <= bottom25_threshold]\n",
        "#print(bottom25)\n",
        "\n",
        "#data.info()\n",
        "\n",
        "profitable = [index for index, series in bottom25.iterrows() if series['USD_Production_Budget'] > (series['USD_Worldwide_Gross'] + series['USD_Domestic_Gross'])]\n",
        "\n",
        "#print(f\"Profit/Loss: {bottom25['USD_Production_Budget'].sum() - (bottom25['USD_Worldwide_Gross'].sum()+data['USD_Domestic_Gross'].sum())}\")\n",
        "print(profitable)"
      ]
    },
    {
      "cell_type": "markdown",
      "metadata": {
        "id": "Cj-ug32JyEhp"
      },
      "source": [
        "# Investigating the Zero Revenue Films"
      ]
    },
    {
      "cell_type": "markdown",
      "metadata": {
        "id": "U9hm-pb4xTjY"
      },
      "source": [
        "**Challenge** How many films grossed $0 domestically (i.e., in the United States)? What were the highest budget films that grossed nothing?"
      ]
    },
    {
      "cell_type": "code",
      "execution_count": 33,
      "metadata": {
        "id": "MXuRYdy0TWkt"
      },
      "outputs": [
        {
          "name": "stdout",
          "output_type": "stream",
          "text": [
            "      Rank Release_Date                         Movie_Title  \\\n",
            "5388    96   2020-12-31                         Singularity   \n",
            "5387   126   2018-12-18                             Aquaman   \n",
            "5384   321   2018-09-03                   A Wrinkle in Time   \n",
            "5385   366   2018-10-08                      Amusement Park   \n",
            "5090   556   2015-12-31  Don Gato, el inicio de la pandilla   \n",
            "...    ...          ...                                 ...   \n",
            "4787  5371   2014-12-31                Stories of Our Lives   \n",
            "3056  5374   2007-12-31                         Tin Can Man   \n",
            "4907  5381   2015-05-19                    Family Motocross   \n",
            "5006  5389   2015-09-29             Signed Sealed Delivered   \n",
            "5007  5390   2015-09-29                A Plague So Pleasant   \n",
            "\n",
            "      USD_Production_Budget  USD_Worldwide_Gross  USD_Domestic_Gross  \n",
            "5388         175,000,000.00                 0.00                0.00  \n",
            "5387         160,000,000.00                 0.00                0.00  \n",
            "5384         103,000,000.00                 0.00                0.00  \n",
            "5385         100,000,000.00                 0.00                0.00  \n",
            "5090          80,000,000.00         4,547,660.00                0.00  \n",
            "...                     ...                  ...                 ...  \n",
            "4787              15,000.00                 0.00                0.00  \n",
            "3056              12,000.00                 0.00                0.00  \n",
            "4907              10,000.00                 0.00                0.00  \n",
            "5006               5,000.00                 0.00                0.00  \n",
            "5007               1,400.00                 0.00                0.00  \n",
            "\n",
            "[512 rows x 6 columns]\n"
          ]
        }
      ],
      "source": [
        "zero_rev_movies_in_us = data[data[\"USD_Domestic_Gross\"] == 0].sort_values(\"USD_Production_Budget\", ascending=False)\n",
        "print(zero_rev_movies_in_us)"
      ]
    },
    {
      "cell_type": "markdown",
      "metadata": {
        "id": "mY8SAwI0x73b"
      },
      "source": [
        "**Challenge**: How many films grossed $0 worldwide? What are the highest budget films that had no revenue internationally?"
      ]
    },
    {
      "cell_type": "code",
      "execution_count": 42,
      "metadata": {
        "id": "VpfocexxTXym"
      },
      "outputs": [
        {
          "name": "stdout",
          "output_type": "stream",
          "text": [
            "Empty DataFrame\n",
            "Columns: [Rank, Release_Date, Movie_Title, USD_Production_Budget, USD_Worldwide_Gross, USD_Domestic_Gross]\n",
            "Index: []\n"
          ]
        }
      ],
      "source": [
        "max_budget = data[\"USD_Production_Budget\"].max()\n",
        "zero_rev_movies_in_ww = data[(data[\"USD_Worldwide_Gross\"] == 0) & (data[\"USD_Production_Budget\"] == max_budget)]\n",
        "print(zero_rev_movies_in_ww)"
      ]
    },
    {
      "cell_type": "markdown",
      "metadata": {
        "id": "eXUDzWpeyV2f"
      },
      "source": [
        "### Filtering on Multiple Conditions"
      ]
    },
    {
      "cell_type": "code",
      "execution_count": 44,
      "metadata": {
        "id": "dLd3eeD9TZZ9"
      },
      "outputs": [
        {
          "name": "stdout",
          "output_type": "stream",
          "text": [
            "      Rank Release_Date                       Movie_Title  \\\n",
            "0     5293   1915-08-02             The Birth of a Nation   \n",
            "2     5230   1916-12-24      20,000 Leagues Under the Sea   \n",
            "3     5299   1920-09-17    Over the Hill to the Poorhouse   \n",
            "4     5222   1925-01-01                    The Big Parade   \n",
            "5     4250   1925-12-30                           Ben-Hur   \n",
            "...    ...          ...                               ...   \n",
            "5378   914   2017-10-02               Fifty Shades Darker   \n",
            "5379  1295   2017-10-02            John Wick: Chapter Two   \n",
            "5380    70   2017-10-03                Kong: Skull Island   \n",
            "5381    94   2017-12-05  King Arthur: Legend of the Sword   \n",
            "5382  1254   2017-12-05                          Snatched   \n",
            "\n",
            "      USD_Production_Budget  USD_Worldwide_Gross  USD_Domestic_Gross  \n",
            "0                110,000.00        11,000,000.00       10,000,000.00  \n",
            "2                200,000.00         8,000,000.00        8,000,000.00  \n",
            "3                100,000.00         3,000,000.00        3,000,000.00  \n",
            "4                245,000.00        22,000,000.00       11,000,000.00  \n",
            "5              3,900,000.00         9,000,000.00        9,000,000.00  \n",
            "...                     ...                  ...                 ...  \n",
            "5378          55,000,000.00       376,856,949.00      114,434,010.00  \n",
            "5379          40,000,000.00       166,893,990.00       92,029,184.00  \n",
            "5380         185,000,000.00       561,137,727.00      168,052,812.00  \n",
            "5381         175,000,000.00       140,012,608.00       39,175,066.00  \n",
            "5382          42,000,000.00        57,850,343.00       45,850,343.00  \n",
            "\n",
            "[5034 rows x 6 columns]\n"
          ]
        }
      ],
      "source": [
        "subset = data.query('USD_Production_Budget < 1000000000 and USD_Worldwide_Gross > 0')\n",
        "print(subset)"
      ]
    },
    {
      "cell_type": "markdown",
      "metadata": {
        "id": "YruPjqLVPuiB"
      },
      "source": [
        "**Challenge**: Use the [`.query()` function](https://pandas.pydata.org/pandas-docs/stable/reference/api/pandas.DataFrame.query.html) to accomplish the same thing. Create a subset for international releases that had some worldwide gross revenue, but made zero revenue in the United States. \n",
        "\n",
        "Hint: This time you'll have to use the `and` keyword."
      ]
    },
    {
      "cell_type": "code",
      "execution_count": 45,
      "metadata": {
        "id": "Xvu-jTCwTavg"
      },
      "outputs": [
        {
          "name": "stdout",
          "output_type": "stream",
          "text": [
            "      Rank Release_Date              Movie_Title  USD_Production_Budget  \\\n",
            "71    4310   1956-02-16                 Carousel           3,380,000.00   \n",
            "1579  5087   2001-02-11  Everything Put Together             500,000.00   \n",
            "1744  3695   2001-12-31                 The Hole           7,500,000.00   \n",
            "2155  4236   2003-12-31                  Nothing           4,000,000.00   \n",
            "2203  2513   2004-03-31                The Touch          20,000,000.00   \n",
            "...    ...          ...                      ...                    ...   \n",
            "5340  1506   2017-04-14      Queen of the Desert          36,000,000.00   \n",
            "5348  2225   2017-05-05        Chāi dàn zhuānjiā          23,000,000.00   \n",
            "5360  4832   2017-07-03                Departure           1,100,000.00   \n",
            "5372  1856   2017-08-25                Ballerina          30,000,000.00   \n",
            "5374  4237   2017-08-25     Polina danser sa vie           4,000,000.00   \n",
            "\n",
            "      USD_Worldwide_Gross  USD_Domestic_Gross  \n",
            "71               3,220.00                0.00  \n",
            "1579             7,890.00                0.00  \n",
            "1744        10,834,406.00                0.00  \n",
            "2155            63,180.00                0.00  \n",
            "2203         5,918,742.00                0.00  \n",
            "...                   ...                 ...  \n",
            "5340         1,480,089.00                0.00  \n",
            "5348        58,807,172.00                0.00  \n",
            "5360            27,561.00                0.00  \n",
            "5372        48,048,527.00                0.00  \n",
            "5374            36,630.00                0.00  \n",
            "\n",
            "[155 rows x 6 columns]\n"
          ]
        }
      ],
      "source": [
        "subset1 = data.query('USD_Domestic_Gross  == 0 and USD_Worldwide_Gross > 0')\n",
        "print(subset1)"
      ]
    },
    {
      "cell_type": "markdown",
      "metadata": {
        "id": "EM-FTE4OZhfr"
      },
      "source": [
        "### Unreleased Films\n",
        "\n",
        "**Challenge**:\n",
        "* Identify which films were not released yet as of the time of data collection (May 1st, 2018).\n",
        "* How many films are included in the dataset that have not yet had a chance to be screened in the box office? \n",
        "* Create another DataFrame called data_clean that does not include these films. "
      ]
    },
    {
      "cell_type": "code",
      "execution_count": null,
      "metadata": {
        "id": "PIukYVY9Zpxu"
      },
      "outputs": [],
      "source": [
        "# Date of Data Collection\n",
        "scrape_date = pd.Timestamp('2018-5-1')"
      ]
    },
    {
      "cell_type": "code",
      "execution_count": 46,
      "metadata": {
        "id": "OAI0VsM3Tc6v"
      },
      "outputs": [
        {
          "data": {
            "text/html": [
              "<div>\n",
              "<style scoped>\n",
              "    .dataframe tbody tr th:only-of-type {\n",
              "        vertical-align: middle;\n",
              "    }\n",
              "\n",
              "    .dataframe tbody tr th {\n",
              "        vertical-align: top;\n",
              "    }\n",
              "\n",
              "    .dataframe thead th {\n",
              "        text-align: right;\n",
              "    }\n",
              "</style>\n",
              "<table border=\"1\" class=\"dataframe\">\n",
              "  <thead>\n",
              "    <tr style=\"text-align: right;\">\n",
              "      <th></th>\n",
              "      <th>Rank</th>\n",
              "      <th>Release_Date</th>\n",
              "      <th>Movie_Title</th>\n",
              "      <th>USD_Production_Budget</th>\n",
              "      <th>USD_Worldwide_Gross</th>\n",
              "      <th>USD_Domestic_Gross</th>\n",
              "    </tr>\n",
              "  </thead>\n",
              "  <tbody>\n",
              "    <tr>\n",
              "      <th>4661</th>\n",
              "      <td>2842</td>\n",
              "      <td>2014-08-22</td>\n",
              "      <td>When the Game Stands Tall</td>\n",
              "      <td>15,000,000.00</td>\n",
              "      <td>30,138,912.00</td>\n",
              "      <td>30,127,963.00</td>\n",
              "    </tr>\n",
              "    <tr>\n",
              "      <th>3977</th>\n",
              "      <td>3171</td>\n",
              "      <td>2011-09-12</td>\n",
              "      <td>Young Adult</td>\n",
              "      <td>12,000,000.00</td>\n",
              "      <td>22,750,356.00</td>\n",
              "      <td>16,311,571.00</td>\n",
              "    </tr>\n",
              "    <tr>\n",
              "      <th>256</th>\n",
              "      <td>1691</td>\n",
              "      <td>1979-08-15</td>\n",
              "      <td>Apocalypse Now</td>\n",
              "      <td>31,500,000.00</td>\n",
              "      <td>81,250,488.00</td>\n",
              "      <td>78,800,000.00</td>\n",
              "    </tr>\n",
              "    <tr>\n",
              "      <th>1173</th>\n",
              "      <td>1884</td>\n",
              "      <td>1998-11-20</td>\n",
              "      <td>The Rugrats Movie</td>\n",
              "      <td>28,000,000.00</td>\n",
              "      <td>140,894,685.00</td>\n",
              "      <td>100,494,685.00</td>\n",
              "    </tr>\n",
              "    <tr>\n",
              "      <th>4839</th>\n",
              "      <td>5260</td>\n",
              "      <td>2015-02-27</td>\n",
              "      <td>Butterfly Girl</td>\n",
              "      <td>180,000.00</td>\n",
              "      <td>17,503.00</td>\n",
              "      <td>17,503.00</td>\n",
              "    </tr>\n",
              "  </tbody>\n",
              "</table>\n",
              "</div>"
            ],
            "text/plain": [
              "      Rank Release_Date                Movie_Title  USD_Production_Budget  \\\n",
              "4661  2842   2014-08-22  When the Game Stands Tall          15,000,000.00   \n",
              "3977  3171   2011-09-12                Young Adult          12,000,000.00   \n",
              "256   1691   1979-08-15             Apocalypse Now          31,500,000.00   \n",
              "1173  1884   1998-11-20          The Rugrats Movie          28,000,000.00   \n",
              "4839  5260   2015-02-27             Butterfly Girl             180,000.00   \n",
              "\n",
              "      USD_Worldwide_Gross  USD_Domestic_Gross  \n",
              "4661        30,138,912.00       30,127,963.00  \n",
              "3977        22,750,356.00       16,311,571.00  \n",
              "256         81,250,488.00       78,800,000.00  \n",
              "1173       140,894,685.00      100,494,685.00  \n",
              "4839            17,503.00           17,503.00  "
            ]
          },
          "execution_count": 46,
          "metadata": {},
          "output_type": "execute_result"
        }
      ],
      "source": [
        "data.sample(5)"
      ]
    },
    {
      "cell_type": "markdown",
      "metadata": {
        "id": "khrJcXlGZWZO"
      },
      "source": [
        "### Films that Lost Money\n",
        "\n",
        "**Challenge**: \n",
        "What is the percentage of films where the production costs exceeded the worldwide gross revenue? "
      ]
    },
    {
      "cell_type": "code",
      "execution_count": null,
      "metadata": {
        "id": "7uW_U9StTgvZ"
      },
      "outputs": [],
      "source": []
    },
    {
      "cell_type": "markdown",
      "metadata": {
        "id": "cfJUL3WwyiDy"
      },
      "source": [
        "# Seaborn for Data Viz: Bubble Charts"
      ]
    },
    {
      "cell_type": "code",
      "execution_count": null,
      "metadata": {
        "id": "YXa3bp1uTiSS"
      },
      "outputs": [],
      "source": []
    },
    {
      "cell_type": "markdown",
      "metadata": {
        "id": "e7NIOiL2y3en"
      },
      "source": [
        "### Plotting Movie Releases over Time\n",
        "\n",
        "**Challenge**: Try to create the following Bubble Chart:\n",
        "\n",
        "<img src=https://i.imgur.com/8fUn9T6.png>\n",
        "\n"
      ]
    },
    {
      "cell_type": "code",
      "execution_count": null,
      "metadata": {
        "id": "OT0D-i3HTmsB"
      },
      "outputs": [],
      "source": []
    },
    {
      "cell_type": "markdown",
      "metadata": {
        "id": "r_2hFz9py84b"
      },
      "source": [
        "# Converting Years to Decades Trick\n",
        "\n",
        "**Challenge**: Create a column in `data_clean` that has the decade of the release. \n",
        "\n",
        "<img src=https://i.imgur.com/0VEfagw.png width=650> \n",
        "\n",
        "Here's how: \n",
        "1. Create a [`DatetimeIndex` object](https://pandas.pydata.org/pandas-docs/stable/reference/api/pandas.DatetimeIndex.html) from the Release_Date column. \n",
        "2. Grab all the years from the `DatetimeIndex` object using the `.year` property.\n",
        "<img src=https://i.imgur.com/5m06Ach.png width=650>\n",
        "3. Use floor division `//` to convert the year data to the decades of the films.\n",
        "4. Add the decades as a `Decade` column to the `data_clean` DataFrame."
      ]
    },
    {
      "cell_type": "code",
      "execution_count": null,
      "metadata": {
        "id": "lak08IPMTn-j"
      },
      "outputs": [],
      "source": []
    },
    {
      "cell_type": "markdown",
      "metadata": {
        "id": "q-X7NK_9zIz9"
      },
      "source": [
        "### Separate the \"old\" (before 1969) and \"New\" (1970s onwards) Films\n",
        "\n",
        "**Challenge**: Create two new DataFrames: `old_films` and `new_films`\n",
        "* `old_films` should include all the films before 1969 (up to and including 1969)\n",
        "* `new_films` should include all the films from 1970 onwards\n",
        "* How many films were released prior to 1970?\n",
        "* What was the most expensive film made prior to 1970?"
      ]
    },
    {
      "cell_type": "code",
      "execution_count": null,
      "metadata": {
        "id": "qe93nMcBTqQz"
      },
      "outputs": [],
      "source": []
    },
    {
      "cell_type": "markdown",
      "metadata": {
        "id": "msXABzF3zW7e"
      },
      "source": [
        "# Seaborn Regression Plots"
      ]
    },
    {
      "cell_type": "code",
      "execution_count": null,
      "metadata": {
        "id": "2ajPcWMJTsom"
      },
      "outputs": [],
      "source": []
    },
    {
      "cell_type": "markdown",
      "metadata": {
        "id": "6k4MeLmxWFwX"
      },
      "source": [
        "**Challenge**: Use Seaborn's `.regplot()` to show the scatter plot and linear regression line against the `new_films`. \n",
        "<br>\n",
        "<br>\n",
        "Style the chart\n",
        "\n",
        "* Put the chart on a `'darkgrid'`.\n",
        "* Set limits on the axes so that they don't show negative values.\n",
        "* Label the axes on the plot \"Revenue in \\$ billions\" and \"Budget in \\$ millions\".\n",
        "* Provide HEX colour codes for the plot and the regression line. Make the dots dark blue (#2f4b7c) and the line orange (#ff7c43).\n",
        "\n",
        "Interpret the chart\n",
        "\n",
        "* Do our data points for the new films align better or worse with the linear regression than for our older films?\n",
        "* Roughly how much would a film with a budget of $150 million make according to the regression line?"
      ]
    },
    {
      "cell_type": "code",
      "execution_count": null,
      "metadata": {
        "id": "6cOVsxqvTui2"
      },
      "outputs": [],
      "source": []
    },
    {
      "cell_type": "markdown",
      "metadata": {
        "id": "Q1SUPPMAzlVK"
      },
      "source": [
        "# Run Your Own Regression with scikit-learn\n",
        "\n",
        "$$ REV \\hat ENUE = \\theta _0 + \\theta _1 BUDGET$$"
      ]
    },
    {
      "cell_type": "code",
      "execution_count": null,
      "metadata": {
        "id": "QmX-wMMLTwBW"
      },
      "outputs": [],
      "source": []
    },
    {
      "cell_type": "markdown",
      "metadata": {
        "id": "o23E9iT1RHQ1"
      },
      "source": [
        "**Challenge**: Run a linear regression for the `old_films`. Calculate the intercept, slope and r-squared. How much of the variance in movie revenue does the linear model explain in this case?"
      ]
    },
    {
      "cell_type": "code",
      "execution_count": null,
      "metadata": {
        "id": "Sd43DJNDT0yQ"
      },
      "outputs": [],
      "source": []
    },
    {
      "cell_type": "code",
      "execution_count": null,
      "metadata": {
        "id": "ygKsLBx5Rs7t"
      },
      "outputs": [],
      "source": []
    },
    {
      "cell_type": "markdown",
      "metadata": {
        "id": "hoD3PeG75p78"
      },
      "source": [
        "# Use Your Model to Make a Prediction\n",
        "\n",
        "We just estimated the slope and intercept! Remember that our Linear Model has the following form:\n",
        "\n",
        "$$ REV \\hat ENUE = \\theta _0 + \\theta _1 BUDGET$$\n",
        "\n",
        "**Challenge**:  How much global revenue does our model estimate for a film with a budget of $350 million? "
      ]
    },
    {
      "cell_type": "code",
      "execution_count": null,
      "metadata": {
        "id": "fX4I4h5i5rgF"
      },
      "outputs": [],
      "source": []
    },
    {
      "cell_type": "code",
      "execution_count": null,
      "metadata": {
        "id": "fB2Yp8ln5qfO"
      },
      "outputs": [],
      "source": []
    }
  ],
  "metadata": {
    "colab": {
      "name": "Seaborn and Linear Regression (start).ipynb",
      "provenance": []
    },
    "kernelspec": {
      "display_name": "Python 3",
      "name": "python3"
    },
    "language_info": {
      "codemirror_mode": {
        "name": "ipython",
        "version": 3
      },
      "file_extension": ".py",
      "mimetype": "text/x-python",
      "name": "python",
      "nbconvert_exporter": "python",
      "pygments_lexer": "ipython3",
      "version": "3.8.10"
    }
  },
  "nbformat": 4,
  "nbformat_minor": 0
}
